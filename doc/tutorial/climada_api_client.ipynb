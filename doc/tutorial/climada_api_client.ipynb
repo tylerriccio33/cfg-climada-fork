{
 "cells": [
  {
   "cell_type": "markdown",
   "metadata": {},
   "source": [
    "# Data API\n",
    "\n",
    "## Server\n",
    "There is a CLIMADA data file server on https://data.iac.ethz.ch that can be accessed via a REST API on https://climada.ethz.ch.\n",
    "For REST API details, see the [documentation](https:/climada.ethz.ch/rest/docs)."
   ]
  },
  {
   "cell_type": "markdown",
   "metadata": {},
   "source": [
    "## Client\n",
    "\n",
    "For programmatical access to the CLIMADA data API there is a specific Python REST call wrapper available: `climada.util.client.Client`."
   ]
  },
  {
   "cell_type": "code",
   "execution_count": 1,
   "metadata": {},
   "outputs": [
    {
     "name": "stdout",
     "output_type": "stream",
     "text": [
      "Object `Client` not found.\n"
     ]
    }
   ],
   "source": [
    "Client?"
   ]
  },
  {
   "cell_type": "code",
   "execution_count": 2,
   "metadata": {},
   "outputs": [
    {
     "data": {
      "text/plain": [
       "('https://climada.ethz.ch', 8192)"
      ]
     },
     "execution_count": 2,
     "metadata": {},
     "output_type": "execute_result"
    }
   ],
   "source": [
    "from climada.util.api_client import Client, DataTypeInfo\n",
    "client = Client()\n",
    "client.host, client.chunk_size"
   ]
  },
  {
   "cell_type": "markdown",
   "metadata": {},
   "source": [
    "The url to the API server and the chunk size for the file download can be configured in 'climada.conf'. Just replace the corresponding default values:\n",
    "\n",
    "```json\n",
    "    \"data_api\": {\n",
    "        \"host\": \"https://climada.ethz.ch\",\n",
    "        \"chunk_size\": 8192,\n",
    "        \"cache_db\": \"{local_data.system}/.downloads.db\"\n",
    "    }\n",
    "```\n",
    "\n",
    "The other configuration value affecting the data_api client, `cache_db`, is the path to an SQLite database file, which is keeping track of the files that are successfully downloaded from the api server. Before the Client attempts to download any file from the server, it checks whether the file has been downloaded before and if so, whether the previously downloaded file still looks good (i.e., size and time stamp are as expected). If all of this is the case, the file is simply read from disk without submitting another request."
   ]
  },
  {
   "cell_type": "markdown",
   "metadata": {},
   "source": [
    "The main methods of the client are `get_dataset`, `get_datasets` and `download_dataset`. The first two return meta-data about one ore more datasets and the latter downloads all files associated to a dataset.\n",
    "\n",
    "The signature of `get_dataset` and `get_datasets` are almost identical. Both take `data_type`, `name`, `version`, `properties` and `status` as optional arguments.\n",
    "The difference is in the default value of the `status` (\"active\" vs. `None`) and the return type: `get_datasets` returns a list of `DatasetInfo` objects, which may me empty, whereas `get_dataset` returns a single `DatasetInfo` object - or raises an Exception if the arguments provided don't allow a positive identification of the dataset."
   ]
  },
  {
   "cell_type": "code",
   "execution_count": 3,
   "metadata": {},
   "outputs": [
    {
     "data": {
      "text/plain": [
       "\u001b[1;31mSignature:\u001b[0m\n",
       "\u001b[0mclient\u001b[0m\u001b[1;33m.\u001b[0m\u001b[0mget_datasets\u001b[0m\u001b[1;33m(\u001b[0m\u001b[1;33m\n",
       "\u001b[0m    \u001b[0mdata_type\u001b[0m\u001b[1;33m=\u001b[0m\u001b[1;32mNone\u001b[0m\u001b[1;33m,\u001b[0m\u001b[1;33m\n",
       "\u001b[0m    \u001b[0mname\u001b[0m\u001b[1;33m=\u001b[0m\u001b[1;32mNone\u001b[0m\u001b[1;33m,\u001b[0m\u001b[1;33m\n",
       "\u001b[0m    \u001b[0mversion\u001b[0m\u001b[1;33m=\u001b[0m\u001b[1;32mNone\u001b[0m\u001b[1;33m,\u001b[0m\u001b[1;33m\n",
       "\u001b[0m    \u001b[0mproperties\u001b[0m\u001b[1;33m=\u001b[0m\u001b[1;32mNone\u001b[0m\u001b[1;33m,\u001b[0m\u001b[1;33m\n",
       "\u001b[0m    \u001b[0mstatus\u001b[0m\u001b[1;33m=\u001b[0m\u001b[1;34m'active'\u001b[0m\u001b[1;33m,\u001b[0m\u001b[1;33m\n",
       "\u001b[0m\u001b[1;33m)\u001b[0m\u001b[1;33m\u001b[0m\u001b[1;33m\u001b[0m\u001b[0m\n",
       "\u001b[1;31mDocstring:\u001b[0m\n",
       "Find all datasets matching the given parameters.\n",
       "\n",
       "Parameters\n",
       "----------\n",
       "data_type : str, optional\n",
       "    data_type of the dataset, e.g., 'litpop' or 'draught'\n",
       "name : str, optional\n",
       "    the name of the dataset\n",
       "version : str, optional\n",
       "    the version of the dataset\n",
       "properties : dict, optional\n",
       "    search parameters for dataset properties, by default None\n",
       "status : str, optional\n",
       "    valid values are 'preliminary', 'active', 'expired', and 'test_dataset',\n",
       "    by default 'active'\n",
       "\n",
       "Returns\n",
       "-------\n",
       "list of DatasetInfo\n",
       "\u001b[1;31mFile:\u001b[0m      c:\\users\\me\\www\\climada_python\\climada\\util\\api_client.py\n",
       "\u001b[1;31mType:\u001b[0m      method\n"
      ]
     },
     "metadata": {},
     "output_type": "display_data"
    }
   ],
   "source": [
    "client.get_datasets?"
   ]
  },
  {
   "cell_type": "markdown",
   "metadata": {
    "tags": []
   },
   "source": [
    "## Search\n",
    "If the identity of a dataset is not knwon from the beginning it may be convenient to collect a meaningful preselection in a data frame.\n",
    "\n",
    "Let's suppose we have to write a test that involves reading a .netcdf file with tracks and we want to know whether there is a suitable test file availble.\\\n",
    "First we get the meta data of all 'test_datasets':"
   ]
  },
  {
   "cell_type": "code",
   "execution_count": 18,
   "metadata": {},
   "outputs": [
    {
     "data": {
      "text/html": [
       "<div>\n",
       "<style scoped>\n",
       "    .dataframe tbody tr th:only-of-type {\n",
       "        vertical-align: middle;\n",
       "    }\n",
       "\n",
       "    .dataframe tbody tr th {\n",
       "        vertical-align: top;\n",
       "    }\n",
       "\n",
       "    .dataframe thead th {\n",
       "        text-align: right;\n",
       "    }\n",
       "</style>\n",
       "<table border=\"1\" class=\"dataframe\">\n",
       "  <thead>\n",
       "    <tr style=\"text-align: right;\">\n",
       "      <th></th>\n",
       "      <th>uuid</th>\n",
       "      <th>data_type</th>\n",
       "      <th>name</th>\n",
       "      <th>version</th>\n",
       "      <th>status</th>\n",
       "      <th>properties</th>\n",
       "      <th>files</th>\n",
       "      <th>doi</th>\n",
       "      <th>description</th>\n",
       "      <th>license</th>\n",
       "      <th>activation_date</th>\n",
       "      <th>expiration_date</th>\n",
       "    </tr>\n",
       "  </thead>\n",
       "  <tbody>\n",
       "    <tr>\n",
       "      <th>0</th>\n",
       "      <td>f8cc4d68-1cd2-4639-8c17-3d8e76b3fe89</td>\n",
       "      <td>{'data_type': 'tracks', 'data_type_group': 'ha...</td>\n",
       "      <td>1988234N13299</td>\n",
       "      <td>v1</td>\n",
       "      <td>test_dataset</td>\n",
       "      <td>{}</td>\n",
       "      <td>[{'uuid': 'f8cc4d68-1cd2-4639-8c17-3d8e76b3fe8...</td>\n",
       "      <td>None</td>\n",
       "      <td>None</td>\n",
       "      <td>Attribution 4.0 International (CC BY 4.0)</td>\n",
       "      <td>None</td>\n",
       "      <td>None</td>\n",
       "    </tr>\n",
       "    <tr>\n",
       "      <th>1</th>\n",
       "      <td>1352b6ea-1f75-4cea-9003-45c5d16a208f</td>\n",
       "      <td>{'data_type': 'tracks', 'data_type_group': 'ha...</td>\n",
       "      <td>ibtracs_global_intp-None_1992230N11325</td>\n",
       "      <td>v1</td>\n",
       "      <td>test_dataset</td>\n",
       "      <td>{}</td>\n",
       "      <td>[{'uuid': '1352b6ea-1f75-4cea-9003-45c5d16a208...</td>\n",
       "      <td>None</td>\n",
       "      <td>None</td>\n",
       "      <td>Attribution 4.0 International (CC BY 4.0)</td>\n",
       "      <td>None</td>\n",
       "      <td>None</td>\n",
       "    </tr>\n",
       "    <tr>\n",
       "      <th>2</th>\n",
       "      <td>625874c2-8323-472c-baa0-3f5ce2d61b8a</td>\n",
       "      <td>{'data_type': 'tracks', 'data_type_group': 'ha...</td>\n",
       "      <td>tracks_antimeridian</td>\n",
       "      <td>v1</td>\n",
       "      <td>test_dataset</td>\n",
       "      <td>{}</td>\n",
       "      <td>[{'uuid': '625874c2-8323-472c-baa0-3f5ce2d61b8...</td>\n",
       "      <td>None</td>\n",
       "      <td>None</td>\n",
       "      <td>Attribution 4.0 International (CC BY 4.0)</td>\n",
       "      <td>None</td>\n",
       "      <td>None</td>\n",
       "    </tr>\n",
       "  </tbody>\n",
       "</table>\n",
       "</div>"
      ],
      "text/plain": [
       "                                   uuid  \\\n",
       "0  f8cc4d68-1cd2-4639-8c17-3d8e76b3fe89   \n",
       "1  1352b6ea-1f75-4cea-9003-45c5d16a208f   \n",
       "2  625874c2-8323-472c-baa0-3f5ce2d61b8a   \n",
       "\n",
       "                                           data_type  \\\n",
       "0  {'data_type': 'tracks', 'data_type_group': 'ha...   \n",
       "1  {'data_type': 'tracks', 'data_type_group': 'ha...   \n",
       "2  {'data_type': 'tracks', 'data_type_group': 'ha...   \n",
       "\n",
       "                                     name version        status properties  \\\n",
       "0                           1988234N13299      v1  test_dataset         {}   \n",
       "1  ibtracs_global_intp-None_1992230N11325      v1  test_dataset         {}   \n",
       "2                     tracks_antimeridian      v1  test_dataset         {}   \n",
       "\n",
       "                                               files   doi description  \\\n",
       "0  [{'uuid': 'f8cc4d68-1cd2-4639-8c17-3d8e76b3fe8...  None        None   \n",
       "1  [{'uuid': '1352b6ea-1f75-4cea-9003-45c5d16a208...  None        None   \n",
       "2  [{'uuid': '625874c2-8323-472c-baa0-3f5ce2d61b8...  None        None   \n",
       "\n",
       "                                     license activation_date expiration_date  \n",
       "0  Attribution 4.0 International (CC BY 4.0)            None            None  \n",
       "1  Attribution 4.0 International (CC BY 4.0)            None            None  \n",
       "2  Attribution 4.0 International (CC BY 4.0)            None            None  "
      ]
     },
     "execution_count": 18,
     "metadata": {},
     "output_type": "execute_result"
    }
   ],
   "source": [
    "import pandas as pd\n",
    "test_datasets = client.get_datasets(status='test_dataset', data_type='tracks')\n",
    "\n",
    "ds_df = pd.DataFrame(test_datasets)\n",
    "ds_df.head()"
   ]
  },
  {
   "cell_type": "markdown",
   "metadata": {},
   "source": [
    "Then we build a data frame of files to look for the 'netcdf' format:"
   ]
  },
  {
   "cell_type": "code",
   "execution_count": 19,
   "metadata": {},
   "outputs": [
    {
     "data": {
      "text/html": [
       "<div>\n",
       "<style scoped>\n",
       "    .dataframe tbody tr th:only-of-type {\n",
       "        vertical-align: middle;\n",
       "    }\n",
       "\n",
       "    .dataframe tbody tr th {\n",
       "        vertical-align: top;\n",
       "    }\n",
       "\n",
       "    .dataframe thead th {\n",
       "        text-align: right;\n",
       "    }\n",
       "</style>\n",
       "<table border=\"1\" class=\"dataframe\">\n",
       "  <thead>\n",
       "    <tr style=\"text-align: right;\">\n",
       "      <th></th>\n",
       "      <th>uuid</th>\n",
       "      <th>url</th>\n",
       "      <th>file_name</th>\n",
       "      <th>file_format</th>\n",
       "      <th>file_size</th>\n",
       "      <th>check_sum</th>\n",
       "    </tr>\n",
       "  </thead>\n",
       "  <tbody>\n",
       "    <tr>\n",
       "      <th>0</th>\n",
       "      <td>f8cc4d68-1cd2-4639-8c17-3d8e76b3fe89</td>\n",
       "      <td>https://data.iac.ethz.ch/climada/f8cc4d68-1cd2...</td>\n",
       "      <td>1988234N13299.nc</td>\n",
       "      <td>netcdf</td>\n",
       "      <td>16278</td>\n",
       "      <td>md5:448d6c94a3d691682baf6ab38d431fb1</td>\n",
       "    </tr>\n",
       "    <tr>\n",
       "      <th>1</th>\n",
       "      <td>1352b6ea-1f75-4cea-9003-45c5d16a208f</td>\n",
       "      <td>https://data.iac.ethz.ch/climada/1352b6ea-1f75...</td>\n",
       "      <td>ibtracs_global_intp-None_1992230N11325.csv</td>\n",
       "      <td>csv</td>\n",
       "      <td>5161</td>\n",
       "      <td>md5:67db574ce2e5056157ab847a5abf2f3e</td>\n",
       "    </tr>\n",
       "    <tr>\n",
       "      <th>2</th>\n",
       "      <td>625874c2-8323-472c-baa0-3f5ce2d61b8a</td>\n",
       "      <td>https://data.iac.ethz.ch/climada/625874c2-8323...</td>\n",
       "      <td>2018079S09162.nc</td>\n",
       "      <td>netcdf</td>\n",
       "      <td>23487</td>\n",
       "      <td>md5:8d01027f4e257df7e6bb96c9ceb99fc1</td>\n",
       "    </tr>\n",
       "    <tr>\n",
       "      <th>3</th>\n",
       "      <td>625874c2-8323-472c-baa0-3f5ce2d61b8a</td>\n",
       "      <td>https://data.iac.ethz.ch/climada/625874c2-8323...</td>\n",
       "      <td>1980052S16155.nc</td>\n",
       "      <td>netcdf</td>\n",
       "      <td>18756</td>\n",
       "      <td>md5:de553b826f54e24d4a4353002dcd8579</td>\n",
       "    </tr>\n",
       "  </tbody>\n",
       "</table>\n",
       "</div>"
      ],
      "text/plain": [
       "                                   uuid  \\\n",
       "0  f8cc4d68-1cd2-4639-8c17-3d8e76b3fe89   \n",
       "1  1352b6ea-1f75-4cea-9003-45c5d16a208f   \n",
       "2  625874c2-8323-472c-baa0-3f5ce2d61b8a   \n",
       "3  625874c2-8323-472c-baa0-3f5ce2d61b8a   \n",
       "\n",
       "                                                 url  \\\n",
       "0  https://data.iac.ethz.ch/climada/f8cc4d68-1cd2...   \n",
       "1  https://data.iac.ethz.ch/climada/1352b6ea-1f75...   \n",
       "2  https://data.iac.ethz.ch/climada/625874c2-8323...   \n",
       "3  https://data.iac.ethz.ch/climada/625874c2-8323...   \n",
       "\n",
       "                                    file_name file_format  file_size  \\\n",
       "0                            1988234N13299.nc      netcdf      16278   \n",
       "1  ibtracs_global_intp-None_1992230N11325.csv         csv       5161   \n",
       "2                            2018079S09162.nc      netcdf      23487   \n",
       "3                            1980052S16155.nc      netcdf      18756   \n",
       "\n",
       "                              check_sum  \n",
       "0  md5:448d6c94a3d691682baf6ab38d431fb1  \n",
       "1  md5:67db574ce2e5056157ab847a5abf2f3e  \n",
       "2  md5:8d01027f4e257df7e6bb96c9ceb99fc1  \n",
       "3  md5:de553b826f54e24d4a4353002dcd8579  "
      ]
     },
     "execution_count": 19,
     "metadata": {},
     "output_type": "execute_result"
    }
   ],
   "source": [
    "test_files = [fileinfo for ds in test_datasets for fileinfo in ds.files]\n",
    "fl_df = pd.DataFrame(test_files)\n",
    "fl_df.head()"
   ]
  },
  {
   "cell_type": "markdown",
   "metadata": {},
   "source": [
    "Now we are ready to filter the meta data for file format and data type:"
   ]
  },
  {
   "cell_type": "code",
   "execution_count": 20,
   "metadata": {},
   "outputs": [
    {
     "data": {
      "text/html": [
       "<div>\n",
       "<style scoped>\n",
       "    .dataframe tbody tr th:only-of-type {\n",
       "        vertical-align: middle;\n",
       "    }\n",
       "\n",
       "    .dataframe tbody tr th {\n",
       "        vertical-align: top;\n",
       "    }\n",
       "\n",
       "    .dataframe thead th {\n",
       "        text-align: right;\n",
       "    }\n",
       "</style>\n",
       "<table border=\"1\" class=\"dataframe\">\n",
       "  <thead>\n",
       "    <tr style=\"text-align: right;\">\n",
       "      <th></th>\n",
       "      <th>uuid</th>\n",
       "      <th>data_type</th>\n",
       "      <th>name</th>\n",
       "      <th>version</th>\n",
       "      <th>status</th>\n",
       "      <th>properties</th>\n",
       "      <th>files</th>\n",
       "      <th>doi</th>\n",
       "      <th>description</th>\n",
       "      <th>license</th>\n",
       "      <th>activation_date</th>\n",
       "      <th>expiration_date</th>\n",
       "    </tr>\n",
       "  </thead>\n",
       "  <tbody>\n",
       "    <tr>\n",
       "      <th>0</th>\n",
       "      <td>f8cc4d68-1cd2-4639-8c17-3d8e76b3fe89</td>\n",
       "      <td>{'data_type': 'tracks', 'data_type_group': 'ha...</td>\n",
       "      <td>1988234N13299</td>\n",
       "      <td>v1</td>\n",
       "      <td>test_dataset</td>\n",
       "      <td>{}</td>\n",
       "      <td>[{'uuid': 'f8cc4d68-1cd2-4639-8c17-3d8e76b3fe8...</td>\n",
       "      <td>None</td>\n",
       "      <td>None</td>\n",
       "      <td>Attribution 4.0 International (CC BY 4.0)</td>\n",
       "      <td>None</td>\n",
       "      <td>None</td>\n",
       "    </tr>\n",
       "    <tr>\n",
       "      <th>2</th>\n",
       "      <td>625874c2-8323-472c-baa0-3f5ce2d61b8a</td>\n",
       "      <td>{'data_type': 'tracks', 'data_type_group': 'ha...</td>\n",
       "      <td>tracks_antimeridian</td>\n",
       "      <td>v1</td>\n",
       "      <td>test_dataset</td>\n",
       "      <td>{}</td>\n",
       "      <td>[{'uuid': '625874c2-8323-472c-baa0-3f5ce2d61b8...</td>\n",
       "      <td>None</td>\n",
       "      <td>None</td>\n",
       "      <td>Attribution 4.0 International (CC BY 4.0)</td>\n",
       "      <td>None</td>\n",
       "      <td>None</td>\n",
       "    </tr>\n",
       "  </tbody>\n",
       "</table>\n",
       "</div>"
      ],
      "text/plain": [
       "                                   uuid  \\\n",
       "0  f8cc4d68-1cd2-4639-8c17-3d8e76b3fe89   \n",
       "2  625874c2-8323-472c-baa0-3f5ce2d61b8a   \n",
       "\n",
       "                                           data_type                 name  \\\n",
       "0  {'data_type': 'tracks', 'data_type_group': 'ha...        1988234N13299   \n",
       "2  {'data_type': 'tracks', 'data_type_group': 'ha...  tracks_antimeridian   \n",
       "\n",
       "  version        status properties  \\\n",
       "0      v1  test_dataset         {}   \n",
       "2      v1  test_dataset         {}   \n",
       "\n",
       "                                               files   doi description  \\\n",
       "0  [{'uuid': 'f8cc4d68-1cd2-4639-8c17-3d8e76b3fe8...  None        None   \n",
       "2  [{'uuid': '625874c2-8323-472c-baa0-3f5ce2d61b8...  None        None   \n",
       "\n",
       "                                     license activation_date expiration_date  \n",
       "0  Attribution 4.0 International (CC BY 4.0)            None            None  \n",
       "2  Attribution 4.0 International (CC BY 4.0)            None            None  "
      ]
     },
     "execution_count": 20,
     "metadata": {},
     "output_type": "execute_result"
    }
   ],
   "source": [
    "ds_df[ds_df.uuid.isin(fl_df[fl_df.file_format=='netcdf'].uuid)]"
   ]
  },
  {
   "cell_type": "markdown",
   "metadata": {
    "jp-MarkdownHeadingCollapsed": true,
    "tags": []
   },
   "source": [
    "### Search for data types\n",
    "In the example above we were looking for datasets of type 'tracks'. When we wanted to know what data types are there in the first place, we can have a look at them like this:"
   ]
  },
  {
   "cell_type": "code",
   "execution_count": 24,
   "metadata": {},
   "outputs": [
    {
     "data": {
      "text/html": [
       "<div>\n",
       "<style scoped>\n",
       "    .dataframe tbody tr th:only-of-type {\n",
       "        vertical-align: middle;\n",
       "    }\n",
       "\n",
       "    .dataframe tbody tr th {\n",
       "        vertical-align: top;\n",
       "    }\n",
       "\n",
       "    .dataframe thead th {\n",
       "        text-align: right;\n",
       "    }\n",
       "</style>\n",
       "<table border=\"1\" class=\"dataframe\">\n",
       "  <thead>\n",
       "    <tr style=\"text-align: right;\">\n",
       "      <th></th>\n",
       "      <th>data_type</th>\n",
       "      <th>data_type_group</th>\n",
       "      <th>description</th>\n",
       "    </tr>\n",
       "  </thead>\n",
       "  <tbody>\n",
       "    <tr>\n",
       "      <th>24</th>\n",
       "      <td>entity</td>\n",
       "      <td>entity</td>\n",
       "      <td>None</td>\n",
       "    </tr>\n",
       "    <tr>\n",
       "      <th>25</th>\n",
       "      <td>low_flow</td>\n",
       "      <td>hazard</td>\n",
       "      <td>None</td>\n",
       "    </tr>\n",
       "    <tr>\n",
       "      <th>26</th>\n",
       "      <td>crop_yield</td>\n",
       "      <td>hazard</td>\n",
       "      <td>None</td>\n",
       "    </tr>\n",
       "    <tr>\n",
       "      <th>27</th>\n",
       "      <td>open_street_map</td>\n",
       "      <td>exposures</td>\n",
       "      <td>None</td>\n",
       "    </tr>\n",
       "    <tr>\n",
       "      <th>28</th>\n",
       "      <td>centroids</td>\n",
       "      <td>hazard</td>\n",
       "      <td>None</td>\n",
       "    </tr>\n",
       "  </tbody>\n",
       "</table>\n",
       "</div>"
      ],
      "text/plain": [
       "          data_type data_type_group description\n",
       "24           entity          entity        None\n",
       "25         low_flow          hazard        None\n",
       "26       crop_yield          hazard        None\n",
       "27  open_street_map       exposures        None\n",
       "28        centroids          hazard        None"
      ]
     },
     "execution_count": 24,
     "metadata": {},
     "output_type": "execute_result"
    }
   ],
   "source": [
    "import pandas as pd\n",
    "data_types = client.get_data_types()\n",
    "\n",
    "pd.DataFrame(data_types).tail()"
   ]
  },
  {
   "cell_type": "markdown",
   "metadata": {
    "tags": []
   },
   "source": [
    "## Get\n",
    "\n",
    "In any case we can identify the meta data by data_type, name and version, since these must be unique in the data base of the api server."
   ]
  },
  {
   "cell_type": "code",
   "execution_count": 33,
   "metadata": {},
   "outputs": [
    {
     "data": {
      "text/plain": [
       "DatasetInfo(uuid='625874c2-8323-472c-baa0-3f5ce2d61b8a', data_type=DataTypeInfo(data_type='tracks', data_type_group='hazard', description=''), name='tracks_antimeridian', version='v1', status='test_dataset', properties={}, files=[FileInfo(uuid='625874c2-8323-472c-baa0-3f5ce2d61b8a', url='https://data.iac.ethz.ch/climada/625874c2-8323-472c-baa0-3f5ce2d61b8a/2018079S09162.nc', file_name='2018079S09162.nc', file_format='netcdf', file_size=23487, check_sum='md5:8d01027f4e257df7e6bb96c9ceb99fc1'), FileInfo(uuid='625874c2-8323-472c-baa0-3f5ce2d61b8a', url='https://data.iac.ethz.ch/climada/625874c2-8323-472c-baa0-3f5ce2d61b8a/1980052S16155.nc', file_name='1980052S16155.nc', file_format='netcdf', file_size=18756, check_sum='md5:de553b826f54e24d4a4353002dcd8579')], doi=None, description=None, license='Attribution 4.0 International (CC BY 4.0)', activation_date=None, expiration_date=None)"
      ]
     },
     "execution_count": 33,
     "metadata": {},
     "output_type": "execute_result"
    }
   ],
   "source": [
    "client.get_dataset(name='tracks_antimeridian', data_type='tracks', version='v1')"
   ]
  },
  {
   "cell_type": "markdown",
   "metadata": {},
   "source": [
    "But often, just the name is enough information:"
   ]
  },
  {
   "cell_type": "code",
   "execution_count": 36,
   "metadata": {},
   "outputs": [
    {
     "data": {
      "text/plain": [
       "DatasetInfo(uuid='625874c2-8323-472c-baa0-3f5ce2d61b8a', data_type=DataTypeInfo(data_type='tracks', data_type_group='hazard', description=''), name='tracks_antimeridian', version='v1', status='test_dataset', properties={}, files=[FileInfo(uuid='625874c2-8323-472c-baa0-3f5ce2d61b8a', url='https://data.iac.ethz.ch/climada/625874c2-8323-472c-baa0-3f5ce2d61b8a/2018079S09162.nc', file_name='2018079S09162.nc', file_format='netcdf', file_size=23487, check_sum='md5:8d01027f4e257df7e6bb96c9ceb99fc1'), FileInfo(uuid='625874c2-8323-472c-baa0-3f5ce2d61b8a', url='https://data.iac.ethz.ch/climada/625874c2-8323-472c-baa0-3f5ce2d61b8a/1980052S16155.nc', file_name='1980052S16155.nc', file_format='netcdf', file_size=18756, check_sum='md5:de553b826f54e24d4a4353002dcd8579')], doi=None, description=None, license='Attribution 4.0 International (CC BY 4.0)', activation_date=None, expiration_date=None)"
      ]
     },
     "execution_count": 36,
     "metadata": {},
     "output_type": "execute_result"
    }
   ],
   "source": [
    "client.get_dataset(name='tracks_antimeridian')"
   ]
  },
  {
   "cell_type": "markdown",
   "metadata": {},
   "source": [
    "However, ambiguous results lead to an error:"
   ]
  },
  {
   "cell_type": "code",
   "execution_count": 25,
   "metadata": {
    "tags": []
   },
   "outputs": [
    {
     "ename": "AmbiguousResult",
     "evalue": "there are several datasets meeting the requirements: [DatasetInfo(uuid='f8cc4d68-1cd2-4639-8c17-3d8e76b3fe89', data_type=DataTypeInfo(data_type='tracks', data_type_group='hazard', description=''), name='1988234N13299', version='v1', status='test_dataset', properties={}, files=[FileInfo(uuid='f8cc4d68-1cd2-4639-8c17-3d8e76b3fe89', url='https://data.iac.ethz.ch/climada/f8cc4d68-1cd2-4639-8c17-3d8e76b3fe89/1988234N13299.nc', file_name='1988234N13299.nc', file_format='netcdf', file_size=16278, check_sum='md5:448d6c94a3d691682baf6ab38d431fb1')], doi=None, description=None, license='Attribution 4.0 International (CC BY 4.0)', activation_date=None, expiration_date=None), DatasetInfo(uuid='1352b6ea-1f75-4cea-9003-45c5d16a208f', data_type=DataTypeInfo(data_type='tracks', data_type_group='hazard', description=''), name='ibtracs_global_intp-None_1992230N11325', version='v1', status='test_dataset', properties={}, files=[FileInfo(uuid='1352b6ea-1f75-4cea-9003-45c5d16a208f', url='https://data.iac.ethz.ch/climada/1352b6ea-1f75-4cea-9003-45c5d16a208f/ibtracs_global_intp-None_1992230N11325.csv', file_name='ibtracs_global_intp-None_1992230N11325.csv', file_format='csv', file_size=5161, check_sum='md5:67db574ce2e5056157ab847a5abf2f3e')], doi=None, description=None, license='Attribution 4.0 International (CC BY 4.0)', activation_date=None, expiration_date=None), DatasetInfo(uuid='625874c2-8323-472c-baa0-3f5ce2d61b8a', data_type=DataTypeInfo(data_type='tracks', data_type_group='hazard', description=''), name='tracks_antimeridian', version='v1', status='test_dataset', properties={}, files=[FileInfo(uuid='625874c2-8323-472c-baa0-3f5ce2d61b8a', url='https://data.iac.ethz.ch/climada/625874c2-8323-472c-baa0-3f5ce2d61b8a/2018079S09162.nc', file_name='2018079S09162.nc', file_format='netcdf', file_size=23487, check_sum='md5:8d01027f4e257df7e6bb96c9ceb99fc1'), FileInfo(uuid='625874c2-8323-472c-baa0-3f5ce2d61b8a', url='https://data.iac.ethz.ch/climada/625874c2-8323-472c-baa0-3f5ce2d61b8a/1980052S16155.nc', file_name='1980052S16155.nc', file_format='netcdf', file_size=18756, check_sum='md5:de553b826f54e24d4a4353002dcd8579')], doi=None, description=None, license='Attribution 4.0 International (CC BY 4.0)', activation_date=None, expiration_date=None)]",
     "output_type": "error",
     "traceback": [
      "\u001b[1;31m---------------------------------------------------------------------------\u001b[0m",
      "\u001b[1;31mAmbiguousResult\u001b[0m                           Traceback (most recent call last)",
      "\u001b[1;32m~\\AppData\\Local\\Temp/ipykernel_22472/1603850803.py\u001b[0m in \u001b[0;36m<module>\u001b[1;34m\u001b[0m\n\u001b[1;32m----> 1\u001b[1;33m \u001b[0mclient\u001b[0m\u001b[1;33m.\u001b[0m\u001b[0mget_dataset\u001b[0m\u001b[1;33m(\u001b[0m\u001b[0mdata_type\u001b[0m\u001b[1;33m=\u001b[0m\u001b[1;34m'tracks'\u001b[0m\u001b[1;33m,\u001b[0m \u001b[0mversion\u001b[0m\u001b[1;33m=\u001b[0m\u001b[1;34m'v1'\u001b[0m\u001b[1;33m,\u001b[0m \u001b[0mstatus\u001b[0m\u001b[1;33m=\u001b[0m\u001b[1;34m'test_dataset'\u001b[0m\u001b[1;33m)\u001b[0m\u001b[1;33m\u001b[0m\u001b[1;33m\u001b[0m\u001b[0m\n\u001b[0m",
      "\u001b[1;32mc:\\users\\me\\www\\climada_python\\climada\\util\\api_client.py\u001b[0m in \u001b[0;36mget_dataset\u001b[1;34m(self, data_type, name, version, properties, status)\u001b[0m\n\u001b[0;32m    256\u001b[0m                                  properties=properties, status=status)\n\u001b[0;32m    257\u001b[0m         \u001b[1;32mif\u001b[0m \u001b[0mlen\u001b[0m\u001b[1;33m(\u001b[0m\u001b[0mjarr\u001b[0m\u001b[1;33m)\u001b[0m \u001b[1;33m>\u001b[0m \u001b[1;36m1\u001b[0m\u001b[1;33m:\u001b[0m\u001b[1;33m\u001b[0m\u001b[1;33m\u001b[0m\u001b[0m\n\u001b[1;32m--> 258\u001b[1;33m             raise Client.AmbiguousResult(\"there are several datasets meeting the requirements:\"\n\u001b[0m\u001b[0;32m    259\u001b[0m                                         f\" {jarr}\")\n\u001b[0;32m    260\u001b[0m         \u001b[1;32mif\u001b[0m \u001b[0mlen\u001b[0m\u001b[1;33m(\u001b[0m\u001b[0mjarr\u001b[0m\u001b[1;33m)\u001b[0m \u001b[1;33m<\u001b[0m \u001b[1;36m1\u001b[0m\u001b[1;33m:\u001b[0m\u001b[1;33m\u001b[0m\u001b[1;33m\u001b[0m\u001b[0m\n",
      "\u001b[1;31mAmbiguousResult\u001b[0m: there are several datasets meeting the requirements: [DatasetInfo(uuid='f8cc4d68-1cd2-4639-8c17-3d8e76b3fe89', data_type=DataTypeInfo(data_type='tracks', data_type_group='hazard', description=''), name='1988234N13299', version='v1', status='test_dataset', properties={}, files=[FileInfo(uuid='f8cc4d68-1cd2-4639-8c17-3d8e76b3fe89', url='https://data.iac.ethz.ch/climada/f8cc4d68-1cd2-4639-8c17-3d8e76b3fe89/1988234N13299.nc', file_name='1988234N13299.nc', file_format='netcdf', file_size=16278, check_sum='md5:448d6c94a3d691682baf6ab38d431fb1')], doi=None, description=None, license='Attribution 4.0 International (CC BY 4.0)', activation_date=None, expiration_date=None), DatasetInfo(uuid='1352b6ea-1f75-4cea-9003-45c5d16a208f', data_type=DataTypeInfo(data_type='tracks', data_type_group='hazard', description=''), name='ibtracs_global_intp-None_1992230N11325', version='v1', status='test_dataset', properties={}, files=[FileInfo(uuid='1352b6ea-1f75-4cea-9003-45c5d16a208f', url='https://data.iac.ethz.ch/climada/1352b6ea-1f75-4cea-9003-45c5d16a208f/ibtracs_global_intp-None_1992230N11325.csv', file_name='ibtracs_global_intp-None_1992230N11325.csv', file_format='csv', file_size=5161, check_sum='md5:67db574ce2e5056157ab847a5abf2f3e')], doi=None, description=None, license='Attribution 4.0 International (CC BY 4.0)', activation_date=None, expiration_date=None), DatasetInfo(uuid='625874c2-8323-472c-baa0-3f5ce2d61b8a', data_type=DataTypeInfo(data_type='tracks', data_type_group='hazard', description=''), name='tracks_antimeridian', version='v1', status='test_dataset', properties={}, files=[FileInfo(uuid='625874c2-8323-472c-baa0-3f5ce2d61b8a', url='https://data.iac.ethz.ch/climada/625874c2-8323-472c-baa0-3f5ce2d61b8a/2018079S09162.nc', file_name='2018079S09162.nc', file_format='netcdf', file_size=23487, check_sum='md5:8d01027f4e257df7e6bb96c9ceb99fc1'), FileInfo(uuid='625874c2-8323-472c-baa0-3f5ce2d61b8a', url='https://data.iac.ethz.ch/climada/625874c2-8323-472c-baa0-3f5ce2d61b8a/1980052S16155.nc', file_name='1980052S16155.nc', file_format='netcdf', file_size=18756, check_sum='md5:de553b826f54e24d4a4353002dcd8579')], doi=None, description=None, license='Attribution 4.0 International (CC BY 4.0)', activation_date=None, expiration_date=None)]"
     ]
    }
   ],
   "source": [
    "client.get_dataset(data_type='tracks', version='v1', status='test_dataset')"
   ]
  },
  {
   "cell_type": "markdown",
   "metadata": {},
   "source": [
    "And no results as well:"
   ]
  },
  {
   "cell_type": "code",
   "execution_count": 26,
   "metadata": {
    "tags": []
   },
   "outputs": [
    {
     "ename": "NoResult",
     "evalue": "there is no dataset meeting the requirements",
     "output_type": "error",
     "traceback": [
      "\u001b[1;31m---------------------------------------------------------------------------\u001b[0m",
      "\u001b[1;31mNoResult\u001b[0m                                  Traceback (most recent call last)",
      "\u001b[1;32m~\\AppData\\Local\\Temp/ipykernel_22472/4053999927.py\u001b[0m in \u001b[0;36m<module>\u001b[1;34m\u001b[0m\n\u001b[1;32m----> 1\u001b[1;33m \u001b[0mclient\u001b[0m\u001b[1;33m.\u001b[0m\u001b[0mget_dataset\u001b[0m\u001b[1;33m(\u001b[0m\u001b[0mname\u001b[0m\u001b[1;33m=\u001b[0m\u001b[1;34m'tracks_antimeridian'\u001b[0m\u001b[1;33m,\u001b[0m \u001b[0mversion\u001b[0m\u001b[1;33m=\u001b[0m\u001b[1;34m'v2'\u001b[0m\u001b[1;33m)\u001b[0m\u001b[1;33m\u001b[0m\u001b[1;33m\u001b[0m\u001b[0m\n\u001b[0m",
      "\u001b[1;32mc:\\users\\me\\www\\climada_python\\climada\\util\\api_client.py\u001b[0m in \u001b[0;36mget_dataset\u001b[1;34m(self, data_type, name, version, properties, status)\u001b[0m\n\u001b[0;32m    259\u001b[0m                                         f\" {jarr}\")\n\u001b[0;32m    260\u001b[0m         \u001b[1;32mif\u001b[0m \u001b[0mlen\u001b[0m\u001b[1;33m(\u001b[0m\u001b[0mjarr\u001b[0m\u001b[1;33m)\u001b[0m \u001b[1;33m<\u001b[0m \u001b[1;36m1\u001b[0m\u001b[1;33m:\u001b[0m\u001b[1;33m\u001b[0m\u001b[1;33m\u001b[0m\u001b[0m\n\u001b[1;32m--> 261\u001b[1;33m             \u001b[1;32mraise\u001b[0m \u001b[0mClient\u001b[0m\u001b[1;33m.\u001b[0m\u001b[0mNoResult\u001b[0m\u001b[1;33m(\u001b[0m\u001b[1;34m\"there is no dataset meeting the requirements\"\u001b[0m\u001b[1;33m)\u001b[0m\u001b[1;33m\u001b[0m\u001b[1;33m\u001b[0m\u001b[0m\n\u001b[0m\u001b[0;32m    262\u001b[0m         \u001b[1;32mreturn\u001b[0m \u001b[0mjarr\u001b[0m\u001b[1;33m[\u001b[0m\u001b[1;36m0\u001b[0m\u001b[1;33m]\u001b[0m\u001b[1;33m\u001b[0m\u001b[1;33m\u001b[0m\u001b[0m\n\u001b[0;32m    263\u001b[0m \u001b[1;33m\u001b[0m\u001b[0m\n",
      "\u001b[1;31mNoResult\u001b[0m: there is no dataset meeting the requirements"
     ]
    }
   ],
   "source": [
    "client.get_dataset(name='tracks_antimeridian', version='v2')"
   ]
  }
 ],
 "metadata": {
  "kernelspec": {
   "display_name": "Python 3 (ipykernel)",
   "language": "python",
   "name": "python3"
  },
  "language_info": {
   "codemirror_mode": {
    "name": "ipython",
    "version": 3
   },
   "file_extension": ".py",
   "mimetype": "text/x-python",
   "name": "python",
   "nbconvert_exporter": "python",
   "pygments_lexer": "ipython3",
   "version": "3.8.10"
  }
 },
 "nbformat": 4,
 "nbformat_minor": 4
}
