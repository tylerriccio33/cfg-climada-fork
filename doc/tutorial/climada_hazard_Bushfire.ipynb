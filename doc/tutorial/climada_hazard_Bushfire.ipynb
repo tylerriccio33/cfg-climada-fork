{
 "cells": [
  {
   "cell_type": "markdown",
   "metadata": {},
   "source": [
    "# BushFire class"
   ]
  },
  {
   "cell_type": "markdown",
   "metadata": {},
   "source": [
    "This class is used to model the bushfire hazard using the historical data available (FIRMS data) and creating probabilistic events for each historical event. \n",
    "\n",
    "The historical data used are the data in FIRMS (https://earthdata.nasa.gov/earth-observation-data/near-real-time/firms/about-firms) coming from:\n",
    ". MODIS (Near Real Time (NRT) or standard quality data) - data resolution: 1 km - data available from November 2000 to present\n",
    ". VIIRS (NRT data) - data resolution: 0.375 m - data available from 20 January 2012 to present.\n",
    "We recommand to not mix the two datasets and to use first the VIIRS data when available (as their resolution is higher). However the Bushfire script can deal with the two different datasets in terms of resolution and data cleaning. \n",
    "\n",
    "The data can be obtained at https://firms.modaps.eosdis.nasa.gov/download/ and have to be saved as .csv file. Approximatly 15 min after submitting the request, the data can be downloaded by checking the request status. \n",
    "\n",
    "The BushFire class inherits from the Hazard class. It provides a set_bushfire() method which enables to model bushfires for a given geographical area. \n",
    "\n",
    "With the next commands we can model the fires of the state of California in 2016 and the Soberanes fire that burned in July 2016 in California. \n",
    "\n",
    "The seed is an optional input value allowing for the reproducibility of the probabilistic simulations. Put a negative number if you don't want to use it. "
   ]
  },
  {
   "cell_type": "code",
   "execution_count": 2,
   "metadata": {},
   "outputs": [
    {
     "name": "stdout",
     "output_type": "stream",
     "text": [
      "2019-05-21 17:04:12,149 - climada.hazard.bush_fire - INFO - Setting up historical event.\n",
      "2019-05-21 17:04:13,792 - climada.hazard.bush_fire - INFO - Computing clusters of consecutive days.\n",
      "2019-05-21 17:04:15,786 - climada.hazard.bush_fire - INFO - Defining the resolution of the centroids.\n",
      "2019-05-21 17:04:15,790 - climada.hazard.bush_fire - INFO - Computing centroids.\n",
      "2019-05-21 17:04:15,936 - climada.hazard.centroids.centr - DEBUG - Setting area_pixel approx 488958 points.\n",
      "2019-05-21 17:04:15,943 - climada.hazard.centroids.centr - DEBUG - Setting on_land 488958 points.\n",
      "2019-05-21 17:04:17,407 - climada.hazard.centroids.centr - DEBUG - Setting dist_coast 488958 points.\n",
      "2019-05-21 17:04:28,276 - climada.hazard.bush_fire - INFO - Computing geographic clusters in consecutive events.\n",
      "2019-05-21 17:04:30,224 - climada.hazard.bush_fire - INFO - Sorting of firms data\n",
      "2019-05-21 17:04:30,293 - climada.hazard.bush_fire - INFO - Creation of event_id.\n",
      "Nb of event 130.0\n",
      "2019-05-21 17:04:31,427 - climada.hazard.bush_fire - DEBUG - Filling up the matrix.\n",
      "2019-05-21 17:04:31,841 - climada.hazard.bush_fire - DEBUG - Sub-dataframe corresponding to event\n",
      "2019-05-21 17:04:31,889 - climada.hazard.bush_fire - DEBUG - BallTree\n"
     ]
    },
    {
     "name": "stderr",
     "output_type": "stream",
     "text": [
      "/Applications/anaconda3/envs/climada_env/lib/python3.7/site-packages/numpy/core/fromnumeric.py:56: FutureWarning: Series.nonzero() is deprecated and will be removed in a future version.Use Series.to_numpy().nonzero() instead\n",
      "  return getattr(obj, method)(*args, **kwds)\n"
     ]
    },
    {
     "name": "stdout",
     "output_type": "stream",
     "text": [
      "2019-05-21 17:04:31,869 - climada.hazard.bush_fire - INFO - Identifying closest (lat,lon) points from firms dataframe for each centroid.\n",
      "2019-05-21 17:04:31,882 - climada.hazard.bush_fire - INFO - Computing maximum brightness for each (lat,lon) point.\n",
      "2019-05-21 17:04:32,343 - climada.hazard.bush_fire - DEBUG - Sub-dataframe corresponding to event\n"
     ]
    },
    {
     "name": "stderr",
     "output_type": "stream",
     "text": [
      "/Applications/anaconda3/envs/climada_env/lib/python3.7/site-packages/numpy/core/fromnumeric.py:56: FutureWarning: Series.nonzero() is deprecated and will be removed in a future version.Use Series.to_numpy().nonzero() instead\n",
      "  return getattr(obj, method)(*args, **kwds)\n"
     ]
    },
    {
     "name": "stdout",
     "output_type": "stream",
     "text": [
      "2019-05-21 17:04:32,379 - climada.hazard.bush_fire - INFO - Identifying closest (lat,lon) points from firms dataframe for each centroid.\n",
      "2019-05-21 17:04:32,395 - climada.hazard.bush_fire - INFO - Computing maximum brightness for each (lat,lon) point.\n",
      "2019-05-21 17:04:32,518 - climada.hazard.bush_fire - DEBUG - BallTree\n",
      "2019-05-21 17:04:32,998 - climada.hazard.bush_fire - DEBUG - Sub-dataframe corresponding to event\n"
     ]
    },
    {
     "name": "stderr",
     "output_type": "stream",
     "text": [
      "/Applications/anaconda3/envs/climada_env/lib/python3.7/site-packages/numpy/core/fromnumeric.py:56: FutureWarning: Series.nonzero() is deprecated and will be removed in a future version.Use Series.to_numpy().nonzero() instead\n",
      "  return getattr(obj, method)(*args, **kwds)\n"
     ]
    },
    {
     "name": "stdout",
     "output_type": "stream",
     "text": [
      "2019-05-21 17:04:33,148 - climada.hazard.bush_fire - INFO - Identifying closest (lat,lon) points from firms dataframe for each centroid.\n",
      "2019-05-21 17:04:33,167 - climada.hazard.bush_fire - INFO - Computing maximum brightness for each (lat,lon) point.\n",
      "2019-05-21 17:04:33,200 - climada.hazard.bush_fire - DEBUG - BallTree\n",
      "2019-05-21 17:04:34,022 - climada.hazard.bush_fire - DEBUG - Sub-dataframe corresponding to event\n"
     ]
    },
    {
     "name": "stderr",
     "output_type": "stream",
     "text": [
      "/Applications/anaconda3/envs/climada_env/lib/python3.7/site-packages/numpy/core/fromnumeric.py:56: FutureWarning: Series.nonzero() is deprecated and will be removed in a future version.Use Series.to_numpy().nonzero() instead\n",
      "  return getattr(obj, method)(*args, **kwds)\n"
     ]
    },
    {
     "name": "stdout",
     "output_type": "stream",
     "text": [
      "2019-05-21 17:04:34,133 - climada.hazard.bush_fire - INFO - Identifying closest (lat,lon) points from firms dataframe for each centroid.\n",
      "2019-05-21 17:04:34,167 - climada.hazard.bush_fire - INFO - Computing maximum brightness for each (lat,lon) point.\n",
      "2019-05-21 17:04:34,195 - climada.hazard.bush_fire - DEBUG - BallTree\n",
      "2019-05-21 17:04:36,231 - climada.hazard.bush_fire - DEBUG - Brightness np.array for the event\n",
      "2019-05-21 17:04:36,256 - climada.hazard.bush_fire - DEBUG - Sub-dataframe corresponding to event\n"
     ]
    },
    {
     "name": "stderr",
     "output_type": "stream",
     "text": [
      "/Applications/anaconda3/envs/climada_env/lib/python3.7/site-packages/numpy/core/fromnumeric.py:56: FutureWarning: Series.nonzero() is deprecated and will be removed in a future version.Use Series.to_numpy().nonzero() instead\n",
      "  return getattr(obj, method)(*args, **kwds)\n"
     ]
    },
    {
     "name": "stdout",
     "output_type": "stream",
     "text": [
      "2019-05-21 17:04:36,283 - climada.hazard.bush_fire - INFO - Identifying closest (lat,lon) points from firms dataframe for each centroid.\n",
      "2019-05-21 17:04:36,316 - climada.hazard.bush_fire - INFO - Computing maximum brightness for each (lat,lon) point.\n",
      "2019-05-21 17:04:36,376 - climada.hazard.bush_fire - DEBUG - BallTree\n",
      "2019-05-21 17:04:36,930 - climada.hazard.bush_fire - DEBUG - Brightness np.array for the event\n",
      "2019-05-21 17:04:37,010 - climada.hazard.bush_fire - DEBUG - Sub-dataframe corresponding to event\n"
     ]
    },
    {
     "name": "stderr",
     "output_type": "stream",
     "text": [
      "/Applications/anaconda3/envs/climada_env/lib/python3.7/site-packages/numpy/core/fromnumeric.py:56: FutureWarning: Series.nonzero() is deprecated and will be removed in a future version.Use Series.to_numpy().nonzero() instead\n",
      "  return getattr(obj, method)(*args, **kwds)\n"
     ]
    },
    {
     "name": "stdout",
     "output_type": "stream",
     "text": [
      "2019-05-21 17:04:37,099 - climada.hazard.bush_fire - INFO - Identifying closest (lat,lon) points from firms dataframe for each centroid.\n",
      "2019-05-21 17:04:37,110 - climada.hazard.bush_fire - INFO - Computing maximum brightness for each (lat,lon) point.\n",
      "2019-05-21 17:04:37,246 - climada.hazard.bush_fire - DEBUG - BallTree\n",
      "2019-05-21 17:04:37,644 - climada.hazard.bush_fire - DEBUG - Brightness np.array for the event\n",
      "2019-05-21 17:04:37,679 - climada.hazard.bush_fire - DEBUG - Sub-dataframe corresponding to event\n"
     ]
    },
    {
     "name": "stderr",
     "output_type": "stream",
     "text": [
      "/Applications/anaconda3/envs/climada_env/lib/python3.7/site-packages/numpy/core/fromnumeric.py:56: FutureWarning: Series.nonzero() is deprecated and will be removed in a future version.Use Series.to_numpy().nonzero() instead\n",
      "  return getattr(obj, method)(*args, **kwds)\n"
     ]
    },
    {
     "name": "stdout",
     "output_type": "stream",
     "text": [
      "2019-05-21 17:04:37,731 - climada.hazard.bush_fire - INFO - Identifying closest (lat,lon) points from firms dataframe for each centroid.\n",
      "2019-05-21 17:04:37,764 - climada.hazard.bush_fire - INFO - Computing maximum brightness for each (lat,lon) point.\n",
      "2019-05-21 17:04:37,911 - climada.hazard.bush_fire - DEBUG - BallTree\n",
      "2019-05-21 17:04:38,633 - climada.hazard.bush_fire - DEBUG - Brightness np.array for the event\n",
      "2019-05-21 17:04:38,671 - climada.hazard.bush_fire - DEBUG - Sub-dataframe corresponding to event\n"
     ]
    },
    {
     "name": "stderr",
     "output_type": "stream",
     "text": [
      "/Applications/anaconda3/envs/climada_env/lib/python3.7/site-packages/numpy/core/fromnumeric.py:56: FutureWarning: Series.nonzero() is deprecated and will be removed in a future version.Use Series.to_numpy().nonzero() instead\n",
      "  return getattr(obj, method)(*args, **kwds)\n"
     ]
    },
    {
     "name": "stdout",
     "output_type": "stream",
     "text": [
      "2019-05-21 17:04:38,736 - climada.hazard.bush_fire - INFO - Identifying closest (lat,lon) points from firms dataframe for each centroid.\n",
      "2019-05-21 17:04:38,766 - climada.hazard.bush_fire - INFO - Computing maximum brightness for each (lat,lon) point.\n",
      "2019-05-21 17:04:38,798 - climada.hazard.bush_fire - DEBUG - BallTree\n",
      "2019-05-21 17:04:40,903 - climada.hazard.bush_fire - DEBUG - Brightness np.array for the event\n",
      "2019-05-21 17:04:40,921 - climada.hazard.bush_fire - DEBUG - Sub-dataframe corresponding to event\n"
     ]
    },
    {
     "name": "stderr",
     "output_type": "stream",
     "text": [
      "/Applications/anaconda3/envs/climada_env/lib/python3.7/site-packages/numpy/core/fromnumeric.py:56: FutureWarning: Series.nonzero() is deprecated and will be removed in a future version.Use Series.to_numpy().nonzero() instead\n",
      "  return getattr(obj, method)(*args, **kwds)\n"
     ]
    },
    {
     "name": "stdout",
     "output_type": "stream",
     "text": [
      "2019-05-21 17:04:40,944 - climada.hazard.bush_fire - INFO - Identifying closest (lat,lon) points from firms dataframe for each centroid.\n",
      "2019-05-21 17:04:40,956 - climada.hazard.bush_fire - INFO - Computing maximum brightness for each (lat,lon) point.\n",
      "2019-05-21 17:04:40,969 - climada.hazard.bush_fire - DEBUG - BallTree\n",
      "2019-05-21 17:04:41,660 - climada.hazard.bush_fire - DEBUG - Brightness np.array for the event\n",
      "2019-05-21 17:04:41,707 - climada.hazard.bush_fire - DEBUG - Sub-dataframe corresponding to event\n"
     ]
    },
    {
     "name": "stderr",
     "output_type": "stream",
     "text": [
      "/Applications/anaconda3/envs/climada_env/lib/python3.7/site-packages/numpy/core/fromnumeric.py:56: FutureWarning: Series.nonzero() is deprecated and will be removed in a future version.Use Series.to_numpy().nonzero() instead\n",
      "  return getattr(obj, method)(*args, **kwds)\n"
     ]
    },
    {
     "name": "stdout",
     "output_type": "stream",
     "text": [
      "2019-05-21 17:04:41,732 - climada.hazard.bush_fire - INFO - Identifying closest (lat,lon) points from firms dataframe for each centroid.\n",
      "2019-05-21 17:04:41,745 - climada.hazard.bush_fire - INFO - Computing maximum brightness for each (lat,lon) point.\n",
      "2019-05-21 17:04:42,415 - climada.hazard.bush_fire - DEBUG - Brightness np.array for the event\n",
      "2019-05-21 17:04:42,468 - climada.hazard.bush_fire - DEBUG - Sub-dataframe corresponding to event\n"
     ]
    },
    {
     "name": "stderr",
     "output_type": "stream",
     "text": [
      "/Applications/anaconda3/envs/climada_env/lib/python3.7/site-packages/numpy/core/fromnumeric.py:56: FutureWarning: Series.nonzero() is deprecated and will be removed in a future version.Use Series.to_numpy().nonzero() instead\n",
      "  return getattr(obj, method)(*args, **kwds)\n"
     ]
    },
    {
     "name": "stdout",
     "output_type": "stream",
     "text": [
      "2019-05-21 17:04:42,563 - climada.hazard.bush_fire - INFO - Identifying closest (lat,lon) points from firms dataframe for each centroid.\n",
      "2019-05-21 17:04:42,626 - climada.hazard.bush_fire - INFO - Computing maximum brightness for each (lat,lon) point.\n",
      "2019-05-21 17:04:42,663 - climada.hazard.bush_fire - DEBUG - BallTree\n",
      "2019-05-21 17:04:42,955 - climada.hazard.bush_fire - DEBUG - BallTree\n",
      "2019-05-21 17:04:43,774 - climada.hazard.bush_fire - DEBUG - Brightness np.array for the event\n",
      "2019-05-21 17:04:43,797 - climada.hazard.bush_fire - DEBUG - Sub-dataframe corresponding to event\n"
     ]
    },
    {
     "name": "stderr",
     "output_type": "stream",
     "text": [
      "/Applications/anaconda3/envs/climada_env/lib/python3.7/site-packages/numpy/core/fromnumeric.py:56: FutureWarning: Series.nonzero() is deprecated and will be removed in a future version.Use Series.to_numpy().nonzero() instead\n",
      "  return getattr(obj, method)(*args, **kwds)\n"
     ]
    },
    {
     "name": "stdout",
     "output_type": "stream",
     "text": [
      "2019-05-21 17:04:43,830 - climada.hazard.bush_fire - INFO - Identifying closest (lat,lon) points from firms dataframe for each centroid.\n",
      "2019-05-21 17:04:43,879 - climada.hazard.bush_fire - INFO - Computing maximum brightness for each (lat,lon) point.\n",
      "2019-05-21 17:04:43,893 - climada.hazard.bush_fire - DEBUG - BallTree\n",
      "2019-05-21 17:04:49,411 - climada.hazard.bush_fire - DEBUG - Brightness np.array for the event\n",
      "2019-05-21 17:04:49,460 - climada.hazard.bush_fire - DEBUG - Sub-dataframe corresponding to event\n"
     ]
    },
    {
     "name": "stderr",
     "output_type": "stream",
     "text": [
      "/Applications/anaconda3/envs/climada_env/lib/python3.7/site-packages/numpy/core/fromnumeric.py:56: FutureWarning: Series.nonzero() is deprecated and will be removed in a future version.Use Series.to_numpy().nonzero() instead\n",
      "  return getattr(obj, method)(*args, **kwds)\n"
     ]
    },
    {
     "name": "stdout",
     "output_type": "stream",
     "text": [
      "2019-05-21 17:04:49,501 - climada.hazard.bush_fire - INFO - Identifying closest (lat,lon) points from firms dataframe for each centroid.\n",
      "2019-05-21 17:04:49,531 - climada.hazard.bush_fire - INFO - Computing maximum brightness for each (lat,lon) point.\n",
      "2019-05-21 17:04:49,572 - climada.hazard.bush_fire - DEBUG - BallTree\n",
      "2019-05-21 17:04:51,249 - climada.hazard.bush_fire - DEBUG - Brightness np.array for the event\n",
      "2019-05-21 17:04:51,283 - climada.hazard.bush_fire - DEBUG - Sub-dataframe corresponding to event\n"
     ]
    },
    {
     "name": "stderr",
     "output_type": "stream",
     "text": [
      "/Applications/anaconda3/envs/climada_env/lib/python3.7/site-packages/numpy/core/fromnumeric.py:56: FutureWarning: Series.nonzero() is deprecated and will be removed in a future version.Use Series.to_numpy().nonzero() instead\n",
      "  return getattr(obj, method)(*args, **kwds)\n"
     ]
    },
    {
     "name": "stdout",
     "output_type": "stream",
     "text": [
      "2019-05-21 17:04:51,323 - climada.hazard.bush_fire - INFO - Identifying closest (lat,lon) points from firms dataframe for each centroid.\n",
      "2019-05-21 17:04:51,360 - climada.hazard.bush_fire - INFO - Computing maximum brightness for each (lat,lon) point.\n",
      "2019-05-21 17:04:51,369 - climada.hazard.bush_fire - DEBUG - BallTree\n",
      "2019-05-21 17:04:51,495 - climada.hazard.bush_fire - DEBUG - Brightness np.array for the event\n",
      "2019-05-21 17:04:51,538 - climada.hazard.bush_fire - DEBUG - Sub-dataframe corresponding to event\n"
     ]
    },
    {
     "name": "stderr",
     "output_type": "stream",
     "text": [
      "/Applications/anaconda3/envs/climada_env/lib/python3.7/site-packages/numpy/core/fromnumeric.py:56: FutureWarning: Series.nonzero() is deprecated and will be removed in a future version.Use Series.to_numpy().nonzero() instead\n",
      "  return getattr(obj, method)(*args, **kwds)\n"
     ]
    },
    {
     "name": "stdout",
     "output_type": "stream",
     "text": [
      "2019-05-21 17:04:51,557 - climada.hazard.bush_fire - INFO - Identifying closest (lat,lon) points from firms dataframe for each centroid.\n",
      "2019-05-21 17:04:51,568 - climada.hazard.bush_fire - INFO - Computing maximum brightness for each (lat,lon) point.\n",
      "2019-05-21 17:04:51,595 - climada.hazard.bush_fire - DEBUG - BallTree\n",
      "2019-05-21 17:04:51,896 - climada.hazard.bush_fire - DEBUG - Brightness np.array for the event\n",
      "2019-05-21 17:04:51,943 - climada.hazard.bush_fire - DEBUG - Sub-dataframe corresponding to event\n"
     ]
    },
    {
     "name": "stderr",
     "output_type": "stream",
     "text": [
      "/Applications/anaconda3/envs/climada_env/lib/python3.7/site-packages/numpy/core/fromnumeric.py:56: FutureWarning: Series.nonzero() is deprecated and will be removed in a future version.Use Series.to_numpy().nonzero() instead\n",
      "  return getattr(obj, method)(*args, **kwds)\n"
     ]
    },
    {
     "name": "stdout",
     "output_type": "stream",
     "text": [
      "2019-05-21 17:04:52,018 - climada.hazard.bush_fire - INFO - Identifying closest (lat,lon) points from firms dataframe for each centroid.\n",
      "2019-05-21 17:04:52,057 - climada.hazard.bush_fire - INFO - Computing maximum brightness for each (lat,lon) point.\n",
      "2019-05-21 17:04:52,075 - climada.hazard.bush_fire - DEBUG - BallTree\n",
      "2019-05-21 17:04:54,139 - climada.hazard.bush_fire - DEBUG - Brightness np.array for the event\n",
      "2019-05-21 17:04:54,179 - climada.hazard.bush_fire - DEBUG - Sub-dataframe corresponding to event\n"
     ]
    },
    {
     "name": "stderr",
     "output_type": "stream",
     "text": [
      "/Applications/anaconda3/envs/climada_env/lib/python3.7/site-packages/numpy/core/fromnumeric.py:56: FutureWarning: Series.nonzero() is deprecated and will be removed in a future version.Use Series.to_numpy().nonzero() instead\n",
      "  return getattr(obj, method)(*args, **kwds)\n"
     ]
    },
    {
     "name": "stdout",
     "output_type": "stream",
     "text": [
      "2019-05-21 17:04:54,211 - climada.hazard.bush_fire - INFO - Identifying closest (lat,lon) points from firms dataframe for each centroid.\n",
      "2019-05-21 17:04:54,229 - climada.hazard.bush_fire - INFO - Computing maximum brightness for each (lat,lon) point.\n",
      "2019-05-21 17:04:54,267 - climada.hazard.bush_fire - DEBUG - BallTree\n",
      "2019-05-21 17:04:55,310 - climada.hazard.bush_fire - DEBUG - Brightness np.array for the event\n",
      "2019-05-21 17:04:55,352 - climada.hazard.bush_fire - DEBUG - Sub-dataframe corresponding to event\n"
     ]
    },
    {
     "name": "stderr",
     "output_type": "stream",
     "text": [
      "/Applications/anaconda3/envs/climada_env/lib/python3.7/site-packages/numpy/core/fromnumeric.py:56: FutureWarning: Series.nonzero() is deprecated and will be removed in a future version.Use Series.to_numpy().nonzero() instead\n",
      "  return getattr(obj, method)(*args, **kwds)\n"
     ]
    },
    {
     "name": "stdout",
     "output_type": "stream",
     "text": [
      "2019-05-21 17:04:55,412 - climada.hazard.bush_fire - INFO - Identifying closest (lat,lon) points from firms dataframe for each centroid.\n",
      "2019-05-21 17:04:55,425 - climada.hazard.bush_fire - INFO - Computing maximum brightness for each (lat,lon) point.\n",
      "2019-05-21 17:04:55,525 - climada.hazard.bush_fire - DEBUG - Brightness np.array for the event\n",
      "2019-05-21 17:04:55,545 - climada.hazard.bush_fire - DEBUG - Sub-dataframe corresponding to event\n"
     ]
    },
    {
     "name": "stderr",
     "output_type": "stream",
     "text": [
      "/Applications/anaconda3/envs/climada_env/lib/python3.7/site-packages/numpy/core/fromnumeric.py:56: FutureWarning: Series.nonzero() is deprecated and will be removed in a future version.Use Series.to_numpy().nonzero() instead\n",
      "  return getattr(obj, method)(*args, **kwds)\n"
     ]
    },
    {
     "name": "stdout",
     "output_type": "stream",
     "text": [
      "2019-05-21 17:04:55,571 - climada.hazard.bush_fire - INFO - Identifying closest (lat,lon) points from firms dataframe for each centroid.\n",
      "2019-05-21 17:04:55,593 - climada.hazard.bush_fire - INFO - Computing maximum brightness for each (lat,lon) point.\n",
      "2019-05-21 17:04:55,803 - climada.hazard.bush_fire - DEBUG - Brightness np.array for the event\n",
      "2019-05-21 17:04:55,828 - climada.hazard.bush_fire - DEBUG - Sub-dataframe corresponding to event\n"
     ]
    },
    {
     "name": "stderr",
     "output_type": "stream",
     "text": [
      "/Applications/anaconda3/envs/climada_env/lib/python3.7/site-packages/numpy/core/fromnumeric.py:56: FutureWarning: Series.nonzero() is deprecated and will be removed in a future version.Use Series.to_numpy().nonzero() instead\n",
      "  return getattr(obj, method)(*args, **kwds)\n"
     ]
    },
    {
     "name": "stdout",
     "output_type": "stream",
     "text": [
      "2019-05-21 17:04:55,863 - climada.hazard.bush_fire - INFO - Identifying closest (lat,lon) points from firms dataframe for each centroid.\n",
      "2019-05-21 17:04:55,900 - climada.hazard.bush_fire - INFO - Computing maximum brightness for each (lat,lon) point.\n",
      "2019-05-21 17:04:55,909 - climada.hazard.bush_fire - DEBUG - BallTree\n",
      "2019-05-21 17:04:58,988 - climada.hazard.bush_fire - DEBUG - Brightness np.array for the event\n",
      "2019-05-21 17:04:59,028 - climada.hazard.bush_fire - DEBUG - Sub-dataframe corresponding to event\n"
     ]
    },
    {
     "name": "stderr",
     "output_type": "stream",
     "text": [
      "/Applications/anaconda3/envs/climada_env/lib/python3.7/site-packages/numpy/core/fromnumeric.py:56: FutureWarning: Series.nonzero() is deprecated and will be removed in a future version.Use Series.to_numpy().nonzero() instead\n",
      "  return getattr(obj, method)(*args, **kwds)\n"
     ]
    },
    {
     "name": "stdout",
     "output_type": "stream",
     "text": [
      "2019-05-21 17:04:59,073 - climada.hazard.bush_fire - INFO - Identifying closest (lat,lon) points from firms dataframe for each centroid.\n",
      "2019-05-21 17:04:59,101 - climada.hazard.bush_fire - INFO - Computing maximum brightness for each (lat,lon) point.\n",
      "2019-05-21 17:04:59,107 - climada.hazard.bush_fire - DEBUG - BallTree\n",
      "2019-05-21 17:04:59,975 - climada.hazard.bush_fire - DEBUG - BallTree\n",
      "2019-05-21 17:05:00,781 - climada.hazard.bush_fire - DEBUG - Brightness np.array for the event\n",
      "2019-05-21 17:05:00,803 - climada.hazard.bush_fire - DEBUG - Sub-dataframe corresponding to event\n"
     ]
    },
    {
     "name": "stderr",
     "output_type": "stream",
     "text": [
      "/Applications/anaconda3/envs/climada_env/lib/python3.7/site-packages/numpy/core/fromnumeric.py:56: FutureWarning: Series.nonzero() is deprecated and will be removed in a future version.Use Series.to_numpy().nonzero() instead\n",
      "  return getattr(obj, method)(*args, **kwds)\n"
     ]
    },
    {
     "name": "stdout",
     "output_type": "stream",
     "text": [
      "2019-05-21 17:05:00,821 - climada.hazard.bush_fire - INFO - Identifying closest (lat,lon) points from firms dataframe for each centroid.\n",
      "2019-05-21 17:05:00,830 - climada.hazard.bush_fire - INFO - Computing maximum brightness for each (lat,lon) point.\n",
      "2019-05-21 17:05:00,839 - climada.hazard.bush_fire - DEBUG - BallTree\n",
      "2019-05-21 17:05:02,258 - climada.hazard.bush_fire - DEBUG - Brightness np.array for the event\n",
      "2019-05-21 17:05:02,279 - climada.hazard.bush_fire - DEBUG - Sub-dataframe corresponding to event\n"
     ]
    },
    {
     "name": "stderr",
     "output_type": "stream",
     "text": [
      "/Applications/anaconda3/envs/climada_env/lib/python3.7/site-packages/numpy/core/fromnumeric.py:56: FutureWarning: Series.nonzero() is deprecated and will be removed in a future version.Use Series.to_numpy().nonzero() instead\n",
      "  return getattr(obj, method)(*args, **kwds)\n"
     ]
    },
    {
     "name": "stdout",
     "output_type": "stream",
     "text": [
      "2019-05-21 17:05:02,294 - climada.hazard.bush_fire - INFO - Identifying closest (lat,lon) points from firms dataframe for each centroid.\n",
      "2019-05-21 17:05:02,302 - climada.hazard.bush_fire - INFO - Computing maximum brightness for each (lat,lon) point.\n",
      "2019-05-21 17:05:02,321 - climada.hazard.bush_fire - DEBUG - BallTree\n",
      "2019-05-21 17:05:02,643 - climada.hazard.bush_fire - DEBUG - BallTree\n",
      "2019-05-21 17:05:02,946 - climada.hazard.bush_fire - DEBUG - Brightness np.array for the event\n",
      "2019-05-21 17:05:02,984 - climada.hazard.bush_fire - DEBUG - Sub-dataframe corresponding to event\n"
     ]
    },
    {
     "name": "stderr",
     "output_type": "stream",
     "text": [
      "/Applications/anaconda3/envs/climada_env/lib/python3.7/site-packages/numpy/core/fromnumeric.py:56: FutureWarning: Series.nonzero() is deprecated and will be removed in a future version.Use Series.to_numpy().nonzero() instead\n",
      "  return getattr(obj, method)(*args, **kwds)\n"
     ]
    },
    {
     "name": "stdout",
     "output_type": "stream",
     "text": [
      "2019-05-21 17:05:03,007 - climada.hazard.bush_fire - INFO - Identifying closest (lat,lon) points from firms dataframe for each centroid.\n",
      "2019-05-21 17:05:03,016 - climada.hazard.bush_fire - INFO - Computing maximum brightness for each (lat,lon) point.\n",
      "2019-05-21 17:05:03,023 - climada.hazard.bush_fire - DEBUG - BallTree\n",
      "2019-05-21 17:05:03,878 - climada.hazard.bush_fire - DEBUG - Brightness np.array for the event\n",
      "2019-05-21 17:05:03,900 - climada.hazard.bush_fire - DEBUG - Sub-dataframe corresponding to event\n"
     ]
    },
    {
     "name": "stderr",
     "output_type": "stream",
     "text": [
      "/Applications/anaconda3/envs/climada_env/lib/python3.7/site-packages/numpy/core/fromnumeric.py:56: FutureWarning: Series.nonzero() is deprecated and will be removed in a future version.Use Series.to_numpy().nonzero() instead\n",
      "  return getattr(obj, method)(*args, **kwds)\n"
     ]
    },
    {
     "name": "stdout",
     "output_type": "stream",
     "text": [
      "2019-05-21 17:05:03,918 - climada.hazard.bush_fire - INFO - Identifying closest (lat,lon) points from firms dataframe for each centroid.\n",
      "2019-05-21 17:05:03,928 - climada.hazard.bush_fire - INFO - Computing maximum brightness for each (lat,lon) point.\n",
      "2019-05-21 17:05:03,936 - climada.hazard.bush_fire - DEBUG - BallTree\n",
      "2019-05-21 17:05:05,378 - climada.hazard.bush_fire - DEBUG - Brightness np.array for the event\n",
      "2019-05-21 17:05:05,400 - climada.hazard.bush_fire - DEBUG - Sub-dataframe corresponding to event\n"
     ]
    },
    {
     "name": "stderr",
     "output_type": "stream",
     "text": [
      "/Applications/anaconda3/envs/climada_env/lib/python3.7/site-packages/numpy/core/fromnumeric.py:56: FutureWarning: Series.nonzero() is deprecated and will be removed in a future version.Use Series.to_numpy().nonzero() instead\n",
      "  return getattr(obj, method)(*args, **kwds)\n"
     ]
    },
    {
     "name": "stdout",
     "output_type": "stream",
     "text": [
      "2019-05-21 17:05:05,417 - climada.hazard.bush_fire - INFO - Identifying closest (lat,lon) points from firms dataframe for each centroid.\n",
      "2019-05-21 17:05:05,424 - climada.hazard.bush_fire - INFO - Computing maximum brightness for each (lat,lon) point.\n",
      "2019-05-21 17:05:05,430 - climada.hazard.bush_fire - DEBUG - BallTree\n",
      "2019-05-21 17:05:05,732 - climada.hazard.bush_fire - DEBUG - Brightness np.array for the event\n",
      "2019-05-21 17:05:05,773 - climada.hazard.bush_fire - DEBUG - Sub-dataframe corresponding to event\n"
     ]
    },
    {
     "name": "stderr",
     "output_type": "stream",
     "text": [
      "/Applications/anaconda3/envs/climada_env/lib/python3.7/site-packages/numpy/core/fromnumeric.py:56: FutureWarning: Series.nonzero() is deprecated and will be removed in a future version.Use Series.to_numpy().nonzero() instead\n",
      "  return getattr(obj, method)(*args, **kwds)\n"
     ]
    },
    {
     "name": "stdout",
     "output_type": "stream",
     "text": [
      "2019-05-21 17:05:05,799 - climada.hazard.bush_fire - INFO - Identifying closest (lat,lon) points from firms dataframe for each centroid.\n",
      "2019-05-21 17:05:05,807 - climada.hazard.bush_fire - INFO - Computing maximum brightness for each (lat,lon) point.\n",
      "2019-05-21 17:05:05,813 - climada.hazard.bush_fire - DEBUG - BallTree\n",
      "2019-05-21 17:05:06,178 - climada.hazard.bush_fire - DEBUG - Brightness np.array for the event\n",
      "2019-05-21 17:05:06,309 - climada.hazard.bush_fire - DEBUG - Sub-dataframe corresponding to event\n"
     ]
    },
    {
     "name": "stderr",
     "output_type": "stream",
     "text": [
      "/Applications/anaconda3/envs/climada_env/lib/python3.7/site-packages/numpy/core/fromnumeric.py:56: FutureWarning: Series.nonzero() is deprecated and will be removed in a future version.Use Series.to_numpy().nonzero() instead\n",
      "  return getattr(obj, method)(*args, **kwds)\n"
     ]
    },
    {
     "name": "stdout",
     "output_type": "stream",
     "text": [
      "2019-05-21 17:05:06,399 - climada.hazard.bush_fire - INFO - Identifying closest (lat,lon) points from firms dataframe for each centroid.\n",
      "2019-05-21 17:05:06,427 - climada.hazard.bush_fire - INFO - Computing maximum brightness for each (lat,lon) point.\n",
      "2019-05-21 17:05:07,753 - climada.hazard.bush_fire - DEBUG - Brightness np.array for the event\n",
      "2019-05-21 17:05:07,777 - climada.hazard.bush_fire - DEBUG - Sub-dataframe corresponding to event\n"
     ]
    },
    {
     "name": "stderr",
     "output_type": "stream",
     "text": [
      "/Applications/anaconda3/envs/climada_env/lib/python3.7/site-packages/numpy/core/fromnumeric.py:56: FutureWarning: Series.nonzero() is deprecated and will be removed in a future version.Use Series.to_numpy().nonzero() instead\n",
      "  return getattr(obj, method)(*args, **kwds)\n"
     ]
    },
    {
     "name": "stdout",
     "output_type": "stream",
     "text": [
      "2019-05-21 17:05:07,803 - climada.hazard.bush_fire - INFO - Identifying closest (lat,lon) points from firms dataframe for each centroid.\n",
      "2019-05-21 17:05:07,815 - climada.hazard.bush_fire - INFO - Computing maximum brightness for each (lat,lon) point.\n",
      "2019-05-21 17:05:07,823 - climada.hazard.bush_fire - DEBUG - BallTree\n",
      "2019-05-21 17:05:08,606 - climada.hazard.bush_fire - DEBUG - BallTree\n",
      "2019-05-21 17:05:09,401 - climada.hazard.bush_fire - DEBUG - Brightness np.array for the event\n",
      "2019-05-21 17:05:09,423 - climada.hazard.bush_fire - DEBUG - Sub-dataframe corresponding to event\n"
     ]
    },
    {
     "name": "stderr",
     "output_type": "stream",
     "text": [
      "/Applications/anaconda3/envs/climada_env/lib/python3.7/site-packages/numpy/core/fromnumeric.py:56: FutureWarning: Series.nonzero() is deprecated and will be removed in a future version.Use Series.to_numpy().nonzero() instead\n",
      "  return getattr(obj, method)(*args, **kwds)\n"
     ]
    },
    {
     "name": "stdout",
     "output_type": "stream",
     "text": [
      "2019-05-21 17:05:09,439 - climada.hazard.bush_fire - INFO - Identifying closest (lat,lon) points from firms dataframe for each centroid.\n",
      "2019-05-21 17:05:09,451 - climada.hazard.bush_fire - INFO - Computing maximum brightness for each (lat,lon) point.\n",
      "2019-05-21 17:05:09,540 - climada.hazard.bush_fire - DEBUG - BallTree\n",
      "2019-05-21 17:05:09,683 - climada.hazard.bush_fire - DEBUG - Brightness np.array for the event\n",
      "2019-05-21 17:05:09,711 - climada.hazard.bush_fire - DEBUG - Sub-dataframe corresponding to event\n"
     ]
    },
    {
     "name": "stderr",
     "output_type": "stream",
     "text": [
      "/Applications/anaconda3/envs/climada_env/lib/python3.7/site-packages/numpy/core/fromnumeric.py:56: FutureWarning: Series.nonzero() is deprecated and will be removed in a future version.Use Series.to_numpy().nonzero() instead\n",
      "  return getattr(obj, method)(*args, **kwds)\n"
     ]
    },
    {
     "name": "stdout",
     "output_type": "stream",
     "text": [
      "2019-05-21 17:05:09,758 - climada.hazard.bush_fire - INFO - Identifying closest (lat,lon) points from firms dataframe for each centroid.\n",
      "2019-05-21 17:05:09,789 - climada.hazard.bush_fire - INFO - Computing maximum brightness for each (lat,lon) point.\n",
      "2019-05-21 17:05:12,019 - climada.hazard.bush_fire - DEBUG - Brightness np.array for the event\n",
      "2019-05-21 17:05:12,041 - climada.hazard.bush_fire - DEBUG - Sub-dataframe corresponding to event\n"
     ]
    },
    {
     "name": "stderr",
     "output_type": "stream",
     "text": [
      "/Applications/anaconda3/envs/climada_env/lib/python3.7/site-packages/numpy/core/fromnumeric.py:56: FutureWarning: Series.nonzero() is deprecated and will be removed in a future version.Use Series.to_numpy().nonzero() instead\n",
      "  return getattr(obj, method)(*args, **kwds)\n"
     ]
    },
    {
     "name": "stdout",
     "output_type": "stream",
     "text": [
      "2019-05-21 17:05:12,056 - climada.hazard.bush_fire - INFO - Identifying closest (lat,lon) points from firms dataframe for each centroid.\n",
      "2019-05-21 17:05:12,067 - climada.hazard.bush_fire - INFO - Computing maximum brightness for each (lat,lon) point.\n",
      "2019-05-21 17:05:12,121 - climada.hazard.bush_fire - DEBUG - BallTree\n",
      "2019-05-21 17:05:13,132 - climada.hazard.bush_fire - DEBUG - Brightness np.array for the event\n",
      "2019-05-21 17:05:13,196 - climada.hazard.bush_fire - DEBUG - Sub-dataframe corresponding to event\n"
     ]
    },
    {
     "name": "stderr",
     "output_type": "stream",
     "text": [
      "/Applications/anaconda3/envs/climada_env/lib/python3.7/site-packages/numpy/core/fromnumeric.py:56: FutureWarning: Series.nonzero() is deprecated and will be removed in a future version.Use Series.to_numpy().nonzero() instead\n",
      "  return getattr(obj, method)(*args, **kwds)\n"
     ]
    },
    {
     "name": "stdout",
     "output_type": "stream",
     "text": [
      "2019-05-21 17:05:13,208 - climada.hazard.bush_fire - INFO - Identifying closest (lat,lon) points from firms dataframe for each centroid.\n",
      "2019-05-21 17:05:13,217 - climada.hazard.bush_fire - INFO - Computing maximum brightness for each (lat,lon) point.\n",
      "2019-05-21 17:05:13,276 - climada.hazard.bush_fire - DEBUG - BallTree\n",
      "2019-05-21 17:05:13,407 - climada.hazard.bush_fire - DEBUG - BallTree\n",
      "2019-05-21 17:05:14,692 - climada.hazard.bush_fire - DEBUG - Brightness np.array for the event\n",
      "2019-05-21 17:05:15,107 - climada.hazard.bush_fire - DEBUG - Sub-dataframe corresponding to event\n"
     ]
    },
    {
     "name": "stderr",
     "output_type": "stream",
     "text": [
      "/Applications/anaconda3/envs/climada_env/lib/python3.7/site-packages/numpy/core/fromnumeric.py:56: FutureWarning: Series.nonzero() is deprecated and will be removed in a future version.Use Series.to_numpy().nonzero() instead\n",
      "  return getattr(obj, method)(*args, **kwds)\n"
     ]
    },
    {
     "name": "stdout",
     "output_type": "stream",
     "text": [
      "2019-05-21 17:05:15,179 - climada.hazard.bush_fire - INFO - Identifying closest (lat,lon) points from firms dataframe for each centroid.\n",
      "2019-05-21 17:05:15,187 - climada.hazard.bush_fire - INFO - Computing maximum brightness for each (lat,lon) point.\n",
      "2019-05-21 17:05:15,282 - climada.hazard.bush_fire - DEBUG - BallTree\n",
      "2019-05-21 17:05:16,615 - climada.hazard.bush_fire - DEBUG - Brightness np.array for the event\n",
      "2019-05-21 17:05:16,967 - climada.hazard.bush_fire - DEBUG - Sub-dataframe corresponding to event\n"
     ]
    },
    {
     "name": "stderr",
     "output_type": "stream",
     "text": [
      "/Applications/anaconda3/envs/climada_env/lib/python3.7/site-packages/numpy/core/fromnumeric.py:56: FutureWarning: Series.nonzero() is deprecated and will be removed in a future version.Use Series.to_numpy().nonzero() instead\n",
      "  return getattr(obj, method)(*args, **kwds)\n"
     ]
    },
    {
     "name": "stdout",
     "output_type": "stream",
     "text": [
      "2019-05-21 17:05:17,009 - climada.hazard.bush_fire - INFO - Identifying closest (lat,lon) points from firms dataframe for each centroid.\n",
      "2019-05-21 17:05:17,041 - climada.hazard.bush_fire - INFO - Computing maximum brightness for each (lat,lon) point.\n",
      "2019-05-21 17:05:17,113 - climada.hazard.bush_fire - DEBUG - BallTree\n",
      "2019-05-21 17:05:17,873 - climada.hazard.bush_fire - DEBUG - Brightness np.array for the event\n",
      "2019-05-21 17:05:17,885 - climada.hazard.bush_fire - DEBUG - Brightness np.array for the event\n",
      "2019-05-21 17:05:17,895 - climada.hazard.bush_fire - DEBUG - Sub-dataframe corresponding to event\n"
     ]
    },
    {
     "name": "stderr",
     "output_type": "stream",
     "text": [
      "/Applications/anaconda3/envs/climada_env/lib/python3.7/site-packages/numpy/core/fromnumeric.py:56: FutureWarning: Series.nonzero() is deprecated and will be removed in a future version.Use Series.to_numpy().nonzero() instead\n",
      "  return getattr(obj, method)(*args, **kwds)\n"
     ]
    },
    {
     "name": "stdout",
     "output_type": "stream",
     "text": [
      "2019-05-21 17:05:17,911 - climada.hazard.bush_fire - INFO - Identifying closest (lat,lon) points from firms dataframe for each centroid.\n",
      "2019-05-21 17:05:17,933 - climada.hazard.bush_fire - INFO - Computing maximum brightness for each (lat,lon) point.\n",
      "2019-05-21 17:05:17,976 - climada.hazard.bush_fire - DEBUG - Sub-dataframe corresponding to event\n"
     ]
    },
    {
     "name": "stderr",
     "output_type": "stream",
     "text": [
      "/Applications/anaconda3/envs/climada_env/lib/python3.7/site-packages/numpy/core/fromnumeric.py:56: FutureWarning: Series.nonzero() is deprecated and will be removed in a future version.Use Series.to_numpy().nonzero() instead\n",
      "  return getattr(obj, method)(*args, **kwds)\n"
     ]
    },
    {
     "name": "stdout",
     "output_type": "stream",
     "text": [
      "2019-05-21 17:05:18,012 - climada.hazard.bush_fire - INFO - Identifying closest (lat,lon) points from firms dataframe for each centroid.\n",
      "2019-05-21 17:05:18,045 - climada.hazard.bush_fire - INFO - Computing maximum brightness for each (lat,lon) point.\n",
      "2019-05-21 17:05:18,067 - climada.hazard.bush_fire - DEBUG - BallTree\n",
      "2019-05-21 17:05:18,173 - climada.hazard.bush_fire - DEBUG - BallTree\n",
      "2019-05-21 17:05:19,567 - climada.hazard.bush_fire - DEBUG - Brightness np.array for the event\n",
      "2019-05-21 17:05:19,600 - climada.hazard.bush_fire - DEBUG - Sub-dataframe corresponding to event\n"
     ]
    },
    {
     "name": "stderr",
     "output_type": "stream",
     "text": [
      "/Applications/anaconda3/envs/climada_env/lib/python3.7/site-packages/numpy/core/fromnumeric.py:56: FutureWarning: Series.nonzero() is deprecated and will be removed in a future version.Use Series.to_numpy().nonzero() instead\n",
      "  return getattr(obj, method)(*args, **kwds)\n"
     ]
    },
    {
     "name": "stdout",
     "output_type": "stream",
     "text": [
      "2019-05-21 17:05:19,631 - climada.hazard.bush_fire - INFO - Identifying closest (lat,lon) points from firms dataframe for each centroid.\n",
      "2019-05-21 17:05:19,660 - climada.hazard.bush_fire - INFO - Computing maximum brightness for each (lat,lon) point.\n",
      "2019-05-21 17:05:19,681 - climada.hazard.bush_fire - DEBUG - BallTree\n",
      "2019-05-21 17:05:21,421 - climada.hazard.bush_fire - DEBUG - Brightness np.array for the event\n",
      "2019-05-21 17:05:21,447 - climada.hazard.bush_fire - DEBUG - Sub-dataframe corresponding to event\n"
     ]
    },
    {
     "name": "stderr",
     "output_type": "stream",
     "text": [
      "/Applications/anaconda3/envs/climada_env/lib/python3.7/site-packages/numpy/core/fromnumeric.py:56: FutureWarning: Series.nonzero() is deprecated and will be removed in a future version.Use Series.to_numpy().nonzero() instead\n",
      "  return getattr(obj, method)(*args, **kwds)\n"
     ]
    },
    {
     "name": "stdout",
     "output_type": "stream",
     "text": [
      "2019-05-21 17:05:21,461 - climada.hazard.bush_fire - INFO - Identifying closest (lat,lon) points from firms dataframe for each centroid.\n",
      "2019-05-21 17:05:21,511 - climada.hazard.bush_fire - INFO - Computing maximum brightness for each (lat,lon) point.\n",
      "2019-05-21 17:05:22,028 - climada.hazard.bush_fire - DEBUG - Brightness np.array for the event\n",
      "2019-05-21 17:05:22,072 - climada.hazard.bush_fire - DEBUG - Sub-dataframe corresponding to event\n"
     ]
    },
    {
     "name": "stderr",
     "output_type": "stream",
     "text": [
      "/Applications/anaconda3/envs/climada_env/lib/python3.7/site-packages/numpy/core/fromnumeric.py:56: FutureWarning: Series.nonzero() is deprecated and will be removed in a future version.Use Series.to_numpy().nonzero() instead\n",
      "  return getattr(obj, method)(*args, **kwds)\n"
     ]
    },
    {
     "name": "stdout",
     "output_type": "stream",
     "text": [
      "2019-05-21 17:05:22,095 - climada.hazard.bush_fire - DEBUG - Brightness np.array for the event\n",
      "2019-05-21 17:05:22,104 - climada.hazard.bush_fire - INFO - Identifying closest (lat,lon) points from firms dataframe for each centroid.\n",
      "2019-05-21 17:05:22,117 - climada.hazard.bush_fire - INFO - Computing maximum brightness for each (lat,lon) point.\n",
      "2019-05-21 17:05:22,128 - climada.hazard.bush_fire - DEBUG - BallTree\n",
      "2019-05-21 17:05:22,496 - climada.hazard.bush_fire - DEBUG - Sub-dataframe corresponding to event\n"
     ]
    },
    {
     "name": "stderr",
     "output_type": "stream",
     "text": [
      "/Applications/anaconda3/envs/climada_env/lib/python3.7/site-packages/numpy/core/fromnumeric.py:56: FutureWarning: Series.nonzero() is deprecated and will be removed in a future version.Use Series.to_numpy().nonzero() instead\n",
      "  return getattr(obj, method)(*args, **kwds)\n"
     ]
    },
    {
     "name": "stdout",
     "output_type": "stream",
     "text": [
      "2019-05-21 17:05:22,531 - climada.hazard.bush_fire - INFO - Identifying closest (lat,lon) points from firms dataframe for each centroid.\n",
      "2019-05-21 17:05:22,577 - climada.hazard.bush_fire - INFO - Computing maximum brightness for each (lat,lon) point.\n",
      "2019-05-21 17:05:22,610 - climada.hazard.bush_fire - DEBUG - BallTree\n",
      "2019-05-21 17:05:23,514 - climada.hazard.bush_fire - DEBUG - Brightness np.array for the event\n",
      "2019-05-21 17:05:23,547 - climada.hazard.bush_fire - DEBUG - Sub-dataframe corresponding to event\n"
     ]
    },
    {
     "name": "stderr",
     "output_type": "stream",
     "text": [
      "/Applications/anaconda3/envs/climada_env/lib/python3.7/site-packages/numpy/core/fromnumeric.py:56: FutureWarning: Series.nonzero() is deprecated and will be removed in a future version.Use Series.to_numpy().nonzero() instead\n",
      "  return getattr(obj, method)(*args, **kwds)\n"
     ]
    },
    {
     "name": "stdout",
     "output_type": "stream",
     "text": [
      "2019-05-21 17:05:23,583 - climada.hazard.bush_fire - INFO - Identifying closest (lat,lon) points from firms dataframe for each centroid.\n",
      "2019-05-21 17:05:23,594 - climada.hazard.bush_fire - INFO - Computing maximum brightness for each (lat,lon) point.\n",
      "2019-05-21 17:05:23,685 - climada.hazard.bush_fire - DEBUG - BallTree\n",
      "2019-05-21 17:05:24,766 - climada.hazard.bush_fire - DEBUG - BallTree\n",
      "2019-05-21 17:05:26,363 - climada.hazard.bush_fire - DEBUG - Brightness np.array for the event\n",
      "2019-05-21 17:05:26,709 - climada.hazard.bush_fire - DEBUG - Sub-dataframe corresponding to event\n"
     ]
    },
    {
     "name": "stderr",
     "output_type": "stream",
     "text": [
      "/Applications/anaconda3/envs/climada_env/lib/python3.7/site-packages/numpy/core/fromnumeric.py:56: FutureWarning: Series.nonzero() is deprecated and will be removed in a future version.Use Series.to_numpy().nonzero() instead\n",
      "  return getattr(obj, method)(*args, **kwds)\n"
     ]
    },
    {
     "name": "stdout",
     "output_type": "stream",
     "text": [
      "2019-05-21 17:05:26,763 - climada.hazard.bush_fire - DEBUG - Brightness np.array for the event\n",
      "2019-05-21 17:05:26,764 - climada.hazard.bush_fire - INFO - Identifying closest (lat,lon) points from firms dataframe for each centroid.\n",
      "2019-05-21 17:05:26,789 - climada.hazard.bush_fire - INFO - Computing maximum brightness for each (lat,lon) point.\n",
      "2019-05-21 17:05:26,831 - climada.hazard.bush_fire - DEBUG - Sub-dataframe corresponding to event\n"
     ]
    },
    {
     "name": "stderr",
     "output_type": "stream",
     "text": [
      "/Applications/anaconda3/envs/climada_env/lib/python3.7/site-packages/numpy/core/fromnumeric.py:56: FutureWarning: Series.nonzero() is deprecated and will be removed in a future version.Use Series.to_numpy().nonzero() instead\n",
      "  return getattr(obj, method)(*args, **kwds)\n"
     ]
    },
    {
     "name": "stdout",
     "output_type": "stream",
     "text": [
      "2019-05-21 17:05:26,850 - climada.hazard.bush_fire - INFO - Identifying closest (lat,lon) points from firms dataframe for each centroid.\n",
      "2019-05-21 17:05:26,857 - climada.hazard.bush_fire - INFO - Computing maximum brightness for each (lat,lon) point.\n",
      "2019-05-21 17:05:26,932 - climada.hazard.bush_fire - DEBUG - BallTree\n",
      "2019-05-21 17:05:27,667 - climada.hazard.bush_fire - DEBUG - Brightness np.array for the event\n",
      "2019-05-21 17:05:27,708 - climada.hazard.bush_fire - DEBUG - Sub-dataframe corresponding to event\n"
     ]
    },
    {
     "name": "stderr",
     "output_type": "stream",
     "text": [
      "/Applications/anaconda3/envs/climada_env/lib/python3.7/site-packages/numpy/core/fromnumeric.py:56: FutureWarning: Series.nonzero() is deprecated and will be removed in a future version.Use Series.to_numpy().nonzero() instead\n",
      "  return getattr(obj, method)(*args, **kwds)\n"
     ]
    },
    {
     "name": "stdout",
     "output_type": "stream",
     "text": [
      "2019-05-21 17:05:27,729 - climada.hazard.bush_fire - INFO - Identifying closest (lat,lon) points from firms dataframe for each centroid.\n",
      "2019-05-21 17:05:27,770 - climada.hazard.bush_fire - INFO - Computing maximum brightness for each (lat,lon) point.\n",
      "2019-05-21 17:05:27,785 - climada.hazard.bush_fire - DEBUG - BallTree\n",
      "2019-05-21 17:05:28,837 - climada.hazard.bush_fire - DEBUG - Brightness np.array for the event\n",
      "2019-05-21 17:05:28,911 - climada.hazard.bush_fire - DEBUG - Sub-dataframe corresponding to event\n"
     ]
    },
    {
     "name": "stderr",
     "output_type": "stream",
     "text": [
      "/Applications/anaconda3/envs/climada_env/lib/python3.7/site-packages/numpy/core/fromnumeric.py:56: FutureWarning: Series.nonzero() is deprecated and will be removed in a future version.Use Series.to_numpy().nonzero() instead\n",
      "  return getattr(obj, method)(*args, **kwds)\n"
     ]
    },
    {
     "name": "stdout",
     "output_type": "stream",
     "text": [
      "2019-05-21 17:05:28,949 - climada.hazard.bush_fire - INFO - Identifying closest (lat,lon) points from firms dataframe for each centroid.\n",
      "2019-05-21 17:05:28,973 - climada.hazard.bush_fire - INFO - Computing maximum brightness for each (lat,lon) point.\n",
      "2019-05-21 17:05:29,017 - climada.hazard.bush_fire - DEBUG - BallTree\n",
      "2019-05-21 17:05:29,272 - climada.hazard.bush_fire - DEBUG - BallTree\n",
      "2019-05-21 17:05:31,117 - climada.hazard.bush_fire - DEBUG - Brightness np.array for the event\n",
      "2019-05-21 17:05:31,151 - climada.hazard.bush_fire - DEBUG - Sub-dataframe corresponding to event\n"
     ]
    },
    {
     "name": "stderr",
     "output_type": "stream",
     "text": [
      "/Applications/anaconda3/envs/climada_env/lib/python3.7/site-packages/numpy/core/fromnumeric.py:56: FutureWarning: Series.nonzero() is deprecated and will be removed in a future version.Use Series.to_numpy().nonzero() instead\n",
      "  return getattr(obj, method)(*args, **kwds)\n"
     ]
    },
    {
     "name": "stdout",
     "output_type": "stream",
     "text": [
      "2019-05-21 17:05:31,170 - climada.hazard.bush_fire - INFO - Identifying closest (lat,lon) points from firms dataframe for each centroid.\n",
      "2019-05-21 17:05:31,178 - climada.hazard.bush_fire - INFO - Computing maximum brightness for each (lat,lon) point.\n",
      "2019-05-21 17:05:31,291 - climada.hazard.bush_fire - DEBUG - BallTree\n",
      "2019-05-21 17:05:31,580 - climada.hazard.bush_fire - DEBUG - Brightness np.array for the event\n",
      "2019-05-21 17:05:31,613 - climada.hazard.bush_fire - DEBUG - Sub-dataframe corresponding to event\n"
     ]
    },
    {
     "name": "stderr",
     "output_type": "stream",
     "text": [
      "/Applications/anaconda3/envs/climada_env/lib/python3.7/site-packages/numpy/core/fromnumeric.py:56: FutureWarning: Series.nonzero() is deprecated and will be removed in a future version.Use Series.to_numpy().nonzero() instead\n",
      "  return getattr(obj, method)(*args, **kwds)\n"
     ]
    },
    {
     "name": "stdout",
     "output_type": "stream",
     "text": [
      "2019-05-21 17:05:31,637 - climada.hazard.bush_fire - INFO - Identifying closest (lat,lon) points from firms dataframe for each centroid.\n",
      "2019-05-21 17:05:31,646 - climada.hazard.bush_fire - INFO - Computing maximum brightness for each (lat,lon) point.\n",
      "2019-05-21 17:05:31,653 - climada.hazard.bush_fire - DEBUG - BallTree\n",
      "2019-05-21 17:05:32,804 - climada.hazard.bush_fire - DEBUG - Brightness np.array for the event\n",
      "2019-05-21 17:05:32,828 - climada.hazard.bush_fire - DEBUG - Sub-dataframe corresponding to event\n"
     ]
    },
    {
     "name": "stderr",
     "output_type": "stream",
     "text": [
      "/Applications/anaconda3/envs/climada_env/lib/python3.7/site-packages/numpy/core/fromnumeric.py:56: FutureWarning: Series.nonzero() is deprecated and will be removed in a future version.Use Series.to_numpy().nonzero() instead\n",
      "  return getattr(obj, method)(*args, **kwds)\n"
     ]
    },
    {
     "name": "stdout",
     "output_type": "stream",
     "text": [
      "2019-05-21 17:05:32,877 - climada.hazard.bush_fire - INFO - Identifying closest (lat,lon) points from firms dataframe for each centroid.\n",
      "2019-05-21 17:05:32,908 - climada.hazard.bush_fire - INFO - Computing maximum brightness for each (lat,lon) point.\n",
      "2019-05-21 17:05:32,918 - climada.hazard.bush_fire - DEBUG - BallTree\n",
      "2019-05-21 17:05:33,283 - climada.hazard.bush_fire - DEBUG - Brightness np.array for the event\n",
      "2019-05-21 17:05:33,355 - climada.hazard.bush_fire - DEBUG - Sub-dataframe corresponding to event\n"
     ]
    },
    {
     "name": "stderr",
     "output_type": "stream",
     "text": [
      "/Applications/anaconda3/envs/climada_env/lib/python3.7/site-packages/numpy/core/fromnumeric.py:56: FutureWarning: Series.nonzero() is deprecated and will be removed in a future version.Use Series.to_numpy().nonzero() instead\n",
      "  return getattr(obj, method)(*args, **kwds)\n"
     ]
    },
    {
     "name": "stdout",
     "output_type": "stream",
     "text": [
      "2019-05-21 17:05:33,394 - climada.hazard.bush_fire - INFO - Identifying closest (lat,lon) points from firms dataframe for each centroid.\n",
      "2019-05-21 17:05:33,407 - climada.hazard.bush_fire - INFO - Computing maximum brightness for each (lat,lon) point.\n",
      "2019-05-21 17:05:33,429 - climada.hazard.bush_fire - DEBUG - BallTree\n",
      "2019-05-21 17:05:35,277 - climada.hazard.bush_fire - DEBUG - Brightness np.array for the event\n",
      "2019-05-21 17:05:35,300 - climada.hazard.bush_fire - DEBUG - Sub-dataframe corresponding to event\n"
     ]
    },
    {
     "name": "stderr",
     "output_type": "stream",
     "text": [
      "/Applications/anaconda3/envs/climada_env/lib/python3.7/site-packages/numpy/core/fromnumeric.py:56: FutureWarning: Series.nonzero() is deprecated and will be removed in a future version.Use Series.to_numpy().nonzero() instead\n",
      "  return getattr(obj, method)(*args, **kwds)\n"
     ]
    },
    {
     "name": "stdout",
     "output_type": "stream",
     "text": [
      "2019-05-21 17:05:35,327 - climada.hazard.bush_fire - INFO - Identifying closest (lat,lon) points from firms dataframe for each centroid.\n",
      "2019-05-21 17:05:35,354 - climada.hazard.bush_fire - INFO - Computing maximum brightness for each (lat,lon) point.\n",
      "2019-05-21 17:05:35,368 - climada.hazard.bush_fire - DEBUG - BallTree\n",
      "2019-05-21 17:05:35,561 - climada.hazard.bush_fire - DEBUG - Brightness np.array for the event\n",
      "2019-05-21 17:05:35,604 - climada.hazard.bush_fire - DEBUG - Sub-dataframe corresponding to event\n"
     ]
    },
    {
     "name": "stderr",
     "output_type": "stream",
     "text": [
      "/Applications/anaconda3/envs/climada_env/lib/python3.7/site-packages/numpy/core/fromnumeric.py:56: FutureWarning: Series.nonzero() is deprecated and will be removed in a future version.Use Series.to_numpy().nonzero() instead\n",
      "  return getattr(obj, method)(*args, **kwds)\n"
     ]
    },
    {
     "name": "stdout",
     "output_type": "stream",
     "text": [
      "2019-05-21 17:05:35,627 - climada.hazard.bush_fire - INFO - Identifying closest (lat,lon) points from firms dataframe for each centroid.\n",
      "2019-05-21 17:05:35,657 - climada.hazard.bush_fire - INFO - Computing maximum brightness for each (lat,lon) point.\n",
      "2019-05-21 17:05:35,699 - climada.hazard.bush_fire - DEBUG - BallTree\n",
      "2019-05-21 17:05:36,907 - climada.hazard.bush_fire - DEBUG - Brightness np.array for the event\n",
      "2019-05-21 17:05:36,931 - climada.hazard.bush_fire - DEBUG - Sub-dataframe corresponding to event\n"
     ]
    },
    {
     "name": "stderr",
     "output_type": "stream",
     "text": [
      "/Applications/anaconda3/envs/climada_env/lib/python3.7/site-packages/numpy/core/fromnumeric.py:56: FutureWarning: Series.nonzero() is deprecated and will be removed in a future version.Use Series.to_numpy().nonzero() instead\n",
      "  return getattr(obj, method)(*args, **kwds)\n"
     ]
    },
    {
     "name": "stdout",
     "output_type": "stream",
     "text": [
      "2019-05-21 17:05:36,960 - climada.hazard.bush_fire - INFO - Identifying closest (lat,lon) points from firms dataframe for each centroid.\n",
      "2019-05-21 17:05:36,990 - climada.hazard.bush_fire - INFO - Computing maximum brightness for each (lat,lon) point.\n",
      "2019-05-21 17:05:37,000 - climada.hazard.bush_fire - DEBUG - BallTree\n",
      "2019-05-21 17:05:37,373 - climada.hazard.bush_fire - DEBUG - Brightness np.array for the event\n",
      "2019-05-21 17:05:37,408 - climada.hazard.bush_fire - DEBUG - Sub-dataframe corresponding to event\n"
     ]
    },
    {
     "name": "stderr",
     "output_type": "stream",
     "text": [
      "/Applications/anaconda3/envs/climada_env/lib/python3.7/site-packages/numpy/core/fromnumeric.py:56: FutureWarning: Series.nonzero() is deprecated and will be removed in a future version.Use Series.to_numpy().nonzero() instead\n",
      "  return getattr(obj, method)(*args, **kwds)\n"
     ]
    },
    {
     "name": "stdout",
     "output_type": "stream",
     "text": [
      "2019-05-21 17:05:37,450 - climada.hazard.bush_fire - INFO - Identifying closest (lat,lon) points from firms dataframe for each centroid.\n",
      "2019-05-21 17:05:37,474 - climada.hazard.bush_fire - INFO - Computing maximum brightness for each (lat,lon) point.\n",
      "2019-05-21 17:05:37,713 - climada.hazard.bush_fire - DEBUG - BallTree\n",
      "2019-05-21 17:05:39,614 - climada.hazard.bush_fire - DEBUG - Brightness np.array for the event\n",
      "2019-05-21 17:05:39,637 - climada.hazard.bush_fire - DEBUG - Sub-dataframe corresponding to event\n"
     ]
    },
    {
     "name": "stderr",
     "output_type": "stream",
     "text": [
      "/Applications/anaconda3/envs/climada_env/lib/python3.7/site-packages/numpy/core/fromnumeric.py:56: FutureWarning: Series.nonzero() is deprecated and will be removed in a future version.Use Series.to_numpy().nonzero() instead\n",
      "  return getattr(obj, method)(*args, **kwds)\n"
     ]
    },
    {
     "name": "stdout",
     "output_type": "stream",
     "text": [
      "2019-05-21 17:05:39,652 - climada.hazard.bush_fire - INFO - Identifying closest (lat,lon) points from firms dataframe for each centroid.\n",
      "2019-05-21 17:05:39,665 - climada.hazard.bush_fire - INFO - Computing maximum brightness for each (lat,lon) point.\n",
      "2019-05-21 17:05:39,674 - climada.hazard.bush_fire - DEBUG - BallTree\n",
      "2019-05-21 17:05:39,899 - climada.hazard.bush_fire - DEBUG - Brightness np.array for the event\n",
      "2019-05-21 17:05:39,945 - climada.hazard.bush_fire - DEBUG - Sub-dataframe corresponding to event\n"
     ]
    },
    {
     "name": "stderr",
     "output_type": "stream",
     "text": [
      "/Applications/anaconda3/envs/climada_env/lib/python3.7/site-packages/numpy/core/fromnumeric.py:56: FutureWarning: Series.nonzero() is deprecated and will be removed in a future version.Use Series.to_numpy().nonzero() instead\n",
      "  return getattr(obj, method)(*args, **kwds)\n"
     ]
    },
    {
     "name": "stdout",
     "output_type": "stream",
     "text": [
      "2019-05-21 17:05:39,970 - climada.hazard.bush_fire - INFO - Identifying closest (lat,lon) points from firms dataframe for each centroid.\n",
      "2019-05-21 17:05:39,990 - climada.hazard.bush_fire - INFO - Computing maximum brightness for each (lat,lon) point.\n",
      "2019-05-21 17:05:40,981 - climada.hazard.bush_fire - DEBUG - Brightness np.array for the event\n",
      "2019-05-21 17:05:41,020 - climada.hazard.bush_fire - DEBUG - Sub-dataframe corresponding to event\n"
     ]
    },
    {
     "name": "stderr",
     "output_type": "stream",
     "text": [
      "/Applications/anaconda3/envs/climada_env/lib/python3.7/site-packages/numpy/core/fromnumeric.py:56: FutureWarning: Series.nonzero() is deprecated and will be removed in a future version.Use Series.to_numpy().nonzero() instead\n",
      "  return getattr(obj, method)(*args, **kwds)\n"
     ]
    },
    {
     "name": "stdout",
     "output_type": "stream",
     "text": [
      "2019-05-21 17:05:41,060 - climada.hazard.bush_fire - INFO - Identifying closest (lat,lon) points from firms dataframe for each centroid.\n",
      "2019-05-21 17:05:41,109 - climada.hazard.bush_fire - INFO - Computing maximum brightness for each (lat,lon) point.\n",
      "2019-05-21 17:05:41,261 - climada.hazard.bush_fire - DEBUG - BallTree\n",
      "2019-05-21 17:05:41,408 - climada.hazard.bush_fire - DEBUG - Brightness np.array for the event\n",
      "2019-05-21 17:05:41,431 - climada.hazard.bush_fire - DEBUG - Sub-dataframe corresponding to event\n"
     ]
    },
    {
     "name": "stderr",
     "output_type": "stream",
     "text": [
      "/Applications/anaconda3/envs/climada_env/lib/python3.7/site-packages/numpy/core/fromnumeric.py:56: FutureWarning: Series.nonzero() is deprecated and will be removed in a future version.Use Series.to_numpy().nonzero() instead\n",
      "  return getattr(obj, method)(*args, **kwds)\n"
     ]
    },
    {
     "name": "stdout",
     "output_type": "stream",
     "text": [
      "2019-05-21 17:05:41,467 - climada.hazard.bush_fire - INFO - Identifying closest (lat,lon) points from firms dataframe for each centroid.\n",
      "2019-05-21 17:05:41,509 - climada.hazard.bush_fire - INFO - Computing maximum brightness for each (lat,lon) point.\n",
      "2019-05-21 17:05:42,346 - climada.hazard.bush_fire - DEBUG - BallTree\n",
      "2019-05-21 17:05:43,399 - climada.hazard.bush_fire - DEBUG - BallTree\n",
      "2019-05-21 17:05:43,782 - climada.hazard.bush_fire - DEBUG - Brightness np.array for the event\n",
      "2019-05-21 17:05:43,810 - climada.hazard.bush_fire - DEBUG - Sub-dataframe corresponding to event\n"
     ]
    },
    {
     "name": "stderr",
     "output_type": "stream",
     "text": [
      "/Applications/anaconda3/envs/climada_env/lib/python3.7/site-packages/numpy/core/fromnumeric.py:56: FutureWarning: Series.nonzero() is deprecated and will be removed in a future version.Use Series.to_numpy().nonzero() instead\n",
      "  return getattr(obj, method)(*args, **kwds)\n"
     ]
    },
    {
     "name": "stdout",
     "output_type": "stream",
     "text": [
      "2019-05-21 17:05:43,837 - climada.hazard.bush_fire - INFO - Identifying closest (lat,lon) points from firms dataframe for each centroid.\n",
      "2019-05-21 17:05:43,846 - climada.hazard.bush_fire - INFO - Computing maximum brightness for each (lat,lon) point.\n",
      "2019-05-21 17:05:43,875 - climada.hazard.bush_fire - DEBUG - BallTree\n",
      "2019-05-21 17:05:45,109 - climada.hazard.bush_fire - DEBUG - Brightness np.array for the event\n",
      "2019-05-21 17:05:45,142 - climada.hazard.bush_fire - DEBUG - Sub-dataframe corresponding to event\n"
     ]
    },
    {
     "name": "stderr",
     "output_type": "stream",
     "text": [
      "/Applications/anaconda3/envs/climada_env/lib/python3.7/site-packages/numpy/core/fromnumeric.py:56: FutureWarning: Series.nonzero() is deprecated and will be removed in a future version.Use Series.to_numpy().nonzero() instead\n",
      "  return getattr(obj, method)(*args, **kwds)\n"
     ]
    },
    {
     "name": "stdout",
     "output_type": "stream",
     "text": [
      "2019-05-21 17:05:45,161 - climada.hazard.bush_fire - INFO - Identifying closest (lat,lon) points from firms dataframe for each centroid.\n",
      "2019-05-21 17:05:45,210 - climada.hazard.bush_fire - INFO - Computing maximum brightness for each (lat,lon) point.\n",
      "2019-05-21 17:05:45,785 - climada.hazard.bush_fire - DEBUG - Brightness np.array for the event\n",
      "2019-05-21 17:05:45,821 - climada.hazard.bush_fire - DEBUG - Sub-dataframe corresponding to event\n"
     ]
    },
    {
     "name": "stderr",
     "output_type": "stream",
     "text": [
      "/Applications/anaconda3/envs/climada_env/lib/python3.7/site-packages/numpy/core/fromnumeric.py:56: FutureWarning: Series.nonzero() is deprecated and will be removed in a future version.Use Series.to_numpy().nonzero() instead\n",
      "  return getattr(obj, method)(*args, **kwds)\n"
     ]
    },
    {
     "name": "stdout",
     "output_type": "stream",
     "text": [
      "2019-05-21 17:05:45,846 - climada.hazard.bush_fire - INFO - Identifying closest (lat,lon) points from firms dataframe for each centroid.\n",
      "2019-05-21 17:05:45,854 - climada.hazard.bush_fire - INFO - Computing maximum brightness for each (lat,lon) point.\n",
      "2019-05-21 17:05:45,877 - climada.hazard.bush_fire - DEBUG - BallTree\n",
      "2019-05-21 17:05:46,927 - climada.hazard.bush_fire - DEBUG - Brightness np.array for the event\n",
      "2019-05-21 17:05:46,959 - climada.hazard.bush_fire - DEBUG - Sub-dataframe corresponding to event\n"
     ]
    },
    {
     "name": "stderr",
     "output_type": "stream",
     "text": [
      "/Applications/anaconda3/envs/climada_env/lib/python3.7/site-packages/numpy/core/fromnumeric.py:56: FutureWarning: Series.nonzero() is deprecated and will be removed in a future version.Use Series.to_numpy().nonzero() instead\n",
      "  return getattr(obj, method)(*args, **kwds)\n"
     ]
    },
    {
     "name": "stdout",
     "output_type": "stream",
     "text": [
      "2019-05-21 17:05:46,990 - climada.hazard.bush_fire - INFO - Identifying closest (lat,lon) points from firms dataframe for each centroid.\n",
      "2019-05-21 17:05:47,015 - climada.hazard.bush_fire - INFO - Computing maximum brightness for each (lat,lon) point.\n",
      "2019-05-21 17:05:47,320 - climada.hazard.bush_fire - DEBUG - Brightness np.array for the event\n",
      "2019-05-21 17:05:47,344 - climada.hazard.bush_fire - DEBUG - Sub-dataframe corresponding to event\n"
     ]
    },
    {
     "name": "stderr",
     "output_type": "stream",
     "text": [
      "/Applications/anaconda3/envs/climada_env/lib/python3.7/site-packages/numpy/core/fromnumeric.py:56: FutureWarning: Series.nonzero() is deprecated and will be removed in a future version.Use Series.to_numpy().nonzero() instead\n",
      "  return getattr(obj, method)(*args, **kwds)\n"
     ]
    },
    {
     "name": "stdout",
     "output_type": "stream",
     "text": [
      "2019-05-21 17:05:47,412 - climada.hazard.bush_fire - INFO - Identifying closest (lat,lon) points from firms dataframe for each centroid.\n",
      "2019-05-21 17:05:47,435 - climada.hazard.bush_fire - INFO - Computing maximum brightness for each (lat,lon) point.\n",
      "2019-05-21 17:05:48,183 - climada.hazard.bush_fire - DEBUG - BallTree\n",
      "2019-05-21 17:05:49,311 - climada.hazard.bush_fire - DEBUG - Brightness np.array for the event\n",
      "2019-05-21 17:05:49,333 - climada.hazard.bush_fire - DEBUG - Sub-dataframe corresponding to event\n"
     ]
    },
    {
     "name": "stderr",
     "output_type": "stream",
     "text": [
      "/Applications/anaconda3/envs/climada_env/lib/python3.7/site-packages/numpy/core/fromnumeric.py:56: FutureWarning: Series.nonzero() is deprecated and will be removed in a future version.Use Series.to_numpy().nonzero() instead\n",
      "  return getattr(obj, method)(*args, **kwds)\n"
     ]
    },
    {
     "name": "stdout",
     "output_type": "stream",
     "text": [
      "2019-05-21 17:05:49,359 - climada.hazard.bush_fire - INFO - Identifying closest (lat,lon) points from firms dataframe for each centroid.\n",
      "2019-05-21 17:05:49,368 - climada.hazard.bush_fire - INFO - Computing maximum brightness for each (lat,lon) point.\n",
      "2019-05-21 17:05:50,212 - climada.hazard.bush_fire - DEBUG - BallTree\n",
      "2019-05-21 17:05:50,267 - climada.hazard.bush_fire - DEBUG - BallTree\n",
      "2019-05-21 17:05:51,722 - climada.hazard.bush_fire - DEBUG - Brightness np.array for the event\n",
      "2019-05-21 17:05:51,755 - climada.hazard.bush_fire - DEBUG - Sub-dataframe corresponding to event\n"
     ]
    },
    {
     "name": "stderr",
     "output_type": "stream",
     "text": [
      "/Applications/anaconda3/envs/climada_env/lib/python3.7/site-packages/numpy/core/fromnumeric.py:56: FutureWarning: Series.nonzero() is deprecated and will be removed in a future version.Use Series.to_numpy().nonzero() instead\n",
      "  return getattr(obj, method)(*args, **kwds)\n"
     ]
    },
    {
     "name": "stdout",
     "output_type": "stream",
     "text": [
      "2019-05-21 17:05:51,779 - climada.hazard.bush_fire - INFO - Identifying closest (lat,lon) points from firms dataframe for each centroid.\n",
      "2019-05-21 17:05:51,802 - climada.hazard.bush_fire - INFO - Computing maximum brightness for each (lat,lon) point.\n",
      "2019-05-21 17:05:51,850 - climada.hazard.bush_fire - DEBUG - BallTree\n",
      "2019-05-21 17:05:53,662 - climada.hazard.bush_fire - DEBUG - Brightness np.array for the event\n",
      "2019-05-21 17:05:53,703 - climada.hazard.bush_fire - DEBUG - Sub-dataframe corresponding to event\n"
     ]
    },
    {
     "name": "stderr",
     "output_type": "stream",
     "text": [
      "/Applications/anaconda3/envs/climada_env/lib/python3.7/site-packages/numpy/core/fromnumeric.py:56: FutureWarning: Series.nonzero() is deprecated and will be removed in a future version.Use Series.to_numpy().nonzero() instead\n",
      "  return getattr(obj, method)(*args, **kwds)\n"
     ]
    },
    {
     "name": "stdout",
     "output_type": "stream",
     "text": [
      "2019-05-21 17:05:53,721 - climada.hazard.bush_fire - INFO - Identifying closest (lat,lon) points from firms dataframe for each centroid.\n",
      "2019-05-21 17:05:53,731 - climada.hazard.bush_fire - INFO - Computing maximum brightness for each (lat,lon) point.\n",
      "2019-05-21 17:05:53,737 - climada.hazard.bush_fire - DEBUG - BallTree\n",
      "2019-05-21 17:05:53,945 - climada.hazard.bush_fire - DEBUG - Brightness np.array for the event\n",
      "2019-05-21 17:05:54,018 - climada.hazard.bush_fire - DEBUG - Sub-dataframe corresponding to event\n"
     ]
    },
    {
     "name": "stderr",
     "output_type": "stream",
     "text": [
      "/Applications/anaconda3/envs/climada_env/lib/python3.7/site-packages/numpy/core/fromnumeric.py:56: FutureWarning: Series.nonzero() is deprecated and will be removed in a future version.Use Series.to_numpy().nonzero() instead\n",
      "  return getattr(obj, method)(*args, **kwds)\n"
     ]
    },
    {
     "name": "stdout",
     "output_type": "stream",
     "text": [
      "2019-05-21 17:05:54,033 - climada.hazard.bush_fire - INFO - Identifying closest (lat,lon) points from firms dataframe for each centroid.\n",
      "2019-05-21 17:05:54,042 - climada.hazard.bush_fire - INFO - Computing maximum brightness for each (lat,lon) point.\n",
      "2019-05-21 17:05:54,049 - climada.hazard.bush_fire - DEBUG - BallTree\n",
      "2019-05-21 17:05:55,526 - climada.hazard.bush_fire - DEBUG - Brightness np.array for the event\n",
      "2019-05-21 17:05:55,555 - climada.hazard.bush_fire - DEBUG - Sub-dataframe corresponding to event\n"
     ]
    },
    {
     "name": "stderr",
     "output_type": "stream",
     "text": [
      "/Applications/anaconda3/envs/climada_env/lib/python3.7/site-packages/numpy/core/fromnumeric.py:56: FutureWarning: Series.nonzero() is deprecated and will be removed in a future version.Use Series.to_numpy().nonzero() instead\n",
      "  return getattr(obj, method)(*args, **kwds)\n"
     ]
    },
    {
     "name": "stdout",
     "output_type": "stream",
     "text": [
      "2019-05-21 17:05:55,607 - climada.hazard.bush_fire - INFO - Identifying closest (lat,lon) points from firms dataframe for each centroid.\n",
      "2019-05-21 17:05:55,640 - climada.hazard.bush_fire - INFO - Computing maximum brightness for each (lat,lon) point.\n",
      "2019-05-21 17:05:55,759 - climada.hazard.bush_fire - DEBUG - BallTree\n",
      "2019-05-21 17:05:57,359 - climada.hazard.bush_fire - DEBUG - BallTree\n",
      "2019-05-21 17:05:57,493 - climada.hazard.bush_fire - DEBUG - Brightness np.array for the event\n",
      "2019-05-21 17:05:57,518 - climada.hazard.bush_fire - DEBUG - Sub-dataframe corresponding to event\n"
     ]
    },
    {
     "name": "stderr",
     "output_type": "stream",
     "text": [
      "/Applications/anaconda3/envs/climada_env/lib/python3.7/site-packages/numpy/core/fromnumeric.py:56: FutureWarning: Series.nonzero() is deprecated and will be removed in a future version.Use Series.to_numpy().nonzero() instead\n",
      "  return getattr(obj, method)(*args, **kwds)\n"
     ]
    },
    {
     "name": "stdout",
     "output_type": "stream",
     "text": [
      "2019-05-21 17:05:57,556 - climada.hazard.bush_fire - INFO - Identifying closest (lat,lon) points from firms dataframe for each centroid.\n",
      "2019-05-21 17:05:57,569 - climada.hazard.bush_fire - INFO - Computing maximum brightness for each (lat,lon) point.\n",
      "2019-05-21 17:05:57,605 - climada.hazard.bush_fire - DEBUG - BallTree\n",
      "2019-05-21 17:05:57,698 - climada.hazard.bush_fire - DEBUG - Brightness np.array for the event\n",
      "2019-05-21 17:05:58,231 - climada.hazard.bush_fire - DEBUG - Sub-dataframe corresponding to event\n"
     ]
    },
    {
     "name": "stderr",
     "output_type": "stream",
     "text": [
      "/Applications/anaconda3/envs/climada_env/lib/python3.7/site-packages/numpy/core/fromnumeric.py:56: FutureWarning: Series.nonzero() is deprecated and will be removed in a future version.Use Series.to_numpy().nonzero() instead\n",
      "  return getattr(obj, method)(*args, **kwds)\n"
     ]
    },
    {
     "name": "stdout",
     "output_type": "stream",
     "text": [
      "2019-05-21 17:05:58,319 - climada.hazard.bush_fire - INFO - Identifying closest (lat,lon) points from firms dataframe for each centroid.\n",
      "2019-05-21 17:05:58,351 - climada.hazard.bush_fire - INFO - Computing maximum brightness for each (lat,lon) point.\n",
      "2019-05-21 17:05:58,531 - climada.hazard.bush_fire - DEBUG - BallTree\n",
      "2019-05-21 17:06:00,804 - climada.hazard.bush_fire - DEBUG - Brightness np.array for the event\n",
      "2019-05-21 17:06:01,796 - climada.hazard.bush_fire - DEBUG - Sub-dataframe corresponding to event\n"
     ]
    },
    {
     "name": "stderr",
     "output_type": "stream",
     "text": [
      "/Applications/anaconda3/envs/climada_env/lib/python3.7/site-packages/numpy/core/fromnumeric.py:56: FutureWarning: Series.nonzero() is deprecated and will be removed in a future version.Use Series.to_numpy().nonzero() instead\n",
      "  return getattr(obj, method)(*args, **kwds)\n"
     ]
    },
    {
     "name": "stdout",
     "output_type": "stream",
     "text": [
      "2019-05-21 17:06:01,829 - climada.hazard.bush_fire - INFO - Identifying closest (lat,lon) points from firms dataframe for each centroid.\n",
      "2019-05-21 17:06:01,842 - climada.hazard.bush_fire - INFO - Computing maximum brightness for each (lat,lon) point.\n",
      "2019-05-21 17:06:01,848 - climada.hazard.bush_fire - DEBUG - BallTree\n",
      "2019-05-21 17:06:05,797 - climada.hazard.bush_fire - DEBUG - Brightness np.array for the event\n",
      "2019-05-21 17:06:05,910 - climada.hazard.bush_fire - DEBUG - Sub-dataframe corresponding to event\n"
     ]
    },
    {
     "name": "stderr",
     "output_type": "stream",
     "text": [
      "/Applications/anaconda3/envs/climada_env/lib/python3.7/site-packages/numpy/core/fromnumeric.py:56: FutureWarning: Series.nonzero() is deprecated and will be removed in a future version.Use Series.to_numpy().nonzero() instead\n",
      "  return getattr(obj, method)(*args, **kwds)\n"
     ]
    },
    {
     "name": "stdout",
     "output_type": "stream",
     "text": [
      "2019-05-21 17:06:05,971 - climada.hazard.bush_fire - INFO - Identifying closest (lat,lon) points from firms dataframe for each centroid.\n",
      "2019-05-21 17:06:06,047 - climada.hazard.bush_fire - INFO - Computing maximum brightness for each (lat,lon) point.\n",
      "2019-05-21 17:06:06,256 - climada.hazard.bush_fire - DEBUG - BallTree\n",
      "2019-05-21 17:06:06,801 - climada.hazard.bush_fire - DEBUG - Brightness np.array for the event\n",
      "2019-05-21 17:06:07,224 - climada.hazard.bush_fire - DEBUG - Brightness np.array for the event\n",
      "2019-05-21 17:06:07,402 - climada.hazard.bush_fire - DEBUG - Sub-dataframe corresponding to event\n"
     ]
    },
    {
     "name": "stderr",
     "output_type": "stream",
     "text": [
      "/Applications/anaconda3/envs/climada_env/lib/python3.7/site-packages/numpy/core/fromnumeric.py:56: FutureWarning: Series.nonzero() is deprecated and will be removed in a future version.Use Series.to_numpy().nonzero() instead\n",
      "  return getattr(obj, method)(*args, **kwds)\n"
     ]
    },
    {
     "name": "stdout",
     "output_type": "stream",
     "text": [
      "2019-05-21 17:06:07,451 - climada.hazard.bush_fire - INFO - Identifying closest (lat,lon) points from firms dataframe for each centroid.\n",
      "2019-05-21 17:06:07,534 - climada.hazard.bush_fire - DEBUG - Sub-dataframe corresponding to event\n",
      "2019-05-21 17:06:07,531 - climada.hazard.bush_fire - INFO - Computing maximum brightness for each (lat,lon) point.\n"
     ]
    },
    {
     "name": "stderr",
     "output_type": "stream",
     "text": [
      "/Applications/anaconda3/envs/climada_env/lib/python3.7/site-packages/numpy/core/fromnumeric.py:56: FutureWarning: Series.nonzero() is deprecated and will be removed in a future version.Use Series.to_numpy().nonzero() instead\n",
      "  return getattr(obj, method)(*args, **kwds)\n"
     ]
    },
    {
     "name": "stdout",
     "output_type": "stream",
     "text": [
      "2019-05-21 17:06:07,578 - climada.hazard.bush_fire - DEBUG - BallTree\n",
      "2019-05-21 17:06:07,622 - climada.hazard.bush_fire - INFO - Identifying closest (lat,lon) points from firms dataframe for each centroid.\n",
      "2019-05-21 17:06:07,690 - climada.hazard.bush_fire - INFO - Computing maximum brightness for each (lat,lon) point.\n",
      "2019-05-21 17:06:08,034 - climada.hazard.bush_fire - DEBUG - BallTree\n",
      "2019-05-21 17:06:11,122 - climada.hazard.bush_fire - DEBUG - Brightness np.array for the event\n",
      "2019-05-21 17:06:11,161 - climada.hazard.bush_fire - DEBUG - Sub-dataframe corresponding to event\n"
     ]
    },
    {
     "name": "stderr",
     "output_type": "stream",
     "text": [
      "/Applications/anaconda3/envs/climada_env/lib/python3.7/site-packages/numpy/core/fromnumeric.py:56: FutureWarning: Series.nonzero() is deprecated and will be removed in a future version.Use Series.to_numpy().nonzero() instead\n",
      "  return getattr(obj, method)(*args, **kwds)\n"
     ]
    },
    {
     "name": "stdout",
     "output_type": "stream",
     "text": [
      "2019-05-21 17:06:11,210 - climada.hazard.bush_fire - INFO - Identifying closest (lat,lon) points from firms dataframe for each centroid.\n",
      "2019-05-21 17:06:11,252 - climada.hazard.bush_fire - INFO - Computing maximum brightness for each (lat,lon) point.\n",
      "2019-05-21 17:06:11,595 - climada.hazard.bush_fire - DEBUG - BallTree\n",
      "2019-05-21 17:06:13,635 - climada.hazard.bush_fire - DEBUG - Brightness np.array for the event\n",
      "2019-05-21 17:06:14,114 - climada.hazard.bush_fire - DEBUG - Brightness np.array for the event\n",
      "2019-05-21 17:06:14,294 - climada.hazard.bush_fire - DEBUG - Sub-dataframe corresponding to event\n"
     ]
    },
    {
     "name": "stderr",
     "output_type": "stream",
     "text": [
      "/Applications/anaconda3/envs/climada_env/lib/python3.7/site-packages/numpy/core/fromnumeric.py:56: FutureWarning: Series.nonzero() is deprecated and will be removed in a future version.Use Series.to_numpy().nonzero() instead\n",
      "  return getattr(obj, method)(*args, **kwds)\n"
     ]
    },
    {
     "name": "stdout",
     "output_type": "stream",
     "text": [
      "2019-05-21 17:06:14,315 - climada.hazard.bush_fire - INFO - Identifying closest (lat,lon) points from firms dataframe for each centroid.\n",
      "2019-05-21 17:06:14,324 - climada.hazard.bush_fire - INFO - Computing maximum brightness for each (lat,lon) point.\n",
      "2019-05-21 17:06:14,430 - climada.hazard.bush_fire - DEBUG - BallTree\n",
      "2019-05-21 17:06:14,450 - climada.hazard.bush_fire - DEBUG - Brightness np.array for the event\n",
      "2019-05-21 17:06:14,554 - climada.hazard.bush_fire - DEBUG - Sub-dataframe corresponding to event\n"
     ]
    },
    {
     "name": "stderr",
     "output_type": "stream",
     "text": [
      "/Applications/anaconda3/envs/climada_env/lib/python3.7/site-packages/numpy/core/fromnumeric.py:56: FutureWarning: Series.nonzero() is deprecated and will be removed in a future version.Use Series.to_numpy().nonzero() instead\n",
      "  return getattr(obj, method)(*args, **kwds)\n"
     ]
    },
    {
     "name": "stdout",
     "output_type": "stream",
     "text": [
      "2019-05-21 17:06:14,562 - climada.hazard.bush_fire - DEBUG - Sub-dataframe corresponding to event\n"
     ]
    },
    {
     "name": "stderr",
     "output_type": "stream",
     "text": [
      "/Applications/anaconda3/envs/climada_env/lib/python3.7/site-packages/numpy/core/fromnumeric.py:56: FutureWarning: Series.nonzero() is deprecated and will be removed in a future version.Use Series.to_numpy().nonzero() instead\n",
      "  return getattr(obj, method)(*args, **kwds)\n"
     ]
    },
    {
     "name": "stdout",
     "output_type": "stream",
     "text": [
      "2019-05-21 17:06:14,570 - climada.hazard.bush_fire - INFO - Identifying closest (lat,lon) points from firms dataframe for each centroid.\n",
      "2019-05-21 17:06:14,584 - climada.hazard.bush_fire - INFO - Computing maximum brightness for each (lat,lon) point.\n",
      "2019-05-21 17:06:14,647 - climada.hazard.bush_fire - DEBUG - BallTree\n",
      "2019-05-21 17:06:14,651 - climada.hazard.bush_fire - INFO - Identifying closest (lat,lon) points from firms dataframe for each centroid.\n",
      "2019-05-21 17:06:14,681 - climada.hazard.bush_fire - INFO - Computing maximum brightness for each (lat,lon) point.\n",
      "2019-05-21 17:06:14,743 - climada.hazard.bush_fire - DEBUG - BallTree\n",
      "2019-05-21 17:06:19,032 - climada.hazard.bush_fire - DEBUG - Brightness np.array for the event\n",
      "2019-05-21 17:06:19,073 - climada.hazard.bush_fire - DEBUG - Sub-dataframe corresponding to event\n"
     ]
    },
    {
     "name": "stderr",
     "output_type": "stream",
     "text": [
      "/Applications/anaconda3/envs/climada_env/lib/python3.7/site-packages/numpy/core/fromnumeric.py:56: FutureWarning: Series.nonzero() is deprecated and will be removed in a future version.Use Series.to_numpy().nonzero() instead\n",
      "  return getattr(obj, method)(*args, **kwds)\n"
     ]
    },
    {
     "name": "stdout",
     "output_type": "stream",
     "text": [
      "2019-05-21 17:06:19,102 - climada.hazard.bush_fire - INFO - Identifying closest (lat,lon) points from firms dataframe for each centroid.\n",
      "2019-05-21 17:06:19,112 - climada.hazard.bush_fire - INFO - Computing maximum brightness for each (lat,lon) point.\n",
      "2019-05-21 17:06:19,119 - climada.hazard.bush_fire - DEBUG - BallTree\n",
      "2019-05-21 17:06:20,699 - climada.hazard.bush_fire - DEBUG - Brightness np.array for the event\n",
      "2019-05-21 17:06:20,757 - climada.hazard.bush_fire - DEBUG - Sub-dataframe corresponding to event\n",
      "2019-05-21 17:06:20,767 - climada.hazard.bush_fire - DEBUG - Brightness np.array for the event\n"
     ]
    },
    {
     "name": "stderr",
     "output_type": "stream",
     "text": [
      "/Applications/anaconda3/envs/climada_env/lib/python3.7/site-packages/numpy/core/fromnumeric.py:56: FutureWarning: Series.nonzero() is deprecated and will be removed in a future version.Use Series.to_numpy().nonzero() instead\n",
      "  return getattr(obj, method)(*args, **kwds)\n"
     ]
    },
    {
     "name": "stdout",
     "output_type": "stream",
     "text": [
      "2019-05-21 17:06:20,796 - climada.hazard.bush_fire - INFO - Identifying closest (lat,lon) points from firms dataframe for each centroid.\n",
      "2019-05-21 17:06:20,817 - climada.hazard.bush_fire - DEBUG - Sub-dataframe corresponding to event\n",
      "2019-05-21 17:06:20,815 - climada.hazard.bush_fire - INFO - Computing maximum brightness for each (lat,lon) point.\n"
     ]
    },
    {
     "name": "stderr",
     "output_type": "stream",
     "text": [
      "/Applications/anaconda3/envs/climada_env/lib/python3.7/site-packages/numpy/core/fromnumeric.py:56: FutureWarning: Series.nonzero() is deprecated and will be removed in a future version.Use Series.to_numpy().nonzero() instead\n",
      "  return getattr(obj, method)(*args, **kwds)\n"
     ]
    },
    {
     "name": "stdout",
     "output_type": "stream",
     "text": [
      "2019-05-21 17:06:20,848 - climada.hazard.bush_fire - INFO - Identifying closest (lat,lon) points from firms dataframe for each centroid.\n",
      "2019-05-21 17:06:20,848 - climada.hazard.bush_fire - DEBUG - BallTree\n",
      "2019-05-21 17:06:20,880 - climada.hazard.bush_fire - DEBUG - Brightness np.array for the event\n",
      "2019-05-21 17:06:20,880 - climada.hazard.bush_fire - INFO - Computing maximum brightness for each (lat,lon) point.\n",
      "2019-05-21 17:06:20,971 - climada.hazard.bush_fire - DEBUG - BallTree\n",
      "2019-05-21 17:06:21,782 - climada.hazard.bush_fire - DEBUG - Sub-dataframe corresponding to event\n"
     ]
    },
    {
     "name": "stderr",
     "output_type": "stream",
     "text": [
      "/Applications/anaconda3/envs/climada_env/lib/python3.7/site-packages/numpy/core/fromnumeric.py:56: FutureWarning: Series.nonzero() is deprecated and will be removed in a future version.Use Series.to_numpy().nonzero() instead\n",
      "  return getattr(obj, method)(*args, **kwds)\n"
     ]
    },
    {
     "name": "stdout",
     "output_type": "stream",
     "text": [
      "2019-05-21 17:06:21,859 - climada.hazard.bush_fire - INFO - Identifying closest (lat,lon) points from firms dataframe for each centroid.\n",
      "2019-05-21 17:06:21,895 - climada.hazard.bush_fire - INFO - Computing maximum brightness for each (lat,lon) point.\n",
      "2019-05-21 17:06:21,910 - climada.hazard.bush_fire - DEBUG - BallTree\n",
      "2019-05-21 17:06:24,259 - climada.hazard.bush_fire - DEBUG - Brightness np.array for the event\n",
      "2019-05-21 17:06:24,285 - climada.hazard.bush_fire - DEBUG - Sub-dataframe corresponding to event\n"
     ]
    },
    {
     "name": "stderr",
     "output_type": "stream",
     "text": [
      "/Applications/anaconda3/envs/climada_env/lib/python3.7/site-packages/numpy/core/fromnumeric.py:56: FutureWarning: Series.nonzero() is deprecated and will be removed in a future version.Use Series.to_numpy().nonzero() instead\n",
      "  return getattr(obj, method)(*args, **kwds)\n"
     ]
    },
    {
     "name": "stdout",
     "output_type": "stream",
     "text": [
      "2019-05-21 17:06:24,300 - climada.hazard.bush_fire - INFO - Identifying closest (lat,lon) points from firms dataframe for each centroid.\n",
      "2019-05-21 17:06:24,332 - climada.hazard.bush_fire - INFO - Computing maximum brightness for each (lat,lon) point.\n",
      "2019-05-21 17:06:24,374 - climada.hazard.bush_fire - DEBUG - BallTree\n",
      "2019-05-21 17:06:25,621 - climada.hazard.bush_fire - DEBUG - Brightness np.array for the event\n",
      "2019-05-21 17:06:25,647 - climada.hazard.bush_fire - DEBUG - Sub-dataframe corresponding to event\n"
     ]
    },
    {
     "name": "stderr",
     "output_type": "stream",
     "text": [
      "/Applications/anaconda3/envs/climada_env/lib/python3.7/site-packages/numpy/core/fromnumeric.py:56: FutureWarning: Series.nonzero() is deprecated and will be removed in a future version.Use Series.to_numpy().nonzero() instead\n",
      "  return getattr(obj, method)(*args, **kwds)\n"
     ]
    },
    {
     "name": "stdout",
     "output_type": "stream",
     "text": [
      "2019-05-21 17:06:25,671 - climada.hazard.bush_fire - INFO - Identifying closest (lat,lon) points from firms dataframe for each centroid.\n",
      "2019-05-21 17:06:25,695 - climada.hazard.bush_fire - INFO - Computing maximum brightness for each (lat,lon) point.\n",
      "2019-05-21 17:06:25,723 - climada.hazard.bush_fire - DEBUG - Brightness np.array for the event\n",
      "2019-05-21 17:06:25,763 - climada.hazard.bush_fire - DEBUG - BallTree\n",
      "2019-05-21 17:06:25,791 - climada.hazard.bush_fire - DEBUG - Sub-dataframe corresponding to event\n"
     ]
    },
    {
     "name": "stderr",
     "output_type": "stream",
     "text": [
      "/Applications/anaconda3/envs/climada_env/lib/python3.7/site-packages/numpy/core/fromnumeric.py:56: FutureWarning: Series.nonzero() is deprecated and will be removed in a future version.Use Series.to_numpy().nonzero() instead\n",
      "  return getattr(obj, method)(*args, **kwds)\n"
     ]
    },
    {
     "name": "stdout",
     "output_type": "stream",
     "text": [
      "2019-05-21 17:06:25,810 - climada.hazard.bush_fire - INFO - Identifying closest (lat,lon) points from firms dataframe for each centroid.\n",
      "2019-05-21 17:06:25,830 - climada.hazard.bush_fire - INFO - Computing maximum brightness for each (lat,lon) point.\n",
      "2019-05-21 17:06:25,853 - climada.hazard.bush_fire - DEBUG - BallTree\n",
      "2019-05-21 17:06:26,123 - climada.hazard.bush_fire - DEBUG - Brightness np.array for the event\n",
      "2019-05-21 17:06:26,167 - climada.hazard.bush_fire - DEBUG - Sub-dataframe corresponding to event\n"
     ]
    },
    {
     "name": "stderr",
     "output_type": "stream",
     "text": [
      "/Applications/anaconda3/envs/climada_env/lib/python3.7/site-packages/numpy/core/fromnumeric.py:56: FutureWarning: Series.nonzero() is deprecated and will be removed in a future version.Use Series.to_numpy().nonzero() instead\n",
      "  return getattr(obj, method)(*args, **kwds)\n"
     ]
    },
    {
     "name": "stdout",
     "output_type": "stream",
     "text": [
      "2019-05-21 17:06:26,204 - climada.hazard.bush_fire - INFO - Identifying closest (lat,lon) points from firms dataframe for each centroid.\n",
      "2019-05-21 17:06:26,240 - climada.hazard.bush_fire - INFO - Computing maximum brightness for each (lat,lon) point.\n",
      "2019-05-21 17:06:26,646 - climada.hazard.bush_fire - DEBUG - BallTree\n",
      "2019-05-21 17:06:28,499 - climada.hazard.bush_fire - DEBUG - Brightness np.array for the event\n",
      "2019-05-21 17:06:28,519 - climada.hazard.bush_fire - DEBUG - Sub-dataframe corresponding to event\n"
     ]
    },
    {
     "name": "stderr",
     "output_type": "stream",
     "text": [
      "/Applications/anaconda3/envs/climada_env/lib/python3.7/site-packages/numpy/core/fromnumeric.py:56: FutureWarning: Series.nonzero() is deprecated and will be removed in a future version.Use Series.to_numpy().nonzero() instead\n",
      "  return getattr(obj, method)(*args, **kwds)\n"
     ]
    },
    {
     "name": "stdout",
     "output_type": "stream",
     "text": [
      "2019-05-21 17:06:28,552 - climada.hazard.bush_fire - INFO - Identifying closest (lat,lon) points from firms dataframe for each centroid.\n",
      "2019-05-21 17:06:28,572 - climada.hazard.bush_fire - INFO - Computing maximum brightness for each (lat,lon) point.\n",
      "2019-05-21 17:06:28,589 - climada.hazard.bush_fire - DEBUG - BallTree\n",
      "2019-05-21 17:06:29,630 - climada.hazard.bush_fire - DEBUG - Brightness np.array for the event\n",
      "2019-05-21 17:06:29,651 - climada.hazard.bush_fire - DEBUG - Sub-dataframe corresponding to event\n"
     ]
    },
    {
     "name": "stderr",
     "output_type": "stream",
     "text": [
      "/Applications/anaconda3/envs/climada_env/lib/python3.7/site-packages/numpy/core/fromnumeric.py:56: FutureWarning: Series.nonzero() is deprecated and will be removed in a future version.Use Series.to_numpy().nonzero() instead\n",
      "  return getattr(obj, method)(*args, **kwds)\n"
     ]
    },
    {
     "name": "stdout",
     "output_type": "stream",
     "text": [
      "2019-05-21 17:06:29,673 - climada.hazard.bush_fire - INFO - Identifying closest (lat,lon) points from firms dataframe for each centroid.\n",
      "2019-05-21 17:06:29,688 - climada.hazard.bush_fire - INFO - Computing maximum brightness for each (lat,lon) point.\n",
      "2019-05-21 17:06:29,723 - climada.hazard.bush_fire - DEBUG - Brightness np.array for the event\n",
      "2019-05-21 17:06:29,746 - climada.hazard.bush_fire - DEBUG - BallTree\n",
      "2019-05-21 17:06:29,764 - climada.hazard.bush_fire - DEBUG - Sub-dataframe corresponding to event\n"
     ]
    },
    {
     "name": "stderr",
     "output_type": "stream",
     "text": [
      "/Applications/anaconda3/envs/climada_env/lib/python3.7/site-packages/numpy/core/fromnumeric.py:56: FutureWarning: Series.nonzero() is deprecated and will be removed in a future version.Use Series.to_numpy().nonzero() instead\n",
      "  return getattr(obj, method)(*args, **kwds)\n"
     ]
    },
    {
     "name": "stdout",
     "output_type": "stream",
     "text": [
      "2019-05-21 17:06:29,790 - climada.hazard.bush_fire - INFO - Identifying closest (lat,lon) points from firms dataframe for each centroid.\n",
      "2019-05-21 17:06:29,803 - climada.hazard.bush_fire - INFO - Computing maximum brightness for each (lat,lon) point.\n",
      "2019-05-21 17:06:29,825 - climada.hazard.bush_fire - DEBUG - BallTree\n",
      "2019-05-21 17:06:30,394 - climada.hazard.bush_fire - DEBUG - Brightness np.array for the event\n",
      "2019-05-21 17:06:30,452 - climada.hazard.bush_fire - DEBUG - Sub-dataframe corresponding to event\n"
     ]
    },
    {
     "name": "stderr",
     "output_type": "stream",
     "text": [
      "/Applications/anaconda3/envs/climada_env/lib/python3.7/site-packages/numpy/core/fromnumeric.py:56: FutureWarning: Series.nonzero() is deprecated and will be removed in a future version.Use Series.to_numpy().nonzero() instead\n",
      "  return getattr(obj, method)(*args, **kwds)\n"
     ]
    },
    {
     "name": "stdout",
     "output_type": "stream",
     "text": [
      "2019-05-21 17:06:30,499 - climada.hazard.bush_fire - INFO - Identifying closest (lat,lon) points from firms dataframe for each centroid.\n",
      "2019-05-21 17:06:30,511 - climada.hazard.bush_fire - INFO - Computing maximum brightness for each (lat,lon) point.\n",
      "2019-05-21 17:06:30,530 - climada.hazard.bush_fire - DEBUG - BallTree\n",
      "2019-05-21 17:06:32,459 - climada.hazard.bush_fire - DEBUG - Brightness np.array for the event\n",
      "2019-05-21 17:06:32,482 - climada.hazard.bush_fire - DEBUG - Sub-dataframe corresponding to event\n"
     ]
    },
    {
     "name": "stderr",
     "output_type": "stream",
     "text": [
      "/Applications/anaconda3/envs/climada_env/lib/python3.7/site-packages/numpy/core/fromnumeric.py:56: FutureWarning: Series.nonzero() is deprecated and will be removed in a future version.Use Series.to_numpy().nonzero() instead\n",
      "  return getattr(obj, method)(*args, **kwds)\n"
     ]
    },
    {
     "name": "stdout",
     "output_type": "stream",
     "text": [
      "2019-05-21 17:06:32,518 - climada.hazard.bush_fire - INFO - Identifying closest (lat,lon) points from firms dataframe for each centroid.\n",
      "2019-05-21 17:06:32,535 - climada.hazard.bush_fire - INFO - Computing maximum brightness for each (lat,lon) point.\n",
      "2019-05-21 17:06:32,567 - climada.hazard.bush_fire - DEBUG - BallTree\n",
      "2019-05-21 17:06:33,658 - climada.hazard.bush_fire - DEBUG - Brightness np.array for the event\n",
      "2019-05-21 17:06:33,660 - climada.hazard.bush_fire - DEBUG - Brightness np.array for the event\n",
      "2019-05-21 17:06:33,685 - climada.hazard.bush_fire - DEBUG - Sub-dataframe corresponding to event\n"
     ]
    },
    {
     "name": "stderr",
     "output_type": "stream",
     "text": [
      "/Applications/anaconda3/envs/climada_env/lib/python3.7/site-packages/numpy/core/fromnumeric.py:56: FutureWarning: Series.nonzero() is deprecated and will be removed in a future version.Use Series.to_numpy().nonzero() instead\n",
      "  return getattr(obj, method)(*args, **kwds)\n"
     ]
    },
    {
     "name": "stdout",
     "output_type": "stream",
     "text": [
      "2019-05-21 17:06:33,702 - climada.hazard.bush_fire - DEBUG - Sub-dataframe corresponding to event\n"
     ]
    },
    {
     "name": "stderr",
     "output_type": "stream",
     "text": [
      "/Applications/anaconda3/envs/climada_env/lib/python3.7/site-packages/numpy/core/fromnumeric.py:56: FutureWarning: Series.nonzero() is deprecated and will be removed in a future version.Use Series.to_numpy().nonzero() instead\n",
      "  return getattr(obj, method)(*args, **kwds)\n"
     ]
    },
    {
     "name": "stdout",
     "output_type": "stream",
     "text": [
      "2019-05-21 17:06:33,732 - climada.hazard.bush_fire - INFO - Identifying closest (lat,lon) points from firms dataframe for each centroid.\n",
      "2019-05-21 17:06:33,740 - climada.hazard.bush_fire - INFO - Identifying closest (lat,lon) points from firms dataframe for each centroid.\n",
      "2019-05-21 17:06:33,749 - climada.hazard.bush_fire - INFO - Computing maximum brightness for each (lat,lon) point.\n",
      "2019-05-21 17:06:33,749 - climada.hazard.bush_fire - INFO - Computing maximum brightness for each (lat,lon) point.\n",
      "2019-05-21 17:06:33,778 - climada.hazard.bush_fire - DEBUG - BallTree\n",
      "2019-05-21 17:06:34,064 - climada.hazard.bush_fire - DEBUG - BallTree\n",
      "2019-05-21 17:06:34,174 - climada.hazard.bush_fire - DEBUG - Brightness np.array for the event\n",
      "2019-05-21 17:06:34,207 - climada.hazard.bush_fire - DEBUG - Sub-dataframe corresponding to event\n"
     ]
    },
    {
     "name": "stderr",
     "output_type": "stream",
     "text": [
      "/Applications/anaconda3/envs/climada_env/lib/python3.7/site-packages/numpy/core/fromnumeric.py:56: FutureWarning: Series.nonzero() is deprecated and will be removed in a future version.Use Series.to_numpy().nonzero() instead\n",
      "  return getattr(obj, method)(*args, **kwds)\n"
     ]
    },
    {
     "name": "stdout",
     "output_type": "stream",
     "text": [
      "2019-05-21 17:06:34,240 - climada.hazard.bush_fire - INFO - Identifying closest (lat,lon) points from firms dataframe for each centroid.\n",
      "2019-05-21 17:06:34,250 - climada.hazard.bush_fire - INFO - Computing maximum brightness for each (lat,lon) point.\n",
      "2019-05-21 17:06:34,270 - climada.hazard.bush_fire - DEBUG - BallTree\n",
      "2019-05-21 17:06:36,439 - climada.hazard.bush_fire - DEBUG - Brightness np.array for the event\n",
      "2019-05-21 17:06:36,464 - climada.hazard.bush_fire - DEBUG - Sub-dataframe corresponding to event\n"
     ]
    },
    {
     "name": "stderr",
     "output_type": "stream",
     "text": [
      "/Applications/anaconda3/envs/climada_env/lib/python3.7/site-packages/numpy/core/fromnumeric.py:56: FutureWarning: Series.nonzero() is deprecated and will be removed in a future version.Use Series.to_numpy().nonzero() instead\n",
      "  return getattr(obj, method)(*args, **kwds)\n"
     ]
    },
    {
     "name": "stdout",
     "output_type": "stream",
     "text": [
      "2019-05-21 17:06:36,491 - climada.hazard.bush_fire - INFO - Identifying closest (lat,lon) points from firms dataframe for each centroid.\n",
      "2019-05-21 17:06:36,514 - climada.hazard.bush_fire - INFO - Computing maximum brightness for each (lat,lon) point.\n",
      "2019-05-21 17:06:36,528 - climada.hazard.bush_fire - DEBUG - BallTree\n",
      "2019-05-21 17:06:37,673 - climada.hazard.bush_fire - DEBUG - Brightness np.array for the event\n",
      "2019-05-21 17:06:37,699 - climada.hazard.bush_fire - DEBUG - Sub-dataframe corresponding to event\n"
     ]
    },
    {
     "name": "stderr",
     "output_type": "stream",
     "text": [
      "/Applications/anaconda3/envs/climada_env/lib/python3.7/site-packages/numpy/core/fromnumeric.py:56: FutureWarning: Series.nonzero() is deprecated and will be removed in a future version.Use Series.to_numpy().nonzero() instead\n",
      "  return getattr(obj, method)(*args, **kwds)\n"
     ]
    },
    {
     "name": "stdout",
     "output_type": "stream",
     "text": [
      "2019-05-21 17:06:37,722 - climada.hazard.bush_fire - INFO - Identifying closest (lat,lon) points from firms dataframe for each centroid.\n",
      "2019-05-21 17:06:37,731 - climada.hazard.bush_fire - INFO - Computing maximum brightness for each (lat,lon) point.\n",
      "2019-05-21 17:06:37,739 - climada.hazard.bush_fire - DEBUG - BallTree\n",
      "2019-05-21 17:06:37,992 - climada.hazard.bush_fire - DEBUG - Brightness np.array for the event\n",
      "2019-05-21 17:06:38,021 - climada.hazard.bush_fire - DEBUG - Sub-dataframe corresponding to event\n"
     ]
    },
    {
     "name": "stderr",
     "output_type": "stream",
     "text": [
      "/Applications/anaconda3/envs/climada_env/lib/python3.7/site-packages/numpy/core/fromnumeric.py:56: FutureWarning: Series.nonzero() is deprecated and will be removed in a future version.Use Series.to_numpy().nonzero() instead\n",
      "  return getattr(obj, method)(*args, **kwds)\n"
     ]
    },
    {
     "name": "stdout",
     "output_type": "stream",
     "text": [
      "2019-05-21 17:06:38,055 - climada.hazard.bush_fire - INFO - Identifying closest (lat,lon) points from firms dataframe for each centroid.\n",
      "2019-05-21 17:06:38,096 - climada.hazard.bush_fire - INFO - Computing maximum brightness for each (lat,lon) point.\n",
      "2019-05-21 17:06:38,125 - climada.hazard.bush_fire - DEBUG - Brightness np.array for the event\n",
      "2019-05-21 17:06:38,137 - climada.hazard.bush_fire - DEBUG - BallTree\n",
      "2019-05-21 17:06:38,165 - climada.hazard.bush_fire - DEBUG - Sub-dataframe corresponding to event\n"
     ]
    },
    {
     "name": "stderr",
     "output_type": "stream",
     "text": [
      "/Applications/anaconda3/envs/climada_env/lib/python3.7/site-packages/numpy/core/fromnumeric.py:56: FutureWarning: Series.nonzero() is deprecated and will be removed in a future version.Use Series.to_numpy().nonzero() instead\n",
      "  return getattr(obj, method)(*args, **kwds)\n"
     ]
    },
    {
     "name": "stdout",
     "output_type": "stream",
     "text": [
      "2019-05-21 17:06:38,208 - climada.hazard.bush_fire - INFO - Identifying closest (lat,lon) points from firms dataframe for each centroid.\n",
      "2019-05-21 17:06:38,220 - climada.hazard.bush_fire - INFO - Computing maximum brightness for each (lat,lon) point.\n",
      "2019-05-21 17:06:38,248 - climada.hazard.bush_fire - DEBUG - BallTree\n",
      "2019-05-21 17:06:40,319 - climada.hazard.bush_fire - DEBUG - Brightness np.array for the event\n",
      "2019-05-21 17:06:40,341 - climada.hazard.bush_fire - DEBUG - Sub-dataframe corresponding to event\n"
     ]
    },
    {
     "name": "stderr",
     "output_type": "stream",
     "text": [
      "/Applications/anaconda3/envs/climada_env/lib/python3.7/site-packages/numpy/core/fromnumeric.py:56: FutureWarning: Series.nonzero() is deprecated and will be removed in a future version.Use Series.to_numpy().nonzero() instead\n",
      "  return getattr(obj, method)(*args, **kwds)\n"
     ]
    },
    {
     "name": "stdout",
     "output_type": "stream",
     "text": [
      "2019-05-21 17:06:40,378 - climada.hazard.bush_fire - INFO - Identifying closest (lat,lon) points from firms dataframe for each centroid.\n",
      "2019-05-21 17:06:40,413 - climada.hazard.bush_fire - INFO - Computing maximum brightness for each (lat,lon) point.\n",
      "2019-05-21 17:06:40,446 - climada.hazard.bush_fire - DEBUG - BallTree\n",
      "2019-05-21 17:06:41,495 - climada.hazard.bush_fire - DEBUG - Brightness np.array for the event\n",
      "2019-05-21 17:06:41,526 - climada.hazard.bush_fire - DEBUG - Sub-dataframe corresponding to event\n"
     ]
    },
    {
     "name": "stderr",
     "output_type": "stream",
     "text": [
      "/Applications/anaconda3/envs/climada_env/lib/python3.7/site-packages/numpy/core/fromnumeric.py:56: FutureWarning: Series.nonzero() is deprecated and will be removed in a future version.Use Series.to_numpy().nonzero() instead\n",
      "  return getattr(obj, method)(*args, **kwds)\n"
     ]
    },
    {
     "name": "stdout",
     "output_type": "stream",
     "text": [
      "2019-05-21 17:06:41,550 - climada.hazard.bush_fire - INFO - Identifying closest (lat,lon) points from firms dataframe for each centroid.\n",
      "2019-05-21 17:06:41,565 - climada.hazard.bush_fire - INFO - Computing maximum brightness for each (lat,lon) point.\n",
      "2019-05-21 17:06:41,637 - climada.hazard.bush_fire - DEBUG - BallTree\n",
      "2019-05-21 17:06:41,932 - climada.hazard.bush_fire - DEBUG - Brightness np.array for the event\n",
      "2019-05-21 17:06:41,960 - climada.hazard.bush_fire - DEBUG - Sub-dataframe corresponding to event\n"
     ]
    },
    {
     "name": "stderr",
     "output_type": "stream",
     "text": [
      "/Applications/anaconda3/envs/climada_env/lib/python3.7/site-packages/numpy/core/fromnumeric.py:56: FutureWarning: Series.nonzero() is deprecated and will be removed in a future version.Use Series.to_numpy().nonzero() instead\n",
      "  return getattr(obj, method)(*args, **kwds)\n"
     ]
    },
    {
     "name": "stdout",
     "output_type": "stream",
     "text": [
      "2019-05-21 17:06:41,962 - climada.hazard.bush_fire - DEBUG - Brightness np.array for the event\n",
      "2019-05-21 17:06:41,985 - climada.hazard.bush_fire - INFO - Identifying closest (lat,lon) points from firms dataframe for each centroid.\n",
      "2019-05-21 17:06:41,996 - climada.hazard.bush_fire - INFO - Computing maximum brightness for each (lat,lon) point.\n",
      "2019-05-21 17:06:42,011 - climada.hazard.bush_fire - DEBUG - BallTree\n",
      "2019-05-21 17:06:42,027 - climada.hazard.bush_fire - DEBUG - Sub-dataframe corresponding to event\n"
     ]
    },
    {
     "name": "stderr",
     "output_type": "stream",
     "text": [
      "/Applications/anaconda3/envs/climada_env/lib/python3.7/site-packages/numpy/core/fromnumeric.py:56: FutureWarning: Series.nonzero() is deprecated and will be removed in a future version.Use Series.to_numpy().nonzero() instead\n",
      "  return getattr(obj, method)(*args, **kwds)\n"
     ]
    },
    {
     "name": "stdout",
     "output_type": "stream",
     "text": [
      "2019-05-21 17:06:42,053 - climada.hazard.bush_fire - INFO - Identifying closest (lat,lon) points from firms dataframe for each centroid.\n",
      "2019-05-21 17:06:42,083 - climada.hazard.bush_fire - INFO - Computing maximum brightness for each (lat,lon) point.\n",
      "2019-05-21 17:06:42,106 - climada.hazard.bush_fire - DEBUG - BallTree\n",
      "2019-05-21 17:06:44,250 - climada.hazard.bush_fire - DEBUG - Brightness np.array for the event\n",
      "2019-05-21 17:06:44,293 - climada.hazard.bush_fire - DEBUG - Sub-dataframe corresponding to event\n"
     ]
    },
    {
     "name": "stderr",
     "output_type": "stream",
     "text": [
      "/Applications/anaconda3/envs/climada_env/lib/python3.7/site-packages/numpy/core/fromnumeric.py:56: FutureWarning: Series.nonzero() is deprecated and will be removed in a future version.Use Series.to_numpy().nonzero() instead\n",
      "  return getattr(obj, method)(*args, **kwds)\n"
     ]
    },
    {
     "name": "stdout",
     "output_type": "stream",
     "text": [
      "2019-05-21 17:06:44,323 - climada.hazard.bush_fire - INFO - Identifying closest (lat,lon) points from firms dataframe for each centroid.\n",
      "2019-05-21 17:06:44,337 - climada.hazard.bush_fire - INFO - Computing maximum brightness for each (lat,lon) point.\n",
      "2019-05-21 17:06:44,359 - climada.hazard.bush_fire - DEBUG - BallTree\n",
      "2019-05-21 17:06:45,361 - climada.hazard.bush_fire - DEBUG - Brightness np.array for the event\n",
      "2019-05-21 17:06:45,392 - climada.hazard.bush_fire - DEBUG - Sub-dataframe corresponding to event\n"
     ]
    },
    {
     "name": "stderr",
     "output_type": "stream",
     "text": [
      "/Applications/anaconda3/envs/climada_env/lib/python3.7/site-packages/numpy/core/fromnumeric.py:56: FutureWarning: Series.nonzero() is deprecated and will be removed in a future version.Use Series.to_numpy().nonzero() instead\n",
      "  return getattr(obj, method)(*args, **kwds)\n"
     ]
    },
    {
     "name": "stdout",
     "output_type": "stream",
     "text": [
      "2019-05-21 17:06:45,412 - climada.hazard.bush_fire - INFO - Identifying closest (lat,lon) points from firms dataframe for each centroid.\n",
      "2019-05-21 17:06:45,427 - climada.hazard.bush_fire - INFO - Computing maximum brightness for each (lat,lon) point.\n",
      "2019-05-21 17:06:45,466 - climada.hazard.bush_fire - DEBUG - BallTree\n",
      "2019-05-21 17:06:45,687 - climada.hazard.bush_fire - DEBUG - Brightness np.array for the event\n",
      "2019-05-21 17:06:45,719 - climada.hazard.bush_fire - DEBUG - Sub-dataframe corresponding to event\n"
     ]
    },
    {
     "name": "stderr",
     "output_type": "stream",
     "text": [
      "/Applications/anaconda3/envs/climada_env/lib/python3.7/site-packages/numpy/core/fromnumeric.py:56: FutureWarning: Series.nonzero() is deprecated and will be removed in a future version.Use Series.to_numpy().nonzero() instead\n",
      "  return getattr(obj, method)(*args, **kwds)\n"
     ]
    },
    {
     "name": "stdout",
     "output_type": "stream",
     "text": [
      "2019-05-21 17:06:45,743 - climada.hazard.bush_fire - DEBUG - Brightness np.array for the event\n",
      "2019-05-21 17:06:45,765 - climada.hazard.bush_fire - INFO - Identifying closest (lat,lon) points from firms dataframe for each centroid.\n",
      "2019-05-21 17:06:45,799 - climada.hazard.bush_fire - INFO - Computing maximum brightness for each (lat,lon) point.\n",
      "2019-05-21 17:06:45,816 - climada.hazard.bush_fire - DEBUG - BallTree\n",
      "2019-05-21 17:06:46,346 - climada.hazard.bush_fire - DEBUG - Sub-dataframe corresponding to event\n"
     ]
    },
    {
     "name": "stderr",
     "output_type": "stream",
     "text": [
      "/Applications/anaconda3/envs/climada_env/lib/python3.7/site-packages/numpy/core/fromnumeric.py:56: FutureWarning: Series.nonzero() is deprecated and will be removed in a future version.Use Series.to_numpy().nonzero() instead\n",
      "  return getattr(obj, method)(*args, **kwds)\n"
     ]
    },
    {
     "name": "stdout",
     "output_type": "stream",
     "text": [
      "2019-05-21 17:06:46,391 - climada.hazard.bush_fire - INFO - Identifying closest (lat,lon) points from firms dataframe for each centroid.\n",
      "2019-05-21 17:06:46,451 - climada.hazard.bush_fire - INFO - Computing maximum brightness for each (lat,lon) point.\n",
      "2019-05-21 17:06:46,521 - climada.hazard.bush_fire - DEBUG - BallTree\n",
      "2019-05-21 17:06:48,222 - climada.hazard.bush_fire - DEBUG - Brightness np.array for the event\n",
      "2019-05-21 17:06:48,534 - climada.hazard.bush_fire - DEBUG - Sub-dataframe corresponding to event\n"
     ]
    },
    {
     "name": "stderr",
     "output_type": "stream",
     "text": [
      "/Applications/anaconda3/envs/climada_env/lib/python3.7/site-packages/numpy/core/fromnumeric.py:56: FutureWarning: Series.nonzero() is deprecated and will be removed in a future version.Use Series.to_numpy().nonzero() instead\n",
      "  return getattr(obj, method)(*args, **kwds)\n"
     ]
    },
    {
     "name": "stdout",
     "output_type": "stream",
     "text": [
      "2019-05-21 17:06:48,577 - climada.hazard.bush_fire - INFO - Identifying closest (lat,lon) points from firms dataframe for each centroid.\n",
      "2019-05-21 17:06:48,595 - climada.hazard.bush_fire - INFO - Computing maximum brightness for each (lat,lon) point.\n",
      "2019-05-21 17:06:48,640 - climada.hazard.bush_fire - DEBUG - BallTree\n",
      "2019-05-21 17:06:49,497 - climada.hazard.bush_fire - DEBUG - Brightness np.array for the event\n",
      "2019-05-21 17:06:49,521 - climada.hazard.bush_fire - DEBUG - Sub-dataframe corresponding to event\n"
     ]
    },
    {
     "name": "stderr",
     "output_type": "stream",
     "text": [
      "/Applications/anaconda3/envs/climada_env/lib/python3.7/site-packages/numpy/core/fromnumeric.py:56: FutureWarning: Series.nonzero() is deprecated and will be removed in a future version.Use Series.to_numpy().nonzero() instead\n",
      "  return getattr(obj, method)(*args, **kwds)\n"
     ]
    },
    {
     "name": "stdout",
     "output_type": "stream",
     "text": [
      "2019-05-21 17:06:49,542 - climada.hazard.bush_fire - INFO - Identifying closest (lat,lon) points from firms dataframe for each centroid.\n",
      "2019-05-21 17:06:49,553 - climada.hazard.bush_fire - INFO - Computing maximum brightness for each (lat,lon) point.\n",
      "2019-05-21 17:06:49,579 - climada.hazard.bush_fire - DEBUG - BallTree\n",
      "2019-05-21 17:06:49,838 - climada.hazard.bush_fire - DEBUG - Brightness np.array for the event\n",
      "2019-05-21 17:06:49,863 - climada.hazard.bush_fire - DEBUG - Sub-dataframe corresponding to event\n"
     ]
    },
    {
     "name": "stderr",
     "output_type": "stream",
     "text": [
      "/Applications/anaconda3/envs/climada_env/lib/python3.7/site-packages/numpy/core/fromnumeric.py:56: FutureWarning: Series.nonzero() is deprecated and will be removed in a future version.Use Series.to_numpy().nonzero() instead\n",
      "  return getattr(obj, method)(*args, **kwds)\n"
     ]
    },
    {
     "name": "stdout",
     "output_type": "stream",
     "text": [
      "2019-05-21 17:06:49,884 - climada.hazard.bush_fire - INFO - Identifying closest (lat,lon) points from firms dataframe for each centroid.\n",
      "2019-05-21 17:06:49,918 - climada.hazard.bush_fire - INFO - Computing maximum brightness for each (lat,lon) point.\n",
      "2019-05-21 17:06:49,934 - climada.hazard.bush_fire - DEBUG - BallTree\n",
      "2019-05-21 17:06:50,341 - climada.hazard.bush_fire - DEBUG - Brightness np.array for the event\n",
      "2019-05-21 17:06:50,387 - climada.hazard.bush_fire - DEBUG - Sub-dataframe corresponding to event\n"
     ]
    },
    {
     "name": "stderr",
     "output_type": "stream",
     "text": [
      "/Applications/anaconda3/envs/climada_env/lib/python3.7/site-packages/numpy/core/fromnumeric.py:56: FutureWarning: Series.nonzero() is deprecated and will be removed in a future version.Use Series.to_numpy().nonzero() instead\n",
      "  return getattr(obj, method)(*args, **kwds)\n"
     ]
    },
    {
     "name": "stdout",
     "output_type": "stream",
     "text": [
      "2019-05-21 17:06:50,433 - climada.hazard.bush_fire - INFO - Identifying closest (lat,lon) points from firms dataframe for each centroid.\n",
      "2019-05-21 17:06:50,452 - climada.hazard.bush_fire - INFO - Computing maximum brightness for each (lat,lon) point.\n",
      "2019-05-21 17:06:50,477 - climada.hazard.bush_fire - DEBUG - BallTree\n",
      "2019-05-21 17:06:52,520 - climada.hazard.bush_fire - DEBUG - Brightness np.array for the event\n",
      "2019-05-21 17:06:52,563 - climada.hazard.bush_fire - DEBUG - Sub-dataframe corresponding to event\n"
     ]
    },
    {
     "name": "stderr",
     "output_type": "stream",
     "text": [
      "/Applications/anaconda3/envs/climada_env/lib/python3.7/site-packages/numpy/core/fromnumeric.py:56: FutureWarning: Series.nonzero() is deprecated and will be removed in a future version.Use Series.to_numpy().nonzero() instead\n",
      "  return getattr(obj, method)(*args, **kwds)\n"
     ]
    },
    {
     "name": "stdout",
     "output_type": "stream",
     "text": [
      "2019-05-21 17:06:52,585 - climada.hazard.bush_fire - INFO - Identifying closest (lat,lon) points from firms dataframe for each centroid.\n",
      "2019-05-21 17:06:52,623 - climada.hazard.bush_fire - INFO - Computing maximum brightness for each (lat,lon) point.\n",
      "2019-05-21 17:06:52,637 - climada.hazard.bush_fire - DEBUG - BallTree\n",
      "2019-05-21 17:06:53,431 - climada.hazard.bush_fire - DEBUG - Brightness np.array for the event\n",
      "2019-05-21 17:06:53,631 - climada.hazard.bush_fire - DEBUG - Brightness np.array for the event\n",
      "2019-05-21 17:06:53,659 - climada.hazard.bush_fire - DEBUG - Sub-dataframe corresponding to event\n"
     ]
    },
    {
     "name": "stderr",
     "output_type": "stream",
     "text": [
      "/Applications/anaconda3/envs/climada_env/lib/python3.7/site-packages/numpy/core/fromnumeric.py:56: FutureWarning: Series.nonzero() is deprecated and will be removed in a future version.Use Series.to_numpy().nonzero() instead\n",
      "  return getattr(obj, method)(*args, **kwds)\n"
     ]
    },
    {
     "name": "stdout",
     "output_type": "stream",
     "text": [
      "2019-05-21 17:06:53,682 - climada.hazard.bush_fire - INFO - Identifying closest (lat,lon) points from firms dataframe for each centroid.\n",
      "2019-05-21 17:06:53,691 - climada.hazard.bush_fire - INFO - Computing maximum brightness for each (lat,lon) point.\n",
      "2019-05-21 17:06:53,706 - climada.hazard.bush_fire - DEBUG - BallTree\n",
      "2019-05-21 17:06:53,788 - climada.hazard.bush_fire - DEBUG - Sub-dataframe corresponding to event\n"
     ]
    },
    {
     "name": "stderr",
     "output_type": "stream",
     "text": [
      "/Applications/anaconda3/envs/climada_env/lib/python3.7/site-packages/numpy/core/fromnumeric.py:56: FutureWarning: Series.nonzero() is deprecated and will be removed in a future version.Use Series.to_numpy().nonzero() instead\n",
      "  return getattr(obj, method)(*args, **kwds)\n"
     ]
    },
    {
     "name": "stdout",
     "output_type": "stream",
     "text": [
      "2019-05-21 17:06:53,818 - climada.hazard.bush_fire - INFO - Identifying closest (lat,lon) points from firms dataframe for each centroid.\n",
      "2019-05-21 17:06:53,837 - climada.hazard.bush_fire - INFO - Computing maximum brightness for each (lat,lon) point.\n",
      "2019-05-21 17:06:53,912 - climada.hazard.bush_fire - DEBUG - BallTree\n",
      "2019-05-21 17:06:54,111 - climada.hazard.bush_fire - DEBUG - Brightness np.array for the event\n",
      "2019-05-21 17:06:54,141 - climada.hazard.bush_fire - DEBUG - Sub-dataframe corresponding to event\n"
     ]
    },
    {
     "name": "stderr",
     "output_type": "stream",
     "text": [
      "/Applications/anaconda3/envs/climada_env/lib/python3.7/site-packages/numpy/core/fromnumeric.py:56: FutureWarning: Series.nonzero() is deprecated and will be removed in a future version.Use Series.to_numpy().nonzero() instead\n",
      "  return getattr(obj, method)(*args, **kwds)\n"
     ]
    },
    {
     "name": "stdout",
     "output_type": "stream",
     "text": [
      "2019-05-21 17:06:54,208 - climada.hazard.bush_fire - INFO - Identifying closest (lat,lon) points from firms dataframe for each centroid.\n",
      "2019-05-21 17:06:54,234 - climada.hazard.bush_fire - INFO - Computing maximum brightness for each (lat,lon) point.\n",
      "2019-05-21 17:06:54,303 - climada.hazard.bush_fire - DEBUG - BallTree\n",
      "2019-05-21 17:06:56,743 - climada.hazard.bush_fire - DEBUG - Brightness np.array for the event\n",
      "2019-05-21 17:06:56,764 - climada.hazard.bush_fire - DEBUG - Sub-dataframe corresponding to event\n"
     ]
    },
    {
     "name": "stderr",
     "output_type": "stream",
     "text": [
      "/Applications/anaconda3/envs/climada_env/lib/python3.7/site-packages/numpy/core/fromnumeric.py:56: FutureWarning: Series.nonzero() is deprecated and will be removed in a future version.Use Series.to_numpy().nonzero() instead\n",
      "  return getattr(obj, method)(*args, **kwds)\n"
     ]
    },
    {
     "name": "stdout",
     "output_type": "stream",
     "text": [
      "2019-05-21 17:06:56,798 - climada.hazard.bush_fire - INFO - Identifying closest (lat,lon) points from firms dataframe for each centroid.\n",
      "2019-05-21 17:06:56,807 - climada.hazard.bush_fire - INFO - Computing maximum brightness for each (lat,lon) point.\n",
      "2019-05-21 17:06:56,820 - climada.hazard.bush_fire - DEBUG - BallTree\n",
      "2019-05-21 17:06:57,644 - climada.hazard.bush_fire - DEBUG - Brightness np.array for the event\n",
      "2019-05-21 17:06:57,824 - climada.hazard.bush_fire - DEBUG - Brightness np.array for the event\n",
      "2019-05-21 17:06:57,849 - climada.hazard.bush_fire - DEBUG - Sub-dataframe corresponding to event\n"
     ]
    },
    {
     "name": "stderr",
     "output_type": "stream",
     "text": [
      "/Applications/anaconda3/envs/climada_env/lib/python3.7/site-packages/numpy/core/fromnumeric.py:56: FutureWarning: Series.nonzero() is deprecated and will be removed in a future version.Use Series.to_numpy().nonzero() instead\n",
      "  return getattr(obj, method)(*args, **kwds)\n"
     ]
    },
    {
     "name": "stdout",
     "output_type": "stream",
     "text": [
      "2019-05-21 17:06:57,865 - climada.hazard.bush_fire - INFO - Identifying closest (lat,lon) points from firms dataframe for each centroid.\n",
      "2019-05-21 17:06:57,881 - climada.hazard.bush_fire - INFO - Computing maximum brightness for each (lat,lon) point.\n",
      "2019-05-21 17:06:57,915 - climada.hazard.bush_fire - DEBUG - BallTree\n",
      "2019-05-21 17:06:58,033 - climada.hazard.bush_fire - DEBUG - Brightness np.array for the event\n",
      "2019-05-21 17:06:58,058 - climada.hazard.bush_fire - DEBUG - Sub-dataframe corresponding to event\n"
     ]
    },
    {
     "name": "stderr",
     "output_type": "stream",
     "text": [
      "/Applications/anaconda3/envs/climada_env/lib/python3.7/site-packages/numpy/core/fromnumeric.py:56: FutureWarning: Series.nonzero() is deprecated and will be removed in a future version.Use Series.to_numpy().nonzero() instead\n",
      "  return getattr(obj, method)(*args, **kwds)\n"
     ]
    },
    {
     "name": "stdout",
     "output_type": "stream",
     "text": [
      "2019-05-21 17:06:58,113 - climada.hazard.bush_fire - INFO - Identifying closest (lat,lon) points from firms dataframe for each centroid.\n",
      "2019-05-21 17:06:58,124 - climada.hazard.bush_fire - INFO - Computing maximum brightness for each (lat,lon) point.\n",
      "2019-05-21 17:06:58,140 - climada.hazard.bush_fire - DEBUG - BallTree\n",
      "2019-05-21 17:07:00,033 - climada.hazard.bush_fire - DEBUG - Brightness np.array for the event\n",
      "2019-05-21 17:07:00,050 - climada.hazard.bush_fire - DEBUG - Sub-dataframe corresponding to event\n"
     ]
    },
    {
     "name": "stderr",
     "output_type": "stream",
     "text": [
      "/Applications/anaconda3/envs/climada_env/lib/python3.7/site-packages/numpy/core/fromnumeric.py:56: FutureWarning: Series.nonzero() is deprecated and will be removed in a future version.Use Series.to_numpy().nonzero() instead\n",
      "  return getattr(obj, method)(*args, **kwds)\n"
     ]
    },
    {
     "name": "stdout",
     "output_type": "stream",
     "text": [
      "2019-05-21 17:07:00,066 - climada.hazard.bush_fire - INFO - Identifying closest (lat,lon) points from firms dataframe for each centroid.\n",
      "2019-05-21 17:07:00,081 - climada.hazard.bush_fire - INFO - Computing maximum brightness for each (lat,lon) point.\n",
      "2019-05-21 17:07:00,090 - climada.hazard.bush_fire - DEBUG - BallTree\n",
      "2019-05-21 17:07:00,983 - climada.hazard.bush_fire - DEBUG - Brightness np.array for the event\n",
      "2019-05-21 17:07:01,005 - climada.hazard.bush_fire - DEBUG - Sub-dataframe corresponding to event\n"
     ]
    },
    {
     "name": "stderr",
     "output_type": "stream",
     "text": [
      "/Applications/anaconda3/envs/climada_env/lib/python3.7/site-packages/numpy/core/fromnumeric.py:56: FutureWarning: Series.nonzero() is deprecated and will be removed in a future version.Use Series.to_numpy().nonzero() instead\n",
      "  return getattr(obj, method)(*args, **kwds)\n"
     ]
    },
    {
     "name": "stdout",
     "output_type": "stream",
     "text": [
      "2019-05-21 17:07:01,020 - climada.hazard.bush_fire - INFO - Identifying closest (lat,lon) points from firms dataframe for each centroid.\n",
      "2019-05-21 17:07:01,041 - climada.hazard.bush_fire - INFO - Computing maximum brightness for each (lat,lon) point.\n",
      "2019-05-21 17:07:01,047 - climada.hazard.bush_fire - DEBUG - BallTree\n",
      "2019-05-21 17:07:01,253 - climada.hazard.bush_fire - DEBUG - Brightness np.array for the event\n",
      "2019-05-21 17:07:01,280 - climada.hazard.bush_fire - DEBUG - Sub-dataframe corresponding to event\n"
     ]
    },
    {
     "name": "stderr",
     "output_type": "stream",
     "text": [
      "/Applications/anaconda3/envs/climada_env/lib/python3.7/site-packages/numpy/core/fromnumeric.py:56: FutureWarning: Series.nonzero() is deprecated and will be removed in a future version.Use Series.to_numpy().nonzero() instead\n",
      "  return getattr(obj, method)(*args, **kwds)\n"
     ]
    },
    {
     "name": "stdout",
     "output_type": "stream",
     "text": [
      "2019-05-21 17:07:01,318 - climada.hazard.bush_fire - INFO - Identifying closest (lat,lon) points from firms dataframe for each centroid.\n",
      "2019-05-21 17:07:01,345 - climada.hazard.bush_fire - INFO - Computing maximum brightness for each (lat,lon) point.\n",
      "2019-05-21 17:07:01,362 - climada.hazard.bush_fire - DEBUG - BallTree\n",
      "2019-05-21 17:07:03,075 - climada.hazard.bush_fire - DEBUG - Brightness np.array for the event\n",
      "2019-05-21 17:07:03,093 - climada.hazard.bush_fire - DEBUG - Sub-dataframe corresponding to event\n"
     ]
    },
    {
     "name": "stderr",
     "output_type": "stream",
     "text": [
      "/Applications/anaconda3/envs/climada_env/lib/python3.7/site-packages/numpy/core/fromnumeric.py:56: FutureWarning: Series.nonzero() is deprecated and will be removed in a future version.Use Series.to_numpy().nonzero() instead\n",
      "  return getattr(obj, method)(*args, **kwds)\n"
     ]
    },
    {
     "name": "stdout",
     "output_type": "stream",
     "text": [
      "2019-05-21 17:07:03,105 - climada.hazard.bush_fire - INFO - Identifying closest (lat,lon) points from firms dataframe for each centroid.\n",
      "2019-05-21 17:07:03,114 - climada.hazard.bush_fire - INFO - Computing maximum brightness for each (lat,lon) point.\n",
      "2019-05-21 17:07:03,139 - climada.hazard.bush_fire - DEBUG - BallTree\n",
      "2019-05-21 17:07:04,118 - climada.hazard.bush_fire - DEBUG - Brightness np.array for the event\n",
      "2019-05-21 17:07:04,141 - climada.hazard.bush_fire - DEBUG - Sub-dataframe corresponding to event\n"
     ]
    },
    {
     "name": "stderr",
     "output_type": "stream",
     "text": [
      "/Applications/anaconda3/envs/climada_env/lib/python3.7/site-packages/numpy/core/fromnumeric.py:56: FutureWarning: Series.nonzero() is deprecated and will be removed in a future version.Use Series.to_numpy().nonzero() instead\n",
      "  return getattr(obj, method)(*args, **kwds)\n"
     ]
    },
    {
     "name": "stdout",
     "output_type": "stream",
     "text": [
      "2019-05-21 17:07:04,158 - climada.hazard.bush_fire - INFO - Identifying closest (lat,lon) points from firms dataframe for each centroid.\n",
      "2019-05-21 17:07:04,166 - climada.hazard.bush_fire - INFO - Computing maximum brightness for each (lat,lon) point.\n",
      "2019-05-21 17:07:04,173 - climada.hazard.bush_fire - DEBUG - BallTree\n",
      "2019-05-21 17:07:04,376 - climada.hazard.bush_fire - DEBUG - Brightness np.array for the event\n",
      "2019-05-21 17:07:04,400 - climada.hazard.bush_fire - DEBUG - Sub-dataframe corresponding to event\n"
     ]
    },
    {
     "name": "stderr",
     "output_type": "stream",
     "text": [
      "/Applications/anaconda3/envs/climada_env/lib/python3.7/site-packages/numpy/core/fromnumeric.py:56: FutureWarning: Series.nonzero() is deprecated and will be removed in a future version.Use Series.to_numpy().nonzero() instead\n",
      "  return getattr(obj, method)(*args, **kwds)\n"
     ]
    },
    {
     "name": "stdout",
     "output_type": "stream",
     "text": [
      "2019-05-21 17:07:04,435 - climada.hazard.bush_fire - INFO - Identifying closest (lat,lon) points from firms dataframe for each centroid.\n",
      "2019-05-21 17:07:04,458 - climada.hazard.bush_fire - INFO - Computing maximum brightness for each (lat,lon) point.\n",
      "2019-05-21 17:07:04,547 - climada.hazard.bush_fire - DEBUG - BallTree\n",
      "2019-05-21 17:07:06,274 - climada.hazard.bush_fire - DEBUG - Brightness np.array for the event\n",
      "2019-05-21 17:07:06,290 - climada.hazard.bush_fire - DEBUG - Sub-dataframe corresponding to event\n"
     ]
    },
    {
     "name": "stderr",
     "output_type": "stream",
     "text": [
      "/Applications/anaconda3/envs/climada_env/lib/python3.7/site-packages/numpy/core/fromnumeric.py:56: FutureWarning: Series.nonzero() is deprecated and will be removed in a future version.Use Series.to_numpy().nonzero() instead\n",
      "  return getattr(obj, method)(*args, **kwds)\n"
     ]
    },
    {
     "name": "stdout",
     "output_type": "stream",
     "text": [
      "2019-05-21 17:07:06,319 - climada.hazard.bush_fire - INFO - Identifying closest (lat,lon) points from firms dataframe for each centroid.\n",
      "2019-05-21 17:07:06,342 - climada.hazard.bush_fire - INFO - Computing maximum brightness for each (lat,lon) point.\n",
      "2019-05-21 17:07:07,209 - climada.hazard.bush_fire - DEBUG - Brightness np.array for the event\n",
      "2019-05-21 17:07:07,377 - climada.hazard.bush_fire - DEBUG - Brightness np.array for the event\n",
      "2019-05-21 17:07:07,392 - climada.hazard.bush_fire - DEBUG - Sub-dataframe corresponding to event\n"
     ]
    },
    {
     "name": "stderr",
     "output_type": "stream",
     "text": [
      "/Applications/anaconda3/envs/climada_env/lib/python3.7/site-packages/numpy/core/fromnumeric.py:56: FutureWarning: Series.nonzero() is deprecated and will be removed in a future version.Use Series.to_numpy().nonzero() instead\n",
      "  return getattr(obj, method)(*args, **kwds)\n"
     ]
    },
    {
     "name": "stdout",
     "output_type": "stream",
     "text": [
      "2019-05-21 17:07:07,406 - climada.hazard.bush_fire - INFO - Identifying closest (lat,lon) points from firms dataframe for each centroid.\n",
      "2019-05-21 17:07:07,423 - climada.hazard.bush_fire - INFO - Computing maximum brightness for each (lat,lon) point.\n",
      "2019-05-21 17:07:07,470 - climada.hazard.bush_fire - DEBUG - BallTree\n",
      "2019-05-21 17:07:08,448 - climada.hazard.bush_fire - DEBUG - BallTree\n",
      "2019-05-21 17:07:09,963 - climada.hazard.bush_fire - DEBUG - Brightness np.array for the event\n",
      "2019-05-21 17:07:09,978 - climada.hazard.bush_fire - DEBUG - Sub-dataframe corresponding to event\n"
     ]
    },
    {
     "name": "stderr",
     "output_type": "stream",
     "text": [
      "/Applications/anaconda3/envs/climada_env/lib/python3.7/site-packages/numpy/core/fromnumeric.py:56: FutureWarning: Series.nonzero() is deprecated and will be removed in a future version.Use Series.to_numpy().nonzero() instead\n",
      "  return getattr(obj, method)(*args, **kwds)\n"
     ]
    },
    {
     "name": "stdout",
     "output_type": "stream",
     "text": [
      "2019-05-21 17:07:09,991 - climada.hazard.bush_fire - INFO - Identifying closest (lat,lon) points from firms dataframe for each centroid.\n",
      "2019-05-21 17:07:10,008 - climada.hazard.bush_fire - INFO - Computing maximum brightness for each (lat,lon) point.\n",
      "2019-05-21 17:07:10,378 - climada.hazard.bush_fire - DEBUG - BallTree\n",
      "2019-05-21 17:07:11,327 - climada.hazard.bush_fire - DEBUG - Brightness np.array for the event\n",
      "2019-05-21 17:07:11,393 - climada.hazard.bush_fire - DEBUG - Sub-dataframe corresponding to event\n"
     ]
    },
    {
     "name": "stderr",
     "output_type": "stream",
     "text": [
      "/Applications/anaconda3/envs/climada_env/lib/python3.7/site-packages/numpy/core/fromnumeric.py:56: FutureWarning: Series.nonzero() is deprecated and will be removed in a future version.Use Series.to_numpy().nonzero() instead\n",
      "  return getattr(obj, method)(*args, **kwds)\n"
     ]
    },
    {
     "name": "stdout",
     "output_type": "stream",
     "text": [
      "2019-05-21 17:07:11,409 - climada.hazard.bush_fire - INFO - Identifying closest (lat,lon) points from firms dataframe for each centroid.\n",
      "2019-05-21 17:07:11,418 - climada.hazard.bush_fire - INFO - Computing maximum brightness for each (lat,lon) point.\n",
      "2019-05-21 17:07:11,467 - climada.hazard.bush_fire - DEBUG - BallTree\n",
      "2019-05-21 17:07:13,089 - climada.hazard.bush_fire - DEBUG - Brightness np.array for the event\n",
      "2019-05-21 17:07:13,112 - climada.hazard.bush_fire - DEBUG - Sub-dataframe corresponding to event\n"
     ]
    },
    {
     "name": "stderr",
     "output_type": "stream",
     "text": [
      "/Applications/anaconda3/envs/climada_env/lib/python3.7/site-packages/numpy/core/fromnumeric.py:56: FutureWarning: Series.nonzero() is deprecated and will be removed in a future version.Use Series.to_numpy().nonzero() instead\n",
      "  return getattr(obj, method)(*args, **kwds)\n"
     ]
    },
    {
     "name": "stdout",
     "output_type": "stream",
     "text": [
      "2019-05-21 17:07:13,157 - climada.hazard.bush_fire - INFO - Identifying closest (lat,lon) points from firms dataframe for each centroid.\n",
      "2019-05-21 17:07:13,169 - climada.hazard.bush_fire - INFO - Computing maximum brightness for each (lat,lon) point.\n",
      "2019-05-21 17:07:13,184 - climada.hazard.bush_fire - DEBUG - BallTree\n",
      "2019-05-21 17:07:13,965 - climada.hazard.bush_fire - DEBUG - Brightness np.array for the event\n",
      "2019-05-21 17:07:13,982 - climada.hazard.bush_fire - DEBUG - Sub-dataframe corresponding to event\n"
     ]
    },
    {
     "name": "stderr",
     "output_type": "stream",
     "text": [
      "/Applications/anaconda3/envs/climada_env/lib/python3.7/site-packages/numpy/core/fromnumeric.py:56: FutureWarning: Series.nonzero() is deprecated and will be removed in a future version.Use Series.to_numpy().nonzero() instead\n",
      "  return getattr(obj, method)(*args, **kwds)\n"
     ]
    },
    {
     "name": "stdout",
     "output_type": "stream",
     "text": [
      "2019-05-21 17:07:14,000 - climada.hazard.bush_fire - INFO - Identifying closest (lat,lon) points from firms dataframe for each centroid.\n",
      "2019-05-21 17:07:14,020 - climada.hazard.bush_fire - INFO - Computing maximum brightness for each (lat,lon) point.\n",
      "2019-05-21 17:07:14,029 - climada.hazard.bush_fire - DEBUG - BallTree\n",
      "2019-05-21 17:07:15,430 - climada.hazard.bush_fire - DEBUG - Brightness np.array for the event\n",
      "2019-05-21 17:07:15,963 - climada.hazard.bush_fire - DEBUG - Brightness np.array for the event\n",
      "2019-05-21 17:07:15,981 - climada.hazard.bush_fire - DEBUG - Sub-dataframe corresponding to event\n"
     ]
    },
    {
     "name": "stderr",
     "output_type": "stream",
     "text": [
      "/Applications/anaconda3/envs/climada_env/lib/python3.7/site-packages/numpy/core/fromnumeric.py:56: FutureWarning: Series.nonzero() is deprecated and will be removed in a future version.Use Series.to_numpy().nonzero() instead\n",
      "  return getattr(obj, method)(*args, **kwds)\n"
     ]
    },
    {
     "name": "stdout",
     "output_type": "stream",
     "text": [
      "2019-05-21 17:07:16,000 - climada.hazard.bush_fire - INFO - Identifying closest (lat,lon) points from firms dataframe for each centroid.\n",
      "2019-05-21 17:07:16,007 - climada.hazard.bush_fire - INFO - Computing maximum brightness for each (lat,lon) point.\n",
      "2019-05-21 17:07:16,014 - climada.hazard.bush_fire - DEBUG - BallTree\n",
      "2019-05-21 17:07:17,787 - climada.hazard.bush_fire - DEBUG - Brightness np.array for the event\n"
     ]
    },
    {
     "name": "stderr",
     "output_type": "stream",
     "text": [
      "/Applications/anaconda3/envs/climada_env/lib/python3.7/site-packages/matplotlib/tight_layout.py:176: UserWarning: Tight layout not applied. The left and right margins cannot be made large enough to accommodate all axes decorations. \n",
      "  warnings.warn('Tight layout not applied. The left and right margins '\n"
     ]
    },
    {
     "data": {
      "text/plain": [
       "(<Figure size 648x936 with 2 Axes>,\n",
       " array([[<cartopy.mpl.geoaxes.GeoAxesSubplot object at 0x1a2003eb70>]],\n",
       "       dtype=object))"
      ]
     },
     "execution_count": 2,
     "metadata": {},
     "output_type": "execute_result"
    },
    {
     "data": {
      "image/png": "[encoded data removed]",
      "text/plain": [
       "<Figure size 648x936 with 2 Axes>"
      ]
     },
     "metadata": {
      "needs_background": "light"
     },
     "output_type": "display_data"
    },
    {
     "name": "stdout",
     "output_type": "stream",
     "text": [
      "2019-05-21 17:10:45,451 - climada.hazard.bush_fire - DEBUG - Sub-dataframe corresponding to event\n"
     ]
    },
    {
     "name": "stderr",
     "output_type": "stream",
     "text": [
      "/Applications/anaconda3/envs/climada_env/lib/python3.7/site-packages/numpy/core/fromnumeric.py:56: FutureWarning: Series.nonzero() is deprecated and will be removed in a future version.Use Series.to_numpy().nonzero() instead\n",
      "  return getattr(obj, method)(*args, **kwds)\n"
     ]
    },
    {
     "name": "stdout",
     "output_type": "stream",
     "text": [
      "2019-05-21 17:10:45,465 - climada.hazard.bush_fire - INFO - Identifying closest (lat,lon) points from firms dataframe for each centroid.\n",
      "2019-05-21 17:10:45,473 - climada.hazard.bush_fire - INFO - Computing maximum brightness for each (lat,lon) point.\n",
      "2019-05-21 17:10:45,584 - climada.hazard.bush_fire - DEBUG - Sub-dataframe corresponding to event\n"
     ]
    },
    {
     "name": "stderr",
     "output_type": "stream",
     "text": [
      "/Applications/anaconda3/envs/climada_env/lib/python3.7/site-packages/numpy/core/fromnumeric.py:56: FutureWarning: Series.nonzero() is deprecated and will be removed in a future version.Use Series.to_numpy().nonzero() instead\n",
      "  return getattr(obj, method)(*args, **kwds)\n"
     ]
    },
    {
     "name": "stdout",
     "output_type": "stream",
     "text": [
      "2019-05-21 17:10:45,638 - climada.hazard.bush_fire - INFO - Identifying closest (lat,lon) points from firms dataframe for each centroid.\n",
      "2019-05-21 17:10:45,651 - climada.hazard.bush_fire - INFO - Computing maximum brightness for each (lat,lon) point.\n",
      "2019-05-21 17:10:45,668 - climada.hazard.bush_fire - DEBUG - BallTree\n",
      "2019-05-21 17:10:45,867 - climada.hazard.bush_fire - DEBUG - Sub-dataframe corresponding to event\n"
     ]
    },
    {
     "name": "stderr",
     "output_type": "stream",
     "text": [
      "/Applications/anaconda3/envs/climada_env/lib/python3.7/site-packages/numpy/core/fromnumeric.py:56: FutureWarning: Series.nonzero() is deprecated and will be removed in a future version.Use Series.to_numpy().nonzero() instead\n",
      "  return getattr(obj, method)(*args, **kwds)\n"
     ]
    },
    {
     "name": "stdout",
     "output_type": "stream",
     "text": [
      "2019-05-21 17:10:45,898 - climada.hazard.bush_fire - INFO - Identifying closest (lat,lon) points from firms dataframe for each centroid.\n",
      "2019-05-21 17:10:45,944 - climada.hazard.bush_fire - INFO - Computing maximum brightness for each (lat,lon) point.\n",
      "2019-05-21 17:10:46,176 - climada.hazard.bush_fire - DEBUG - Sub-dataframe corresponding to event\n"
     ]
    },
    {
     "name": "stderr",
     "output_type": "stream",
     "text": [
      "/Applications/anaconda3/envs/climada_env/lib/python3.7/site-packages/numpy/core/fromnumeric.py:56: FutureWarning: Series.nonzero() is deprecated and will be removed in a future version.Use Series.to_numpy().nonzero() instead\n",
      "  return getattr(obj, method)(*args, **kwds)\n"
     ]
    },
    {
     "name": "stdout",
     "output_type": "stream",
     "text": [
      "2019-05-21 17:10:46,209 - climada.hazard.bush_fire - INFO - Identifying closest (lat,lon) points from firms dataframe for each centroid.\n",
      "2019-05-21 17:10:46,217 - climada.hazard.bush_fire - INFO - Computing maximum brightness for each (lat,lon) point.\n",
      "2019-05-21 17:10:46,234 - climada.hazard.bush_fire - DEBUG - BallTree\n",
      "2019-05-21 17:10:47,578 - climada.hazard.bush_fire - DEBUG - Brightness np.array for the event\n",
      "2019-05-21 17:10:47,661 - climada.hazard.bush_fire - DEBUG - Sub-dataframe corresponding to event\n"
     ]
    },
    {
     "name": "stderr",
     "output_type": "stream",
     "text": [
      "/Applications/anaconda3/envs/climada_env/lib/python3.7/site-packages/numpy/core/fromnumeric.py:56: FutureWarning: Series.nonzero() is deprecated and will be removed in a future version.Use Series.to_numpy().nonzero() instead\n",
      "  return getattr(obj, method)(*args, **kwds)\n"
     ]
    },
    {
     "name": "stdout",
     "output_type": "stream",
     "text": [
      "2019-05-21 17:10:47,690 - climada.hazard.bush_fire - INFO - Identifying closest (lat,lon) points from firms dataframe for each centroid.\n",
      "2019-05-21 17:10:47,714 - climada.hazard.bush_fire - INFO - Computing maximum brightness for each (lat,lon) point.\n",
      "2019-05-21 17:10:47,738 - climada.hazard.bush_fire - DEBUG - BallTree\n",
      "2019-05-21 17:10:47,911 - climada.hazard.bush_fire - DEBUG - Brightness np.array for the event\n",
      "2019-05-21 17:10:47,976 - climada.hazard.bush_fire - DEBUG - BallTree\n",
      "2019-05-21 17:10:49,109 - climada.hazard.bush_fire - DEBUG - Brightness np.array for the event\n",
      "2019-05-21 17:10:49,394 - climada.hazard.bush_fire - DEBUG - Brightness np.array for the event\n",
      "2019-05-21 17:10:51,977 - climada.hazard.bush_fire - DEBUG - BallTree\n",
      "2019-05-21 17:10:53,241 - climada.hazard.bush_fire - DEBUG - Brightness np.array for the event\n",
      "2019-05-22 10:04:02,683 - climada.hazard.bush_fire - DEBUG - Sub-dataframe corresponding to event\n"
     ]
    },
    {
     "name": "stderr",
     "output_type": "stream",
     "text": [
      "/Applications/anaconda3/envs/climada_env/lib/python3.7/site-packages/numpy/core/fromnumeric.py:56: FutureWarning: Series.nonzero() is deprecated and will be removed in a future version.Use Series.to_numpy().nonzero() instead\n",
      "  return getattr(obj, method)(*args, **kwds)\n"
     ]
    },
    {
     "name": "stdout",
     "output_type": "stream",
     "text": [
      "2019-05-22 10:04:02,721 - climada.hazard.bush_fire - INFO - Identifying closest (lat,lon) points from firms dataframe for each centroid.\n",
      "2019-05-22 10:04:02,742 - climada.hazard.bush_fire - INFO - Computing maximum brightness for each (lat,lon) point.\n",
      "2019-05-22 10:04:02,862 - climada.hazard.bush_fire - DEBUG - Sub-dataframe corresponding to event\n"
     ]
    },
    {
     "name": "stderr",
     "output_type": "stream",
     "text": [
      "/Applications/anaconda3/envs/climada_env/lib/python3.7/site-packages/numpy/core/fromnumeric.py:56: FutureWarning: Series.nonzero() is deprecated and will be removed in a future version.Use Series.to_numpy().nonzero() instead\n",
      "  return getattr(obj, method)(*args, **kwds)\n"
     ]
    },
    {
     "name": "stdout",
     "output_type": "stream",
     "text": [
      "2019-05-22 10:04:02,905 - climada.hazard.bush_fire - INFO - Identifying closest (lat,lon) points from firms dataframe for each centroid.\n",
      "2019-05-22 10:04:02,918 - climada.hazard.bush_fire - INFO - Computing maximum brightness for each (lat,lon) point.\n",
      "2019-05-22 10:04:02,926 - climada.hazard.bush_fire - DEBUG - BallTree\n",
      "2019-05-22 10:04:03,127 - climada.hazard.bush_fire - DEBUG - Sub-dataframe corresponding to event\n"
     ]
    },
    {
     "name": "stderr",
     "output_type": "stream",
     "text": [
      "/Applications/anaconda3/envs/climada_env/lib/python3.7/site-packages/numpy/core/fromnumeric.py:56: FutureWarning: Series.nonzero() is deprecated and will be removed in a future version.Use Series.to_numpy().nonzero() instead\n",
      "  return getattr(obj, method)(*args, **kwds)\n"
     ]
    },
    {
     "name": "stdout",
     "output_type": "stream",
     "text": [
      "2019-05-22 10:04:03,194 - climada.hazard.bush_fire - INFO - Identifying closest (lat,lon) points from firms dataframe for each centroid.\n",
      "2019-05-22 10:04:03,253 - climada.hazard.bush_fire - INFO - Computing maximum brightness for each (lat,lon) point.\n",
      "2019-05-22 10:04:03,499 - climada.hazard.bush_fire - DEBUG - Sub-dataframe corresponding to event\n"
     ]
    },
    {
     "name": "stderr",
     "output_type": "stream",
     "text": [
      "/Applications/anaconda3/envs/climada_env/lib/python3.7/site-packages/numpy/core/fromnumeric.py:56: FutureWarning: Series.nonzero() is deprecated and will be removed in a future version.Use Series.to_numpy().nonzero() instead\n",
      "  return getattr(obj, method)(*args, **kwds)\n"
     ]
    },
    {
     "name": "stdout",
     "output_type": "stream",
     "text": [
      "2019-05-22 10:04:03,582 - climada.hazard.bush_fire - INFO - Identifying closest (lat,lon) points from firms dataframe for each centroid.\n",
      "2019-05-22 10:04:03,614 - climada.hazard.bush_fire - INFO - Computing maximum brightness for each (lat,lon) point.\n",
      "2019-05-22 10:04:03,640 - climada.hazard.bush_fire - DEBUG - BallTree\n",
      "2019-05-22 10:04:04,976 - climada.hazard.bush_fire - DEBUG - Brightness np.array for the event\n",
      "2019-05-22 10:04:05,081 - climada.hazard.bush_fire - DEBUG - Sub-dataframe corresponding to event\n"
     ]
    },
    {
     "name": "stderr",
     "output_type": "stream",
     "text": [
      "/Applications/anaconda3/envs/climada_env/lib/python3.7/site-packages/numpy/core/fromnumeric.py:56: FutureWarning: Series.nonzero() is deprecated and will be removed in a future version.Use Series.to_numpy().nonzero() instead\n",
      "  return getattr(obj, method)(*args, **kwds)\n"
     ]
    },
    {
     "name": "stdout",
     "output_type": "stream",
     "text": [
      "2019-05-22 10:04:05,106 - climada.hazard.bush_fire - INFO - Identifying closest (lat,lon) points from firms dataframe for each centroid.\n",
      "2019-05-22 10:04:05,129 - climada.hazard.bush_fire - INFO - Computing maximum brightness for each (lat,lon) point.\n",
      "2019-05-22 10:04:05,144 - climada.hazard.bush_fire - DEBUG - BallTree\n",
      "2019-05-22 10:04:05,357 - climada.hazard.bush_fire - DEBUG - Brightness np.array for the event\n",
      "2019-05-22 10:04:05,393 - climada.hazard.bush_fire - DEBUG - BallTree\n",
      "2019-05-22 10:04:06,505 - climada.hazard.bush_fire - DEBUG - Brightness np.array for the event\n",
      "2019-05-22 10:04:06,846 - climada.hazard.bush_fire - DEBUG - Brightness np.array for the event\n",
      "2019-05-22 10:04:10,241 - climada.hazard.bush_fire - DEBUG - BallTree\n",
      "2019-05-22 10:04:11,929 - climada.hazard.bush_fire - DEBUG - Brightness np.array for the event\n",
      "2019-05-22 10:12:41,802 - climada.hazard.bush_fire - DEBUG - Sub-dataframe corresponding to event\n"
     ]
    },
    {
     "name": "stderr",
     "output_type": "stream",
     "text": [
      "/Applications/anaconda3/envs/climada_env/lib/python3.7/site-packages/numpy/core/fromnumeric.py:56: FutureWarning: Series.nonzero() is deprecated and will be removed in a future version.Use Series.to_numpy().nonzero() instead\n",
      "  return getattr(obj, method)(*args, **kwds)\n"
     ]
    },
    {
     "name": "stdout",
     "output_type": "stream",
     "text": [
      "2019-05-22 10:12:41,823 - climada.hazard.bush_fire - INFO - Identifying closest (lat,lon) points from firms dataframe for each centroid.\n",
      "2019-05-22 10:12:41,831 - climada.hazard.bush_fire - INFO - Computing maximum brightness for each (lat,lon) point.\n",
      "2019-05-22 10:12:41,842 - climada.hazard.bush_fire - DEBUG - BallTree\n",
      "2019-05-22 10:12:44,388 - climada.hazard.bush_fire - DEBUG - Sub-dataframe corresponding to event\n"
     ]
    },
    {
     "name": "stderr",
     "output_type": "stream",
     "text": [
      "/Applications/anaconda3/envs/climada_env/lib/python3.7/site-packages/numpy/core/fromnumeric.py:56: FutureWarning: Series.nonzero() is deprecated and will be removed in a future version.Use Series.to_numpy().nonzero() instead\n",
      "  return getattr(obj, method)(*args, **kwds)\n"
     ]
    },
    {
     "name": "stdout",
     "output_type": "stream",
     "text": [
      "2019-05-22 10:12:44,412 - climada.hazard.bush_fire - INFO - Identifying closest (lat,lon) points from firms dataframe for each centroid.\n",
      "2019-05-22 10:12:44,419 - climada.hazard.bush_fire - INFO - Computing maximum brightness for each (lat,lon) point.\n",
      "2019-05-22 10:12:44,480 - climada.hazard.bush_fire - DEBUG - BallTree\n",
      "2019-05-22 10:12:48,836 - climada.hazard.bush_fire - DEBUG - Sub-dataframe corresponding to event\n"
     ]
    },
    {
     "name": "stderr",
     "output_type": "stream",
     "text": [
      "/Applications/anaconda3/envs/climada_env/lib/python3.7/site-packages/numpy/core/fromnumeric.py:56: FutureWarning: Series.nonzero() is deprecated and will be removed in a future version.Use Series.to_numpy().nonzero() instead\n",
      "  return getattr(obj, method)(*args, **kwds)\n"
     ]
    },
    {
     "name": "stdout",
     "output_type": "stream",
     "text": [
      "2019-05-22 10:12:48,866 - climada.hazard.bush_fire - INFO - Identifying closest (lat,lon) points from firms dataframe for each centroid.\n",
      "2019-05-22 10:12:48,894 - climada.hazard.bush_fire - INFO - Computing maximum brightness for each (lat,lon) point.\n",
      "2019-05-22 10:12:48,902 - climada.hazard.bush_fire - DEBUG - BallTree\n",
      "2019-05-22 10:12:54,877 - climada.hazard.bush_fire - DEBUG - Sub-dataframe corresponding to event\n"
     ]
    },
    {
     "name": "stderr",
     "output_type": "stream",
     "text": [
      "/Applications/anaconda3/envs/climada_env/lib/python3.7/site-packages/numpy/core/fromnumeric.py:56: FutureWarning: Series.nonzero() is deprecated and will be removed in a future version.Use Series.to_numpy().nonzero() instead\n",
      "  return getattr(obj, method)(*args, **kwds)\n"
     ]
    },
    {
     "name": "stdout",
     "output_type": "stream",
     "text": [
      "2019-05-22 10:12:55,256 - climada.hazard.bush_fire - INFO - Identifying closest (lat,lon) points from firms dataframe for each centroid.\n",
      "2019-05-22 10:12:55,395 - climada.hazard.bush_fire - INFO - Computing maximum brightness for each (lat,lon) point.\n",
      "2019-05-22 10:12:55,423 - climada.hazard.bush_fire - DEBUG - BallTree\n",
      "2019-05-22 10:20:47,767 - climada.hazard.bush_fire - DEBUG - Brightness np.array for the event\n",
      "2019-05-22 10:20:48,124 - climada.hazard.bush_fire - DEBUG - Sub-dataframe corresponding to event\n"
     ]
    },
    {
     "name": "stderr",
     "output_type": "stream",
     "text": [
      "/Applications/anaconda3/envs/climada_env/lib/python3.7/site-packages/numpy/core/fromnumeric.py:56: FutureWarning: Series.nonzero() is deprecated and will be removed in a future version.Use Series.to_numpy().nonzero() instead\n",
      "  return getattr(obj, method)(*args, **kwds)\n"
     ]
    },
    {
     "name": "stdout",
     "output_type": "stream",
     "text": [
      "2019-05-22 10:20:48,179 - climada.hazard.bush_fire - INFO - Identifying closest (lat,lon) points from firms dataframe for each centroid.\n",
      "2019-05-22 10:20:48,198 - climada.hazard.bush_fire - INFO - Computing maximum brightness for each (lat,lon) point.\n",
      "2019-05-22 10:20:48,219 - climada.hazard.bush_fire - DEBUG - BallTree\n",
      "2019-05-22 10:20:50,516 - climada.hazard.bush_fire - DEBUG - Brightness np.array for the event\n",
      "2019-05-22 10:20:50,910 - climada.hazard.bush_fire - DEBUG - Sub-dataframe corresponding to event\n"
     ]
    },
    {
     "name": "stderr",
     "output_type": "stream",
     "text": [
      "/Applications/anaconda3/envs/climada_env/lib/python3.7/site-packages/numpy/core/fromnumeric.py:56: FutureWarning: Series.nonzero() is deprecated and will be removed in a future version.Use Series.to_numpy().nonzero() instead\n",
      "  return getattr(obj, method)(*args, **kwds)\n"
     ]
    },
    {
     "name": "stdout",
     "output_type": "stream",
     "text": [
      "2019-05-22 10:20:50,955 - climada.hazard.bush_fire - INFO - Identifying closest (lat,lon) points from firms dataframe for each centroid.\n",
      "2019-05-22 10:20:50,977 - climada.hazard.bush_fire - INFO - Computing maximum brightness for each (lat,lon) point.\n",
      "2019-05-22 10:20:51,038 - climada.hazard.bush_fire - DEBUG - BallTree\n",
      "2019-05-22 10:20:56,794 - climada.hazard.bush_fire - DEBUG - Brightness np.array for the event\n",
      "2019-05-22 10:20:57,313 - climada.hazard.bush_fire - DEBUG - Sub-dataframe corresponding to event\n"
     ]
    },
    {
     "name": "stderr",
     "output_type": "stream",
     "text": [
      "/Applications/anaconda3/envs/climada_env/lib/python3.7/site-packages/numpy/core/fromnumeric.py:56: FutureWarning: Series.nonzero() is deprecated and will be removed in a future version.Use Series.to_numpy().nonzero() instead\n",
      "  return getattr(obj, method)(*args, **kwds)\n"
     ]
    },
    {
     "name": "stdout",
     "output_type": "stream",
     "text": [
      "2019-05-22 10:20:57,340 - climada.hazard.bush_fire - INFO - Identifying closest (lat,lon) points from firms dataframe for each centroid.\n",
      "2019-05-22 10:20:57,361 - climada.hazard.bush_fire - INFO - Computing maximum brightness for each (lat,lon) point.\n",
      "2019-05-22 10:20:57,447 - climada.hazard.bush_fire - DEBUG - BallTree\n",
      "2019-05-22 10:21:00,201 - climada.hazard.bush_fire - DEBUG - Brightness np.array for the event\n",
      "2019-05-22 10:21:00,749 - climada.hazard.bush_fire - DEBUG - Sub-dataframe corresponding to event\n"
     ]
    },
    {
     "name": "stderr",
     "output_type": "stream",
     "text": [
      "/Applications/anaconda3/envs/climada_env/lib/python3.7/site-packages/numpy/core/fromnumeric.py:56: FutureWarning: Series.nonzero() is deprecated and will be removed in a future version.Use Series.to_numpy().nonzero() instead\n",
      "  return getattr(obj, method)(*args, **kwds)\n"
     ]
    },
    {
     "name": "stdout",
     "output_type": "stream",
     "text": [
      "2019-05-22 10:21:00,781 - climada.hazard.bush_fire - INFO - Identifying closest (lat,lon) points from firms dataframe for each centroid.\n",
      "2019-05-22 10:21:00,795 - climada.hazard.bush_fire - INFO - Computing maximum brightness for each (lat,lon) point.\n",
      "2019-05-22 10:21:00,808 - climada.hazard.bush_fire - DEBUG - BallTree\n",
      "2019-05-22 10:37:57,727 - climada.hazard.bush_fire - DEBUG - Brightness np.array for the event\n",
      "2019-05-22 10:37:58,011 - climada.hazard.bush_fire - DEBUG - Sub-dataframe corresponding to event\n"
     ]
    },
    {
     "name": "stderr",
     "output_type": "stream",
     "text": [
      "/Applications/anaconda3/envs/climada_env/lib/python3.7/site-packages/numpy/core/fromnumeric.py:56: FutureWarning: Series.nonzero() is deprecated and will be removed in a future version.Use Series.to_numpy().nonzero() instead\n",
      "  return getattr(obj, method)(*args, **kwds)\n"
     ]
    },
    {
     "name": "stdout",
     "output_type": "stream",
     "text": [
      "2019-05-22 10:37:58,054 - climada.hazard.bush_fire - INFO - Identifying closest (lat,lon) points from firms dataframe for each centroid.\n",
      "2019-05-22 10:37:58,071 - climada.hazard.bush_fire - INFO - Computing maximum brightness for each (lat,lon) point.\n",
      "2019-05-22 10:37:58,082 - climada.hazard.bush_fire - DEBUG - BallTree\n",
      "2019-05-22 10:38:00,370 - climada.hazard.bush_fire - DEBUG - Brightness np.array for the event\n",
      "2019-05-22 10:38:00,709 - climada.hazard.bush_fire - DEBUG - Sub-dataframe corresponding to event\n"
     ]
    },
    {
     "name": "stderr",
     "output_type": "stream",
     "text": [
      "/Applications/anaconda3/envs/climada_env/lib/python3.7/site-packages/numpy/core/fromnumeric.py:56: FutureWarning: Series.nonzero() is deprecated and will be removed in a future version.Use Series.to_numpy().nonzero() instead\n",
      "  return getattr(obj, method)(*args, **kwds)\n"
     ]
    },
    {
     "name": "stdout",
     "output_type": "stream",
     "text": [
      "2019-05-22 10:38:00,762 - climada.hazard.bush_fire - INFO - Identifying closest (lat,lon) points from firms dataframe for each centroid.\n",
      "2019-05-22 10:38:00,776 - climada.hazard.bush_fire - INFO - Computing maximum brightness for each (lat,lon) point.\n",
      "2019-05-22 10:38:01,312 - climada.hazard.bush_fire - DEBUG - BallTree\n",
      "2019-05-22 10:38:06,219 - climada.hazard.bush_fire - DEBUG - Brightness np.array for the event\n",
      "2019-05-22 10:38:06,519 - climada.hazard.bush_fire - DEBUG - Sub-dataframe corresponding to event\n"
     ]
    },
    {
     "name": "stderr",
     "output_type": "stream",
     "text": [
      "/Applications/anaconda3/envs/climada_env/lib/python3.7/site-packages/numpy/core/fromnumeric.py:56: FutureWarning: Series.nonzero() is deprecated and will be removed in a future version.Use Series.to_numpy().nonzero() instead\n",
      "  return getattr(obj, method)(*args, **kwds)\n"
     ]
    },
    {
     "name": "stdout",
     "output_type": "stream",
     "text": [
      "2019-05-22 10:38:06,560 - climada.hazard.bush_fire - INFO - Identifying closest (lat,lon) points from firms dataframe for each centroid.\n",
      "2019-05-22 10:38:06,573 - climada.hazard.bush_fire - INFO - Computing maximum brightness for each (lat,lon) point.\n",
      "2019-05-22 10:38:06,584 - climada.hazard.bush_fire - DEBUG - BallTree\n",
      "2019-05-22 10:38:07,999 - climada.hazard.bush_fire - DEBUG - Brightness np.array for the event\n",
      "2019-05-22 10:38:08,318 - climada.hazard.bush_fire - DEBUG - Sub-dataframe corresponding to event\n"
     ]
    },
    {
     "name": "stderr",
     "output_type": "stream",
     "text": [
      "/Applications/anaconda3/envs/climada_env/lib/python3.7/site-packages/numpy/core/fromnumeric.py:56: FutureWarning: Series.nonzero() is deprecated and will be removed in a future version.Use Series.to_numpy().nonzero() instead\n",
      "  return getattr(obj, method)(*args, **kwds)\n"
     ]
    },
    {
     "name": "stdout",
     "output_type": "stream",
     "text": [
      "2019-05-22 10:38:08,368 - climada.hazard.bush_fire - INFO - Identifying closest (lat,lon) points from firms dataframe for each centroid.\n",
      "2019-05-22 10:38:08,385 - climada.hazard.bush_fire - INFO - Computing maximum brightness for each (lat,lon) point.\n",
      "2019-05-22 10:38:08,396 - climada.hazard.bush_fire - DEBUG - BallTree\n",
      "2019-05-22 10:47:01,430 - climada.hazard.bush_fire - DEBUG - Brightness np.array for the event\n",
      "2019-05-22 10:47:01,878 - climada.hazard.bush_fire - DEBUG - Sub-dataframe corresponding to event\n"
     ]
    },
    {
     "name": "stderr",
     "output_type": "stream",
     "text": [
      "/Applications/anaconda3/envs/climada_env/lib/python3.7/site-packages/numpy/core/fromnumeric.py:56: FutureWarning: Series.nonzero() is deprecated and will be removed in a future version.Use Series.to_numpy().nonzero() instead\n",
      "  return getattr(obj, method)(*args, **kwds)\n"
     ]
    },
    {
     "name": "stdout",
     "output_type": "stream",
     "text": [
      "2019-05-22 10:47:02,016 - climada.hazard.bush_fire - INFO - Identifying closest (lat,lon) points from firms dataframe for each centroid.\n",
      "2019-05-22 10:47:02,030 - climada.hazard.bush_fire - INFO - Computing maximum brightness for each (lat,lon) point.\n",
      "2019-05-22 10:47:02,044 - climada.hazard.bush_fire - DEBUG - BallTree\n",
      "2019-05-22 10:47:04,567 - climada.hazard.bush_fire - DEBUG - Brightness np.array for the event\n",
      "2019-05-22 10:47:04,983 - climada.hazard.bush_fire - DEBUG - Sub-dataframe corresponding to event\n"
     ]
    },
    {
     "name": "stderr",
     "output_type": "stream",
     "text": [
      "/Applications/anaconda3/envs/climada_env/lib/python3.7/site-packages/numpy/core/fromnumeric.py:56: FutureWarning: Series.nonzero() is deprecated and will be removed in a future version.Use Series.to_numpy().nonzero() instead\n",
      "  return getattr(obj, method)(*args, **kwds)\n"
     ]
    },
    {
     "name": "stdout",
     "output_type": "stream",
     "text": [
      "2019-05-22 10:47:05,063 - climada.hazard.bush_fire - INFO - Identifying closest (lat,lon) points from firms dataframe for each centroid.\n",
      "2019-05-22 10:47:05,087 - climada.hazard.bush_fire - INFO - Computing maximum brightness for each (lat,lon) point.\n",
      "2019-05-22 10:47:05,101 - climada.hazard.bush_fire - DEBUG - BallTree\n",
      "2019-05-22 10:47:13,128 - climada.hazard.bush_fire - DEBUG - Brightness np.array for the event\n",
      "2019-05-22 10:47:13,567 - climada.hazard.bush_fire - DEBUG - Sub-dataframe corresponding to event\n"
     ]
    },
    {
     "name": "stderr",
     "output_type": "stream",
     "text": [
      "/Applications/anaconda3/envs/climada_env/lib/python3.7/site-packages/numpy/core/fromnumeric.py:56: FutureWarning: Series.nonzero() is deprecated and will be removed in a future version.Use Series.to_numpy().nonzero() instead\n",
      "  return getattr(obj, method)(*args, **kwds)\n"
     ]
    },
    {
     "name": "stdout",
     "output_type": "stream",
     "text": [
      "2019-05-22 10:47:13,639 - climada.hazard.bush_fire - INFO - Identifying closest (lat,lon) points from firms dataframe for each centroid.\n",
      "2019-05-22 10:47:13,667 - climada.hazard.bush_fire - INFO - Computing maximum brightness for each (lat,lon) point.\n",
      "2019-05-22 10:47:13,699 - climada.hazard.bush_fire - DEBUG - BallTree\n",
      "2019-05-22 10:47:15,420 - climada.hazard.bush_fire - DEBUG - Brightness np.array for the event\n",
      "2019-05-22 10:47:15,850 - climada.hazard.bush_fire - DEBUG - Sub-dataframe corresponding to event\n"
     ]
    },
    {
     "name": "stderr",
     "output_type": "stream",
     "text": [
      "/Applications/anaconda3/envs/climada_env/lib/python3.7/site-packages/numpy/core/fromnumeric.py:56: FutureWarning: Series.nonzero() is deprecated and will be removed in a future version.Use Series.to_numpy().nonzero() instead\n",
      "  return getattr(obj, method)(*args, **kwds)\n"
     ]
    },
    {
     "name": "stdout",
     "output_type": "stream",
     "text": [
      "2019-05-22 10:47:15,942 - climada.hazard.bush_fire - INFO - Identifying closest (lat,lon) points from firms dataframe for each centroid.\n",
      "2019-05-22 10:47:15,961 - climada.hazard.bush_fire - INFO - Computing maximum brightness for each (lat,lon) point.\n",
      "2019-05-22 10:47:15,988 - climada.hazard.bush_fire - DEBUG - BallTree\n",
      "2019-05-22 10:56:10,062 - climada.hazard.bush_fire - DEBUG - Brightness np.array for the event\n",
      "2019-05-22 10:56:10,450 - climada.hazard.bush_fire - DEBUG - Sub-dataframe corresponding to event\n"
     ]
    },
    {
     "name": "stderr",
     "output_type": "stream",
     "text": [
      "/Applications/anaconda3/envs/climada_env/lib/python3.7/site-packages/numpy/core/fromnumeric.py:56: FutureWarning: Series.nonzero() is deprecated and will be removed in a future version.Use Series.to_numpy().nonzero() instead\n",
      "  return getattr(obj, method)(*args, **kwds)\n"
     ]
    },
    {
     "name": "stdout",
     "output_type": "stream",
     "text": [
      "2019-05-22 10:56:10,529 - climada.hazard.bush_fire - INFO - Identifying closest (lat,lon) points from firms dataframe for each centroid.\n",
      "2019-05-22 10:56:10,561 - climada.hazard.bush_fire - INFO - Computing maximum brightness for each (lat,lon) point.\n",
      "2019-05-22 10:56:10,622 - climada.hazard.bush_fire - DEBUG - BallTree\n",
      "2019-05-22 10:56:13,450 - climada.hazard.bush_fire - DEBUG - Brightness np.array for the event\n",
      "2019-05-22 10:56:13,886 - climada.hazard.bush_fire - DEBUG - Sub-dataframe corresponding to event\n"
     ]
    },
    {
     "name": "stderr",
     "output_type": "stream",
     "text": [
      "/Applications/anaconda3/envs/climada_env/lib/python3.7/site-packages/numpy/core/fromnumeric.py:56: FutureWarning: Series.nonzero() is deprecated and will be removed in a future version.Use Series.to_numpy().nonzero() instead\n",
      "  return getattr(obj, method)(*args, **kwds)\n"
     ]
    },
    {
     "name": "stdout",
     "output_type": "stream",
     "text": [
      "2019-05-22 10:56:13,960 - climada.hazard.bush_fire - INFO - Identifying closest (lat,lon) points from firms dataframe for each centroid.\n",
      "2019-05-22 10:56:13,999 - climada.hazard.bush_fire - INFO - Computing maximum brightness for each (lat,lon) point.\n",
      "2019-05-22 10:56:16,281 - climada.hazard.bush_fire - DEBUG - BallTree\n",
      "2019-05-22 10:56:23,797 - climada.hazard.bush_fire - DEBUG - Brightness np.array for the event\n",
      "2019-05-22 10:56:24,266 - climada.hazard.bush_fire - DEBUG - Sub-dataframe corresponding to event\n"
     ]
    },
    {
     "name": "stderr",
     "output_type": "stream",
     "text": [
      "/Applications/anaconda3/envs/climada_env/lib/python3.7/site-packages/numpy/core/fromnumeric.py:56: FutureWarning: Series.nonzero() is deprecated and will be removed in a future version.Use Series.to_numpy().nonzero() instead\n",
      "  return getattr(obj, method)(*args, **kwds)\n"
     ]
    },
    {
     "name": "stdout",
     "output_type": "stream",
     "text": [
      "2019-05-22 10:56:24,359 - climada.hazard.bush_fire - INFO - Identifying closest (lat,lon) points from firms dataframe for each centroid.\n",
      "2019-05-22 10:56:24,425 - climada.hazard.bush_fire - INFO - Computing maximum brightness for each (lat,lon) point.\n",
      "2019-05-22 10:56:25,279 - climada.hazard.bush_fire - DEBUG - Brightness np.array for the event\n",
      "2019-05-22 10:56:26,339 - climada.hazard.bush_fire - DEBUG - Sub-dataframe corresponding to event\n"
     ]
    },
    {
     "name": "stderr",
     "output_type": "stream",
     "text": [
      "/Applications/anaconda3/envs/climada_env/lib/python3.7/site-packages/numpy/core/fromnumeric.py:56: FutureWarning: Series.nonzero() is deprecated and will be removed in a future version.Use Series.to_numpy().nonzero() instead\n",
      "  return getattr(obj, method)(*args, **kwds)\n"
     ]
    },
    {
     "name": "stdout",
     "output_type": "stream",
     "text": [
      "2019-05-22 10:56:26,441 - climada.hazard.bush_fire - INFO - Identifying closest (lat,lon) points from firms dataframe for each centroid.\n",
      "2019-05-22 10:56:26,458 - climada.hazard.bush_fire - INFO - Computing maximum brightness for each (lat,lon) point.\n",
      "2019-05-22 10:56:26,469 - climada.hazard.bush_fire - DEBUG - BallTree\n",
      "2019-05-22 10:56:31,971 - climada.hazard.bush_fire - DEBUG - BallTree\n",
      "2019-05-22 11:06:15,756 - climada.hazard.bush_fire - DEBUG - Brightness np.array for the event\n",
      "2019-05-22 11:06:16,184 - climada.hazard.bush_fire - DEBUG - Sub-dataframe corresponding to event\n"
     ]
    },
    {
     "name": "stderr",
     "output_type": "stream",
     "text": [
      "/Applications/anaconda3/envs/climada_env/lib/python3.7/site-packages/numpy/core/fromnumeric.py:56: FutureWarning: Series.nonzero() is deprecated and will be removed in a future version.Use Series.to_numpy().nonzero() instead\n",
      "  return getattr(obj, method)(*args, **kwds)\n"
     ]
    },
    {
     "name": "stdout",
     "output_type": "stream",
     "text": [
      "2019-05-22 11:06:16,251 - climada.hazard.bush_fire - INFO - Identifying closest (lat,lon) points from firms dataframe for each centroid.\n",
      "2019-05-22 11:06:16,268 - climada.hazard.bush_fire - INFO - Computing maximum brightness for each (lat,lon) point.\n",
      "2019-05-22 11:06:16,288 - climada.hazard.bush_fire - DEBUG - BallTree\n",
      "2019-05-22 11:06:20,169 - climada.hazard.bush_fire - DEBUG - Brightness np.array for the event\n",
      "2019-05-22 11:06:20,915 - climada.hazard.bush_fire - DEBUG - Sub-dataframe corresponding to event\n"
     ]
    },
    {
     "name": "stderr",
     "output_type": "stream",
     "text": [
      "/Applications/anaconda3/envs/climada_env/lib/python3.7/site-packages/numpy/core/fromnumeric.py:56: FutureWarning: Series.nonzero() is deprecated and will be removed in a future version.Use Series.to_numpy().nonzero() instead\n",
      "  return getattr(obj, method)(*args, **kwds)\n"
     ]
    },
    {
     "name": "stdout",
     "output_type": "stream",
     "text": [
      "2019-05-22 11:06:20,998 - climada.hazard.bush_fire - INFO - Identifying closest (lat,lon) points from firms dataframe for each centroid.\n",
      "2019-05-22 11:06:21,024 - climada.hazard.bush_fire - INFO - Computing maximum brightness for each (lat,lon) point.\n",
      "2019-05-22 11:06:21,049 - climada.hazard.bush_fire - DEBUG - BallTree\n",
      "2019-05-22 11:06:35,881 - climada.hazard.bush_fire - DEBUG - Brightness np.array for the event\n",
      "2019-05-22 11:06:37,563 - climada.hazard.bush_fire - DEBUG - Sub-dataframe corresponding to event\n"
     ]
    },
    {
     "name": "stderr",
     "output_type": "stream",
     "text": [
      "/Applications/anaconda3/envs/climada_env/lib/python3.7/site-packages/numpy/core/fromnumeric.py:56: FutureWarning: Series.nonzero() is deprecated and will be removed in a future version.Use Series.to_numpy().nonzero() instead\n",
      "  return getattr(obj, method)(*args, **kwds)\n"
     ]
    },
    {
     "name": "stdout",
     "output_type": "stream",
     "text": [
      "2019-05-22 11:06:37,981 - climada.hazard.bush_fire - INFO - Identifying closest (lat,lon) points from firms dataframe for each centroid.\n",
      "2019-05-22 11:06:38,082 - climada.hazard.bush_fire - INFO - Computing maximum brightness for each (lat,lon) point.\n",
      "2019-05-22 11:06:38,117 - climada.hazard.bush_fire - DEBUG - BallTree\n",
      "2019-05-22 11:07:03,710 - climada.hazard.bush_fire - DEBUG - Brightness np.array for the event\n",
      "2019-05-22 11:07:05,012 - climada.hazard.bush_fire - DEBUG - Sub-dataframe corresponding to event\n"
     ]
    },
    {
     "name": "stderr",
     "output_type": "stream",
     "text": [
      "/Applications/anaconda3/envs/climada_env/lib/python3.7/site-packages/numpy/core/fromnumeric.py:56: FutureWarning: Series.nonzero() is deprecated and will be removed in a future version.Use Series.to_numpy().nonzero() instead\n",
      "  return getattr(obj, method)(*args, **kwds)\n"
     ]
    },
    {
     "name": "stdout",
     "output_type": "stream",
     "text": [
      "2019-05-22 11:07:05,164 - climada.hazard.bush_fire - INFO - Identifying closest (lat,lon) points from firms dataframe for each centroid.\n",
      "2019-05-22 11:07:05,206 - climada.hazard.bush_fire - INFO - Computing maximum brightness for each (lat,lon) point.\n",
      "2019-05-22 11:07:05,230 - climada.hazard.bush_fire - DEBUG - BallTree\n",
      "2019-05-22 11:24:04,469 - climada.hazard.bush_fire - DEBUG - Brightness np.array for the event\n",
      "2019-05-22 11:24:05,020 - climada.hazard.bush_fire - DEBUG - Sub-dataframe corresponding to event\n"
     ]
    },
    {
     "name": "stderr",
     "output_type": "stream",
     "text": [
      "/Applications/anaconda3/envs/climada_env/lib/python3.7/site-packages/numpy/core/fromnumeric.py:56: FutureWarning: Series.nonzero() is deprecated and will be removed in a future version.Use Series.to_numpy().nonzero() instead\n",
      "  return getattr(obj, method)(*args, **kwds)\n"
     ]
    },
    {
     "name": "stdout",
     "output_type": "stream",
     "text": [
      "2019-05-22 11:24:05,187 - climada.hazard.bush_fire - INFO - Identifying closest (lat,lon) points from firms dataframe for each centroid.\n",
      "2019-05-22 11:24:05,230 - climada.hazard.bush_fire - INFO - Computing maximum brightness for each (lat,lon) point.\n",
      "2019-05-22 11:24:05,280 - climada.hazard.bush_fire - DEBUG - BallTree\n",
      "2019-05-22 11:24:06,422 - climada.hazard.bush_fire - DEBUG - Brightness np.array for the event\n",
      "2019-05-22 11:24:06,797 - climada.hazard.bush_fire - DEBUG - Sub-dataframe corresponding to event\n"
     ]
    },
    {
     "name": "stderr",
     "output_type": "stream",
     "text": [
      "/Applications/anaconda3/envs/climada_env/lib/python3.7/site-packages/numpy/core/fromnumeric.py:56: FutureWarning: Series.nonzero() is deprecated and will be removed in a future version.Use Series.to_numpy().nonzero() instead\n",
      "  return getattr(obj, method)(*args, **kwds)\n"
     ]
    },
    {
     "name": "stdout",
     "output_type": "stream",
     "text": [
      "2019-05-22 11:24:06,880 - climada.hazard.bush_fire - INFO - Identifying closest (lat,lon) points from firms dataframe for each centroid.\n",
      "2019-05-22 11:24:06,913 - climada.hazard.bush_fire - INFO - Computing maximum brightness for each (lat,lon) point.\n",
      "2019-05-22 11:24:09,359 - climada.hazard.bush_fire - DEBUG - BallTree\n",
      "2019-05-22 11:24:11,740 - climada.hazard.bush_fire - DEBUG - Brightness np.array for the event\n",
      "2019-05-22 11:24:12,148 - climada.hazard.bush_fire - DEBUG - Sub-dataframe corresponding to event\n"
     ]
    },
    {
     "name": "stderr",
     "output_type": "stream",
     "text": [
      "/Applications/anaconda3/envs/climada_env/lib/python3.7/site-packages/numpy/core/fromnumeric.py:56: FutureWarning: Series.nonzero() is deprecated and will be removed in a future version.Use Series.to_numpy().nonzero() instead\n",
      "  return getattr(obj, method)(*args, **kwds)\n"
     ]
    },
    {
     "name": "stdout",
     "output_type": "stream",
     "text": [
      "2019-05-22 11:24:12,211 - climada.hazard.bush_fire - INFO - Identifying closest (lat,lon) points from firms dataframe for each centroid.\n",
      "2019-05-22 11:24:12,228 - climada.hazard.bush_fire - INFO - Computing maximum brightness for each (lat,lon) point.\n",
      "2019-05-22 11:24:12,239 - climada.hazard.bush_fire - DEBUG - BallTree\n",
      "2019-05-22 11:24:19,651 - climada.hazard.bush_fire - DEBUG - Brightness np.array for the event\n",
      "2019-05-22 11:24:20,283 - climada.hazard.bush_fire - DEBUG - Sub-dataframe corresponding to event\n"
     ]
    },
    {
     "name": "stderr",
     "output_type": "stream",
     "text": [
      "/Applications/anaconda3/envs/climada_env/lib/python3.7/site-packages/numpy/core/fromnumeric.py:56: FutureWarning: Series.nonzero() is deprecated and will be removed in a future version.Use Series.to_numpy().nonzero() instead\n",
      "  return getattr(obj, method)(*args, **kwds)\n"
     ]
    },
    {
     "name": "stdout",
     "output_type": "stream",
     "text": [
      "2019-05-22 11:24:20,391 - climada.hazard.bush_fire - INFO - Identifying closest (lat,lon) points from firms dataframe for each centroid.\n",
      "2019-05-22 11:24:20,418 - climada.hazard.bush_fire - INFO - Computing maximum brightness for each (lat,lon) point.\n",
      "2019-05-22 11:24:23,455 - climada.hazard.bush_fire - DEBUG - BallTree\n",
      "2019-05-22 12:08:13,148 - climada.hazard.bush_fire - DEBUG - Brightness np.array for the event\n",
      "2019-05-22 12:08:13,612 - climada.hazard.bush_fire - DEBUG - Sub-dataframe corresponding to event\n"
     ]
    }
   ],
   "source": [
    "%matplotlib inline\n",
    "from climada.util import SOURCE_DIR\n",
    "import os\n",
    "from climada.hazard.bush_fire import BushFire\n",
    "\n",
    "TEST_FIRMS = os.path.join(SOURCE_DIR, 'hazard/test/data', \"California_firms_2016_viirs.csv\")\n",
    "\n",
    "bf = BushFire()\n",
    "Fire_California_2016 = bf.set_bush_fire (TEST_FIRMS, centr_res_factor = 0.25, seed = -4)\n",
    "bf.plot_intensity(event=0)\n"
   ]
  },
  {
   "cell_type": "code",
   "execution_count": 4,
   "metadata": {},
   "outputs": [
    {
     "name": "stdout",
     "output_type": "stream",
     "text": [
      "2019-05-21 17:10:36,890 - climada.hazard.bush_fire - INFO - Setting up historical event.\n",
      "2019-05-21 17:10:37,391 - climada.hazard.bush_fire - INFO - Computing clusters of consecutive days.\n",
      "2019-05-21 17:10:38,233 - climada.hazard.bush_fire - INFO - Defining the resolution of the centroids.\n",
      "2019-05-21 17:10:38,235 - climada.hazard.bush_fire - INFO - Computing centroids.\n",
      "2019-05-21 17:10:38,258 - climada.hazard.centroids.centr - DEBUG - Setting area_pixel approx 78090 points.\n",
      "2019-05-21 17:10:38,264 - climada.hazard.centroids.centr - DEBUG - Setting on_land 78090 points.\n",
      "2019-05-21 17:10:38,895 - climada.hazard.centroids.centr - DEBUG - Setting dist_coast 78090 points.\n",
      "2019-05-21 17:10:42,514 - climada.hazard.bush_fire - INFO - Computing geographic clusters in consecutive events.\n",
      "2019-05-21 17:10:44,755 - climada.hazard.bush_fire - INFO - Sorting of firms data\n",
      "2019-05-21 17:10:44,813 - climada.hazard.bush_fire - INFO - Creation of event_id.\n",
      "Nb of event 5.0\n",
      "2019-05-21 17:10:45,302 - climada.hazard.bush_fire - DEBUG - Filling up the matrix.\n"
     ]
    },
    {
     "name": "stderr",
     "output_type": "stream",
     "text": [
      "/Applications/anaconda3/envs/climada_env/lib/python3.7/site-packages/matplotlib/tight_layout.py:176: UserWarning: Tight layout not applied. The left and right margins cannot be made large enough to accommodate all axes decorations. \n",
      "  warnings.warn('Tight layout not applied. The left and right margins '\n"
     ]
    },
    {
     "data": {
      "text/plain": [
       "(<Figure size 648x936 with 2 Axes>,\n",
       " array([[<cartopy.mpl.geoaxes.GeoAxesSubplot object at 0x1a22903b00>]],\n",
       "       dtype=object))"
      ]
     },
     "execution_count": 4,
     "metadata": {},
     "output_type": "execute_result"
    },
    {
     "data": {
      "image/png": "[encoded data removed]",
      "text/plain": [
       "<Figure size 648x936 with 2 Axes>"
      ]
     },
     "metadata": {
      "needs_background": "light"
     },
     "output_type": "display_data"
    }
   ],
   "source": [
    "%matplotlib inline\n",
    "from climada.util import SOURCE_DIR\n",
    "import os\n",
    "from climada.hazard.bush_fire import BushFire\n",
    "\n",
    "TEST_FIRMS = os.path.join(SOURCE_DIR, 'hazard/test/data', \"California_firms_Soberanes_2016_viirs.csv\")\n",
    "\n",
    "bf = BushFire()\n",
    "Fire_Soberanes = bf.set_bush_fire (TEST_FIRMS, centr_res_factor = 1, seed = 8)\n",
    "bf.plot_intensity(event=0)"
   ]
  },
  {
   "cell_type": "markdown",
   "metadata": {},
   "source": [
    "## Clean data file\n",
    "The dataset can be cleaned from low confidence data by using the method _clean_firms_csv."
   ]
  },
  {
   "cell_type": "markdown",
   "metadata": {},
   "source": [
    "If the data origin is VIIRS, the data with 'l' as confidence value will be removed from the dataset. \n",
    "If the data origin is MODIS, the confidence value is numerical and the threshold below which the data are removed can be chosen by changing the value of CLEAN_THRESH. Per default, this value is set at 30 as recommanded by Earthdata. "
   ]
  },
  {
   "cell_type": "code",
   "execution_count": 8,
   "metadata": {},
   "outputs": [
    {
     "name": "stdout",
     "output_type": "stream",
     "text": [
      "firms size: 32944 with threshold = 50\n"
     ]
    }
   ],
   "source": [
    "%matplotlib inline\n",
    "from climada.util import SOURCE_DIR\n",
    "import os\n",
    "import numpy as np\n",
    "import pandas as pd\n",
    "from climada.hazard.bush_fire import BushFire\n",
    "\n",
    "TEST_FIRMS = os.path.join(SOURCE_DIR, 'hazard/test/data', \"California_firms_Soberanes_2016_modis.csv\")\n",
    "\n",
    "CLEAN_THRESH = 50\n",
    "\"\"\" Minimal confidence value for the data from MODIS instrument to be use as input\"\"\"\n",
    "\n",
    "bf = BushFire()\n",
    "firms, description = bf._read_firms_csv(TEST_FIRMS, description='')\n",
    "\n",
    "temp = pd.DataFrame()\n",
    "if 'instrument' in firms.columns:\n",
    "    if firms.instrument.any() == 'MODIS' or firms.instrument.any() == 'VIIRS':\n",
    "        firms_modis = firms.drop(firms[firms.instrument == 'VIIRS'].index)\n",
    "        firms_modis.confidence = np.array(\n",
    "                    list(map(int, firms_modis.confidence.values.tolist())))\n",
    "        firms_modis = firms_modis.drop(firms_modis[firms_modis.confidence < CLEAN_THRESH].index)\n",
    "        temp = firms_modis\n",
    "        firms_viirs = firms.drop(firms[firms.instrument == 'MODIS'].index)\n",
    "        if firms_viirs.size:\n",
    "            firms_viirs = firms_viirs.drop(firms_viirs[firms_viirs.confidence == 'l'].index)\n",
    "            firms_viirs = firms_viirs.rename(columns={'bright_ti4':'brightness'})\n",
    "            temp = temp.append(firms_viirs, sort = True)\n",
    "\n",
    "    firms = temp\n",
    "print('firms size:', str(firms.size),'with threshold =', str(CLEAN_THRESH))\n",
    "\n"
   ]
  },
  {
   "cell_type": "markdown",
   "metadata": {},
   "source": [
    "## Centroids\n",
    "The centroids are created for the dataset with the method _centroids_creation"
   ]
  },
  {
   "cell_type": "markdown",
   "metadata": {},
   "source": [
    "The number of centroids is defined according to the data resolution (res_data), which depends on the origin of the data. If the data origin is not provided, the resolution can be chosen manually with the constant RES_DATA. \n",
    "A factor (centr_res_factor) is used as a multiplier to voluntarly decrease/increase the number of centroids in the latitude and longitude directions, independently from the data resolution itself. "
   ]
  },
  {
   "cell_type": "code",
   "execution_count": 10,
   "metadata": {},
   "outputs": [
    {
     "name": "stdout",
     "output_type": "stream",
     "text": [
      "2019-05-22 09:57:35,599 - climada.hazard.bush_fire - INFO - Defining the resolution of the centroids.\n",
      "2019-05-22 09:57:35,603 - climada.hazard.bush_fire - INFO - Computing centroids.\n",
      "2019-05-22 09:57:35,624 - climada.hazard.centroids.centr - DEBUG - Setting area_pixel approx 10044 points.\n",
      "2019-05-22 09:57:35,626 - climada.hazard.centroids.centr - DEBUG - Setting on_land 10044 points.\n",
      "2019-05-22 09:57:36,634 - climada.hazard.centroids.centr - DEBUG - Setting dist_coast 10044 points.\n"
     ]
    }
   ],
   "source": [
    "%matplotlib inline\n",
    "from climada.util import SOURCE_DIR\n",
    "import os\n",
    "import numpy as np\n",
    "import pandas as pd\n",
    "from climada.hazard.bush_fire import BushFire\n",
    "\n",
    "TEST_FIRMS = os.path.join(SOURCE_DIR, 'hazard/test/data', \"California_firms_Soberanes_2016_modis.csv\")\n",
    "\n",
    "bf = BushFire()\n",
    "firms, description = bf._read_firms_csv(TEST_FIRMS)\n",
    "firms = bf._clean_firms_csv(firms)\n",
    "\n",
    "centr_res_factor = 1\n",
    "centroids, res_data = bf._centroids_creation(firms, centr_res_factor)"
   ]
  },
  {
   "cell_type": "markdown",
   "metadata": {},
   "source": [
    "## Temporal clustering"
   ]
  },
  {
   "cell_type": "markdown",
   "metadata": {},
   "source": [
    "The temporal clustering of the data is done with the method firms_cons_days.\n",
    "Temporal clusters are defined by data with consecutive acquisition dates, or with less than 2 days interruption."
   ]
  },
  {
   "cell_type": "markdown",
   "metadata": {},
   "source": [
    "## Geographical clustering\n",
    "The geographical clustering of the data is done with the method _firms_clustering."
   ]
  },
  {
   "cell_type": "markdown",
   "metadata": {},
   "source": [
    "This method looks for geographical clusters in each of the temporal clusters.\n",
    "\n",
    "This method uses the DBSCAN algorithm from scikit library, a Density-Based Spatial Clustering of Applications with Noise algorithm. It finds core samples of high density and expands clusters from them. DBSCAN requires two input parameters: eps and min_samples. \n",
    "\n",
    "eps corresponds to the maximum distance between two samples for them to be considered as in the same neighborhood and is set equal to half of the data resolution (as calculated previously with the centroids). \n",
    "min_samples corresponds to the number of samples (or total weight) in a neighborhood for a point to be considered as a core point (this includes the point itself). As we considered that a fire event can be composed of only one pixel, min_samples is set at 0 per default. \n"
   ]
  },
  {
   "cell_type": "markdown",
   "metadata": {},
   "source": [
    "## Number of events per year\n",
    "The method _event_per_year_ allows to calculate the number of event for a given year.\n",
    "Below the example for California in 2016."
   ]
  },
  {
   "cell_type": "code",
   "execution_count": 11,
   "metadata": {},
   "outputs": [
    {
     "name": "stdout",
     "output_type": "stream",
     "text": [
      "2019-05-22 09:57:49,811 - climada.hazard.bush_fire - INFO - Computing clusters of consecutive days.\n",
      "2019-05-22 09:57:51,695 - climada.hazard.bush_fire - INFO - Defining the resolution of the centroids.\n",
      "2019-05-22 09:57:51,700 - climada.hazard.bush_fire - INFO - Computing centroids.\n",
      "2019-05-22 09:57:53,071 - climada.hazard.centroids.centr - DEBUG - Setting area_pixel approx 7837398 points.\n",
      "2019-05-22 09:57:53,131 - climada.hazard.centroids.centr - DEBUG - Setting on_land 7837398 points.\n",
      "2019-05-22 09:58:06,072 - climada.hazard.centroids.centr - DEBUG - Setting dist_coast 7837398 points.\n",
      "2019-05-22 10:03:47,124 - climada.hazard.bush_fire - INFO - Computing geographic clusters in consecutive events.\n",
      "2019-05-22 10:03:49,713 - climada.hazard.bush_fire - INFO - Sorting of firms data\n",
      "2019-05-22 10:03:49,788 - climada.hazard.bush_fire - INFO - Creation of event_id.\n",
      "Nb of event 130.0\n",
      "year: 2016 nb of event: 130.0\n"
     ]
    }
   ],
   "source": [
    "%matplotlib inline\n",
    "from climada.util import SOURCE_DIR\n",
    "import os\n",
    "import numpy as np\n",
    "import pandas as pd\n",
    "from climada.hazard.bush_fire import BushFire\n",
    "\n",
    "TEST_FIRMS = os.path.join(SOURCE_DIR, 'hazard/test/data', \"California_firms_2016_viirs.csv\")\n",
    "\n",
    "bf = BushFire()\n",
    "firms, description = bf._read_firms_csv(TEST_FIRMS)\n",
    "firms = bf._firms_cons_days(firms)\n",
    "centroids, res_data = bf._centroids_creation(firms, centr_res_factor = 1)\n",
    "firms = bf._firms_clustering(firms, res_data)\n",
    "firms = bf._firms_event(firms)\n",
    "\n",
    "event_for_2016 = bf._event_per_year(firms, 2016)"
   ]
  },
  {
   "cell_type": "markdown",
   "metadata": {},
   "source": [
    "## Intensity matrix"
   ]
  },
  {
   "cell_type": "markdown",
   "metadata": {},
   "source": [
    "The intensity matrix is build with the method calc_brightness.\n",
    "This method fills the intensity matrix with, for each event, the maximum measured brightness at each centroid. \n",
    "\n",
    "The closest centroid from each (lat, lon) points of the dataframe is identified with the help of a balltree. "
   ]
  },
  {
   "cell_type": "markdown",
   "metadata": {},
   "source": [
    "## Area burned per event\n",
    "The method #_area_one_event_ allow to calculate the area burned (in km2) per event based on the number of centroids associated with a brightness value higher than 0. \n",
    "\n",
    "The calculated area is an approximation and does NOT correspond to the real area (due to projection issue). This value is used only to stop the propagation of the fire for the probabilistic events. \n",
    "\n",
    "Below the example of the area burned in 2016 during the Soberanes fire in California."
   ]
  },
  {
   "cell_type": "code",
   "execution_count": 12,
   "metadata": {},
   "outputs": [
    {
     "name": "stdout",
     "output_type": "stream",
     "text": [
      "2019-05-22 10:03:51,725 - climada.hazard.bush_fire - INFO - Computing clusters of consecutive days.\n",
      "2019-05-22 10:03:52,853 - climada.hazard.bush_fire - INFO - Defining the resolution of the centroids.\n",
      "2019-05-22 10:03:52,855 - climada.hazard.bush_fire - INFO - Computing centroids.\n",
      "2019-05-22 10:03:52,874 - climada.hazard.centroids.centr - DEBUG - Setting area_pixel approx 78090 points.\n",
      "2019-05-22 10:03:52,877 - climada.hazard.centroids.centr - DEBUG - Setting on_land 78090 points.\n",
      "2019-05-22 10:03:53,760 - climada.hazard.centroids.centr - DEBUG - Setting dist_coast 78090 points.\n",
      "2019-05-22 10:03:59,292 - climada.hazard.bush_fire - INFO - Computing geographic clusters in consecutive events.\n",
      "2019-05-22 10:04:01,705 - climada.hazard.bush_fire - INFO - Sorting of firms data\n",
      "2019-05-22 10:04:01,777 - climada.hazard.bush_fire - INFO - Creation of event_id.\n",
      "Nb of event 5.0\n",
      "2019-05-22 10:04:02,470 - climada.hazard.bush_fire - DEBUG - Filling up the matrix.\n"
     ]
    }
   ],
   "source": [
    "%matplotlib inline\n",
    "from climada.util import SOURCE_DIR\n",
    "import os\n",
    "import numpy as np\n",
    "import pandas as pd\n",
    "from climada.hazard.bush_fire import BushFire\n",
    "\n",
    "TEST_FIRMS = os.path.join(SOURCE_DIR, 'hazard/test/data', \"California_firms_Soberanes_2016_viirs.csv\")\n",
    "\n",
    "bf = BushFire()\n",
    "firms, description = bf._read_firms_csv(TEST_FIRMS)\n",
    "firms = bf._firms_cons_days(firms)\n",
    "centroids, res_data = bf._centroids_creation(firms, centr_res_factor = 1)\n",
    "firms = bf._firms_clustering(firms, res_data)\n",
    "firms = bf._firms_event(firms)\n",
    "brightness = bf._calc_brightness(firms, centroids)\n",
    "\n",
    "area_Soberanes = bf._area_one_event(3) #3 = event_id of Soberanes fire"
   ]
  },
  {
   "cell_type": "markdown",
   "metadata": {},
   "source": [
    "## Area burned per year\n",
    "Based on the same principles, the area burned per year can be calculated using the method _area_one_year_.\n",
    "Below the example of the area burned in 2016 in California.\n",
    "\n",
    "Once again, the calculated area is an approximation and does NOT correspond to the real area (due to projection issue)."
   ]
  },
  {
   "cell_type": "code",
   "execution_count": null,
   "metadata": {},
   "outputs": [
    {
     "name": "stdout",
     "output_type": "stream",
     "text": [
      "2019-05-22 10:05:28,578 - climada.hazard.bush_fire - INFO - Computing clusters of consecutive days.\n",
      "2019-05-22 10:05:30,448 - climada.hazard.bush_fire - INFO - Defining the resolution of the centroids.\n",
      "2019-05-22 10:05:30,453 - climada.hazard.bush_fire - INFO - Computing centroids.\n",
      "2019-05-22 10:05:31,765 - climada.hazard.centroids.centr - DEBUG - Setting area_pixel approx 7837398 points.\n",
      "2019-05-22 10:05:31,825 - climada.hazard.centroids.centr - DEBUG - Setting on_land 7837398 points.\n",
      "2019-05-22 10:05:45,061 - climada.hazard.centroids.centr - DEBUG - Setting dist_coast 7837398 points.\n",
      "2019-05-22 10:12:35,097 - climada.hazard.bush_fire - INFO - Computing geographic clusters in consecutive events.\n",
      "2019-05-22 10:12:37,370 - climada.hazard.bush_fire - INFO - Sorting of firms data\n",
      "2019-05-22 10:12:37,423 - climada.hazard.bush_fire - INFO - Creation of event_id.\n",
      "Nb of event 130.0\n",
      "2019-05-22 10:12:38,773 - climada.hazard.bush_fire - DEBUG - Filling up the matrix.\n"
     ]
    }
   ],
   "source": [
    "%matplotlib inline\n",
    "from climada.util import SOURCE_DIR\n",
    "import os\n",
    "import numpy as np\n",
    "import pandas as pd\n",
    "from climada.hazard.bush_fire import BushFire\n",
    "\n",
    "TEST_FIRMS = os.path.join(SOURCE_DIR, 'hazard/test/data', \"California_firms_2016_viirs.csv\")\n",
    "\n",
    "bf = BushFire()\n",
    "firms, description = bf._read_firms_csv(TEST_FIRMS)\n",
    "firms = bf._firms_cons_days(firms)\n",
    "centroids, res_data = bf._centroids_creation(firms, centr_res_factor = 1)\n",
    "firms = bf._firms_clustering(firms, res_data)\n",
    "firms = bf._firms_event(firms)\n",
    "brightness = bf._calc_brightness(firms, centroids)\n",
    "\n",
    "area_California_2016 = bf._area_one_year(2016)"
   ]
  },
  {
   "cell_type": "markdown",
   "metadata": {},
   "source": [
    "# Probabilistic events"
   ]
  },
  {
   "cell_type": "markdown",
   "metadata": {},
   "source": [
    "For each historical event, a set of probabilistic events is generated by:\n",
    "\n",
    "- selecting randomly a centroid, located on land, as ignition starting point (plus or minus a wiggle)\n",
    "- propagating the fire from the ignition point with a cellular automat, as long as the burned area is smaller than the burned area of the given historical event. \n",
    "\n",
    "The input parameters are the ev_id of the selected historical event and ens_size, the number of probabilistic events to be generated for this historical event. \n",
    "            \n",
    "The following code generates 3 probabilistic events for the Soberanes fire (which has an ev_id = 3 in this case) and display the first of them.              "
   ]
  },
  {
   "cell_type": "code",
   "execution_count": 16,
   "metadata": {},
   "outputs": [
    {
     "name": "stdout",
     "output_type": "stream",
     "text": [
      "2019-04-09 11:18:36,959 - climada.hazard.bush_fire - INFO - Setting up historical event.\n",
      "firms size: %s with threshold = %s 139875 30\n",
      "2019-04-09 11:18:39,107 - climada.hazard.bush_fire - INFO - Computing clusters of consecutive days.\n",
      "nb of temporal clusters 1.0\n",
      "2019-04-09 11:18:43,031 - climada.hazard.bush_fire - INFO - Defining the resolution of the centroids.\n",
      "2019-04-09 11:18:43,040 - climada.hazard.bush_fire - INFO - Computing centroids.\n",
      "2019-04-09 11:19:33,364 - climada.hazard.bush_fire - DEBUG - Sub-dataframe corresponding to event\n",
      "2019-04-09 11:19:33,635 - climada.hazard.bush_fire - INFO - Identifying closest (lat,lon) points from firms dataframe for each centroid.\n",
      "2019-04-09 11:19:33,757 - climada.hazard.bush_fire - INFO - Computing maximum brightness for each (lat,lon) point.\n",
      "2019-04-09 11:19:33,802 - climada.hazard.bush_fire - DEBUG - BallTree\n",
      "2019-04-09 11:20:06,843 - climada.hazard.bush_fire - DEBUG - Sub-dataframe corresponding to event\n",
      "2019-04-09 11:20:07,239 - climada.hazard.bush_fire - INFO - Identifying closest (lat,lon) points from firms dataframe for each centroid.\n",
      "2019-04-09 11:20:07,379 - climada.hazard.bush_fire - INFO - Computing maximum brightness for each (lat,lon) point.\n",
      "2019-04-09 11:20:18,561 - climada.hazard.bush_fire - DEBUG - BallTree\n",
      "2019-04-09 11:20:31,778 - climada.hazard.bush_fire - DEBUG - Sub-dataframe corresponding to event\n",
      "2019-04-09 11:20:31,843 - climada.hazard.bush_fire - INFO - Identifying closest (lat,lon) points from firms dataframe for each centroid.\n",
      "2019-04-09 11:20:31,862 - climada.hazard.bush_fire - INFO - Computing maximum brightness for each (lat,lon) point.\n",
      "2019-04-09 11:20:32,099 - climada.hazard.bush_fire - DEBUG - BallTree\n",
      "2019-04-09 11:20:39,430 - climada.hazard.bush_fire - INFO - Computing geographic clusters in consecutive events.\n",
      "Nb of geographical clusters 3.0\n",
      "2019-04-09 11:20:55,811 - climada.hazard.bush_fire - INFO - Sorting of firms data\n",
      "2019-04-09 11:20:56,155 - climada.hazard.bush_fire - INFO - Creation of event_id.\n",
      "2019-04-09 11:20:57,511 - climada.hazard.bush_fire - DEBUG - Sub-dataframe corresponding to event\n",
      "2019-04-09 11:20:57,609 - climada.hazard.bush_fire - INFO - Identifying closest (lat,lon) points from firms dataframe for each centroid.\n",
      "2019-04-09 11:20:57,659 - climada.hazard.bush_fire - INFO - Computing maximum brightness for each (lat,lon) point.\n",
      "2019-04-09 11:20:57,684 - climada.hazard.bush_fire - DEBUG - BallTree\n",
      "Nb of event 5.0\n",
      "2019-04-09 11:21:04,278 - climada.hazard.bush_fire - DEBUG - Filling up the matrix.\n",
      "2019-04-09 11:32:13,343 - climada.hazard.bush_fire - DEBUG - brightness np.array for the event\n",
      "2019-04-09 11:32:14,152 - climada.hazard.bush_fire - DEBUG - Sub-dataframe corresponding to event\n",
      "2019-04-09 11:32:14,207 - climada.hazard.bush_fire - INFO - Identifying closest (lat,lon) points from firms dataframe for each centroid.\n",
      "2019-04-09 11:32:14,271 - climada.hazard.bush_fire - INFO - Computing maximum brightness for each (lat,lon) point.\n",
      "2019-04-09 11:32:14,322 - climada.hazard.bush_fire - DEBUG - BallTree\n",
      "2019-04-09 11:32:37,751 - climada.hazard.bush_fire - DEBUG - brightness np.array for the event\n",
      "2019-04-09 11:32:38,970 - climada.hazard.bush_fire - DEBUG - Sub-dataframe corresponding to event\n",
      "2019-04-09 11:32:39,083 - climada.hazard.bush_fire - INFO - Identifying closest (lat,lon) points from firms dataframe for each centroid.\n",
      "2019-04-09 11:32:39,130 - climada.hazard.bush_fire - INFO - Computing maximum brightness for each (lat,lon) point.\n",
      "2019-04-09 11:32:39,172 - climada.hazard.bush_fire - DEBUG - BallTree\n",
      "2019-04-09 11:32:42,544 - climada.hazard.bush_fire - DEBUG - brightness np.array for the event\n",
      "2019-04-09 11:32:43,678 - climada.hazard.bush_fire - DEBUG - Sub-dataframe corresponding to event\n",
      "2019-04-09 11:32:43,793 - climada.hazard.bush_fire - INFO - Identifying closest (lat,lon) points from firms dataframe for each centroid.\n",
      "2019-04-09 11:32:43,891 - climada.hazard.bush_fire - INFO - Computing maximum brightness for each (lat,lon) point.\n",
      "2019-04-09 11:32:44,524 - climada.hazard.bush_fire - DEBUG - BallTree\n",
      "2019-04-09 11:33:01,854 - climada.hazard.bush_fire - DEBUG - brightness np.array for the event\n",
      "2019-04-09 11:33:02,589 - climada.hazard.bush_fire - DEBUG - Sub-dataframe corresponding to event\n",
      "2019-04-09 11:33:02,672 - climada.hazard.bush_fire - INFO - Identifying closest (lat,lon) points from firms dataframe for each centroid.\n",
      "2019-04-09 11:33:02,720 - climada.hazard.bush_fire - INFO - Computing maximum brightness for each (lat,lon) point.\n",
      "2019-04-09 11:33:02,882 - climada.hazard.bush_fire - DEBUG - BallTree\n",
      "2019-04-09 11:46:49,085 - climada.hazard.bush_fire - DEBUG - brightness np.array for the event\n",
      "2019-04-09 11:46:49,536 - climada.hazard.bush_fire - DEBUG - Sub-dataframe corresponding to event\n",
      "2019-04-09 11:46:49,612 - climada.hazard.bush_fire - INFO - Identifying closest (lat,lon) points from firms dataframe for each centroid.\n",
      "2019-04-09 11:46:49,630 - climada.hazard.bush_fire - INFO - Computing maximum brightness for each (lat,lon) point.\n",
      "2019-04-09 11:46:49,652 - climada.hazard.bush_fire - DEBUG - BallTree\n",
      "2019-04-09 11:47:01,674 - climada.hazard.bush_fire - DEBUG - brightness np.array for the event\n",
      "2019-04-09 11:47:02,113 - climada.hazard.bush_fire - DEBUG - Sub-dataframe corresponding to event\n",
      "2019-04-09 11:47:02,176 - climada.hazard.bush_fire - INFO - Identifying closest (lat,lon) points from firms dataframe for each centroid.\n",
      "2019-04-09 11:47:02,199 - climada.hazard.bush_fire - INFO - Computing maximum brightness for each (lat,lon) point.\n",
      "2019-04-09 11:47:02,218 - climada.hazard.bush_fire - DEBUG - BallTree\n",
      "2019-04-09 11:47:03,971 - climada.hazard.bush_fire - DEBUG - brightness np.array for the event\n",
      "2019-04-09 11:47:04,405 - climada.hazard.bush_fire - DEBUG - Sub-dataframe corresponding to event\n",
      "2019-04-09 11:47:04,460 - climada.hazard.bush_fire - INFO - Identifying closest (lat,lon) points from firms dataframe for each centroid.\n",
      "2019-04-09 11:47:04,481 - climada.hazard.bush_fire - INFO - Computing maximum brightness for each (lat,lon) point.\n",
      "2019-04-09 11:47:04,496 - climada.hazard.bush_fire - DEBUG - BallTree\n",
      "2019-04-09 11:47:16,385 - climada.hazard.bush_fire - DEBUG - brightness np.array for the event\n",
      "2019-04-09 11:47:16,888 - climada.hazard.bush_fire - DEBUG - Sub-dataframe corresponding to event\n",
      "2019-04-09 11:47:16,961 - climada.hazard.bush_fire - INFO - Identifying closest (lat,lon) points from firms dataframe for each centroid.\n",
      "2019-04-09 11:47:16,988 - climada.hazard.bush_fire - INFO - Computing maximum brightness for each (lat,lon) point.\n",
      "2019-04-09 11:47:18,054 - climada.hazard.bush_fire - DEBUG - BallTree\n",
      "2019-04-09 11:58:45,869 - climada.hazard.bush_fire - DEBUG - brightness np.array for the event\n",
      "2019-04-09 11:58:46,331 - climada.hazard.bush_fire - DEBUG - Sub-dataframe corresponding to event\n",
      "2019-04-09 11:58:46,390 - climada.hazard.bush_fire - INFO - Identifying closest (lat,lon) points from firms dataframe for each centroid.\n",
      "2019-04-09 11:58:46,414 - climada.hazard.bush_fire - INFO - Computing maximum brightness for each (lat,lon) point.\n",
      "2019-04-09 11:58:46,431 - climada.hazard.bush_fire - DEBUG - BallTree\n",
      "2019-04-09 11:59:02,977 - climada.hazard.bush_fire - DEBUG - brightness np.array for the event\n",
      "2019-04-09 11:59:03,572 - climada.hazard.bush_fire - DEBUG - Sub-dataframe corresponding to event\n",
      "2019-04-09 11:59:03,636 - climada.hazard.bush_fire - INFO - Identifying closest (lat,lon) points from firms dataframe for each centroid.\n",
      "2019-04-09 11:59:03,670 - climada.hazard.bush_fire - INFO - Computing maximum brightness for each (lat,lon) point.\n",
      "2019-04-09 11:59:03,680 - climada.hazard.bush_fire - DEBUG - BallTree\n",
      "2019-04-09 11:59:05,152 - climada.hazard.bush_fire - DEBUG - brightness np.array for the event\n",
      "2019-04-09 11:59:06,306 - climada.hazard.bush_fire - DEBUG - Sub-dataframe corresponding to event\n",
      "2019-04-09 11:59:06,428 - climada.hazard.bush_fire - INFO - Identifying closest (lat,lon) points from firms dataframe for each centroid.\n",
      "2019-04-09 11:59:06,449 - climada.hazard.bush_fire - INFO - Computing maximum brightness for each (lat,lon) point.\n",
      "2019-04-09 11:59:06,460 - climada.hazard.bush_fire - DEBUG - BallTree\n"
     ]
    },
    {
     "name": "stdout",
     "output_type": "stream",
     "text": [
      "2019-04-09 11:59:33,977 - climada.hazard.bush_fire - DEBUG - brightness np.array for the event\n",
      "2019-04-09 11:59:34,473 - climada.hazard.bush_fire - DEBUG - Sub-dataframe corresponding to event\n",
      "2019-04-09 11:59:34,559 - climada.hazard.bush_fire - INFO - Identifying closest (lat,lon) points from firms dataframe for each centroid.\n",
      "2019-04-09 11:59:34,595 - climada.hazard.bush_fire - INFO - Computing maximum brightness for each (lat,lon) point.\n",
      "2019-04-09 11:59:34,629 - climada.hazard.bush_fire - DEBUG - BallTree\n",
      "2019-04-09 12:09:43,077 - climada.hazard.bush_fire - DEBUG - brightness np.array for the event\n",
      "2019-04-09 12:09:43,493 - climada.hazard.bush_fire - DEBUG - Sub-dataframe corresponding to event\n",
      "2019-04-09 12:09:43,561 - climada.hazard.bush_fire - INFO - Identifying closest (lat,lon) points from firms dataframe for each centroid.\n",
      "2019-04-09 12:09:43,586 - climada.hazard.bush_fire - INFO - Computing maximum brightness for each (lat,lon) point.\n",
      "2019-04-09 12:09:43,624 - climada.hazard.bush_fire - DEBUG - BallTree\n",
      "2019-04-09 12:09:54,089 - climada.hazard.bush_fire - DEBUG - brightness np.array for the event\n",
      "2019-04-09 12:09:54,510 - climada.hazard.bush_fire - DEBUG - Sub-dataframe corresponding to event\n",
      "2019-04-09 12:09:54,527 - climada.hazard.bush_fire - INFO - Identifying closest (lat,lon) points from firms dataframe for each centroid.\n",
      "2019-04-09 12:09:54,552 - climada.hazard.bush_fire - INFO - Computing maximum brightness for each (lat,lon) point.\n",
      "2019-04-09 12:09:54,854 - climada.hazard.bush_fire - DEBUG - BallTree\n",
      "2019-04-09 12:09:55,433 - climada.hazard.bush_fire - DEBUG - brightness np.array for the event\n",
      "2019-04-09 12:09:55,910 - climada.hazard.bush_fire - DEBUG - Sub-dataframe corresponding to event\n",
      "2019-04-09 12:09:55,931 - climada.hazard.bush_fire - INFO - Identifying closest (lat,lon) points from firms dataframe for each centroid.\n",
      "2019-04-09 12:09:55,959 - climada.hazard.bush_fire - INFO - Computing maximum brightness for each (lat,lon) point.\n",
      "2019-04-09 12:09:56,014 - climada.hazard.bush_fire - DEBUG - BallTree\n",
      "2019-04-09 12:10:18,615 - climada.hazard.bush_fire - DEBUG - brightness np.array for the event\n",
      "2019-04-09 12:10:19,060 - climada.hazard.bush_fire - DEBUG - Sub-dataframe corresponding to event\n",
      "2019-04-09 12:10:19,090 - climada.hazard.bush_fire - INFO - Identifying closest (lat,lon) points from firms dataframe for each centroid.\n",
      "2019-04-09 12:10:19,119 - climada.hazard.bush_fire - INFO - Computing maximum brightness for each (lat,lon) point.\n",
      "2019-04-09 12:10:19,182 - climada.hazard.bush_fire - DEBUG - BallTree\n",
      "2019-04-09 12:19:39,981 - climada.hazard.bush_fire - DEBUG - brightness np.array for the event\n",
      "2019-04-09 12:19:40,337 - climada.hazard.bush_fire - DEBUG - Sub-dataframe corresponding to event\n",
      "2019-04-09 12:19:40,353 - climada.hazard.bush_fire - INFO - Identifying closest (lat,lon) points from firms dataframe for each centroid.\n",
      "2019-04-09 12:19:40,367 - climada.hazard.bush_fire - INFO - Computing maximum brightness for each (lat,lon) point.\n",
      "2019-04-09 12:19:44,692 - climada.hazard.bush_fire - DEBUG - BallTree\n",
      "2019-04-09 12:19:49,340 - climada.hazard.bush_fire - DEBUG - brightness np.array for the event\n",
      "2019-04-09 12:19:49,768 - climada.hazard.bush_fire - DEBUG - Sub-dataframe corresponding to event\n",
      "2019-04-09 12:19:49,865 - climada.hazard.bush_fire - INFO - Identifying closest (lat,lon) points from firms dataframe for each centroid.\n",
      "2019-04-09 12:19:49,983 - climada.hazard.bush_fire - INFO - Computing maximum brightness for each (lat,lon) point.\n",
      "2019-04-09 12:19:50,615 - climada.hazard.bush_fire - DEBUG - brightness np.array for the event\n",
      "2019-04-09 12:19:51,072 - climada.hazard.bush_fire - DEBUG - Sub-dataframe corresponding to event\n",
      "2019-04-09 12:19:51,154 - climada.hazard.bush_fire - INFO - Identifying closest (lat,lon) points from firms dataframe for each centroid.\n",
      "2019-04-09 12:19:51,169 - climada.hazard.bush_fire - INFO - Computing maximum brightness for each (lat,lon) point.\n",
      "2019-04-09 12:19:52,000 - climada.hazard.bush_fire - DEBUG - BallTree\n",
      "2019-04-09 12:20:04,784 - climada.hazard.bush_fire - DEBUG - BallTree\n",
      "2019-04-09 12:20:09,999 - climada.hazard.bush_fire - DEBUG - brightness np.array for the event\n",
      "2019-04-09 12:20:10,658 - climada.hazard.bush_fire - DEBUG - Sub-dataframe corresponding to event\n",
      "2019-04-09 12:20:10,764 - climada.hazard.bush_fire - INFO - Identifying closest (lat,lon) points from firms dataframe for each centroid.\n",
      "2019-04-09 12:20:10,785 - climada.hazard.bush_fire - INFO - Computing maximum brightness for each (lat,lon) point.\n",
      "2019-04-09 12:20:10,798 - climada.hazard.bush_fire - DEBUG - BallTree\n",
      "2019-04-09 12:29:16,928 - climada.hazard.bush_fire - DEBUG - brightness np.array for the event\n",
      "2019-04-09 12:29:17,177 - climada.hazard.bush_fire - DEBUG - Sub-dataframe corresponding to event\n",
      "2019-04-09 12:29:17,188 - climada.hazard.bush_fire - INFO - Identifying closest (lat,lon) points from firms dataframe for each centroid.\n",
      "2019-04-09 12:29:17,202 - climada.hazard.bush_fire - INFO - Computing maximum brightness for each (lat,lon) point.\n",
      "2019-04-09 12:29:18,976 - climada.hazard.bush_fire - DEBUG - BallTree\n",
      "2019-04-09 12:29:22,016 - climada.hazard.bush_fire - DEBUG - brightness np.array for the event\n",
      "2019-04-09 12:29:22,396 - climada.hazard.bush_fire - DEBUG - Sub-dataframe corresponding to event\n",
      "2019-04-09 12:29:22,408 - climada.hazard.bush_fire - INFO - Identifying closest (lat,lon) points from firms dataframe for each centroid.\n",
      "2019-04-09 12:29:22,417 - climada.hazard.bush_fire - INFO - Computing maximum brightness for each (lat,lon) point.\n",
      "2019-04-09 12:29:22,434 - climada.hazard.bush_fire - DEBUG - BallTree\n",
      "2019-04-09 12:29:33,427 - climada.hazard.bush_fire - DEBUG - brightness np.array for the event\n",
      "2019-04-09 12:29:33,880 - climada.hazard.bush_fire - DEBUG - Sub-dataframe corresponding to event\n",
      "2019-04-09 12:29:33,914 - climada.hazard.bush_fire - INFO - Identifying closest (lat,lon) points from firms dataframe for each centroid.\n",
      "2019-04-09 12:29:33,922 - climada.hazard.bush_fire - INFO - Computing maximum brightness for each (lat,lon) point.\n",
      "2019-04-09 12:29:33,986 - climada.hazard.bush_fire - DEBUG - BallTree\n",
      "2019-04-09 12:29:35,962 - climada.hazard.bush_fire - DEBUG - brightness np.array for the event\n",
      "2019-04-09 12:29:36,367 - climada.hazard.bush_fire - DEBUG - Sub-dataframe corresponding to event\n",
      "2019-04-09 12:29:36,389 - climada.hazard.bush_fire - INFO - Identifying closest (lat,lon) points from firms dataframe for each centroid.\n",
      "2019-04-09 12:29:36,411 - climada.hazard.bush_fire - INFO - Computing maximum brightness for each (lat,lon) point.\n",
      "2019-04-09 12:29:37,921 - climada.hazard.bush_fire - DEBUG - BallTree\n",
      "2019-04-09 12:37:01,506 - climada.hazard.bush_fire - DEBUG - brightness np.array for the event\n",
      "2019-04-09 12:37:01,793 - climada.hazard.bush_fire - DEBUG - Sub-dataframe corresponding to event\n",
      "2019-04-09 12:37:01,806 - climada.hazard.bush_fire - INFO - Identifying closest (lat,lon) points from firms dataframe for each centroid.\n",
      "2019-04-09 12:37:01,812 - climada.hazard.bush_fire - INFO - Computing maximum brightness for each (lat,lon) point.\n",
      "2019-04-09 12:37:01,817 - climada.hazard.bush_fire - DEBUG - BallTree\n",
      "2019-04-09 12:37:04,639 - climada.hazard.bush_fire - DEBUG - brightness np.array for the event\n",
      "2019-04-09 12:37:04,907 - climada.hazard.bush_fire - DEBUG - Sub-dataframe corresponding to event\n",
      "2019-04-09 12:37:04,919 - climada.hazard.bush_fire - INFO - Identifying closest (lat,lon) points from firms dataframe for each centroid.\n",
      "2019-04-09 12:37:04,931 - climada.hazard.bush_fire - INFO - Computing maximum brightness for each (lat,lon) point.\n",
      "2019-04-09 12:37:06,028 - climada.hazard.bush_fire - DEBUG - BallTree\n",
      "2019-04-09 12:37:14,992 - climada.hazard.bush_fire - DEBUG - brightness np.array for the event\n",
      "2019-04-09 12:37:15,429 - climada.hazard.bush_fire - DEBUG - Sub-dataframe corresponding to event\n",
      "2019-04-09 12:37:15,444 - climada.hazard.bush_fire - INFO - Identifying closest (lat,lon) points from firms dataframe for each centroid.\n",
      "2019-04-09 12:37:15,456 - climada.hazard.bush_fire - INFO - Computing maximum brightness for each (lat,lon) point.\n",
      "2019-04-09 12:37:15,463 - climada.hazard.bush_fire - DEBUG - BallTree\n"
     ]
    },
    {
     "name": "stdout",
     "output_type": "stream",
     "text": [
      "2019-04-09 12:37:18,148 - climada.hazard.bush_fire - DEBUG - brightness np.array for the event\n",
      "2019-04-09 12:37:18,552 - climada.hazard.bush_fire - DEBUG - Sub-dataframe corresponding to event\n",
      "2019-04-09 12:37:18,572 - climada.hazard.bush_fire - INFO - Identifying closest (lat,lon) points from firms dataframe for each centroid.\n",
      "2019-04-09 12:37:18,583 - climada.hazard.bush_fire - INFO - Computing maximum brightness for each (lat,lon) point.\n",
      "2019-04-09 12:37:18,592 - climada.hazard.bush_fire - DEBUG - BallTree\n",
      "2019-04-09 12:44:29,046 - climada.hazard.bush_fire - DEBUG - brightness np.array for the event\n",
      "2019-04-09 12:44:29,304 - climada.hazard.bush_fire - DEBUG - Sub-dataframe corresponding to event\n",
      "2019-04-09 12:44:29,315 - climada.hazard.bush_fire - INFO - Identifying closest (lat,lon) points from firms dataframe for each centroid.\n",
      "2019-04-09 12:44:29,322 - climada.hazard.bush_fire - INFO - Computing maximum brightness for each (lat,lon) point.\n",
      "2019-04-09 12:44:29,347 - climada.hazard.bush_fire - DEBUG - BallTree\n",
      "2019-04-09 12:44:33,070 - climada.hazard.bush_fire - DEBUG - brightness np.array for the event\n",
      "2019-04-09 12:44:33,347 - climada.hazard.bush_fire - DEBUG - Sub-dataframe corresponding to event\n",
      "2019-04-09 12:44:33,361 - climada.hazard.bush_fire - INFO - Identifying closest (lat,lon) points from firms dataframe for each centroid.\n",
      "2019-04-09 12:44:33,370 - climada.hazard.bush_fire - INFO - Computing maximum brightness for each (lat,lon) point.\n",
      "2019-04-09 12:44:33,421 - climada.hazard.bush_fire - DEBUG - BallTree\n",
      "2019-04-09 12:44:42,413 - climada.hazard.bush_fire - DEBUG - brightness np.array for the event\n",
      "2019-04-09 12:44:42,794 - climada.hazard.bush_fire - DEBUG - Sub-dataframe corresponding to event\n",
      "2019-04-09 12:44:42,814 - climada.hazard.bush_fire - INFO - Identifying closest (lat,lon) points from firms dataframe for each centroid.\n",
      "2019-04-09 12:44:42,824 - climada.hazard.bush_fire - INFO - Computing maximum brightness for each (lat,lon) point.\n",
      "2019-04-09 12:44:42,836 - climada.hazard.bush_fire - DEBUG - BallTree\n",
      "2019-04-09 12:44:44,665 - climada.hazard.bush_fire - DEBUG - brightness np.array for the event\n",
      "2019-04-09 12:44:44,942 - climada.hazard.bush_fire - DEBUG - Sub-dataframe corresponding to event\n",
      "2019-04-09 12:44:44,952 - climada.hazard.bush_fire - INFO - Identifying closest (lat,lon) points from firms dataframe for each centroid.\n",
      "2019-04-09 12:44:44,961 - climada.hazard.bush_fire - INFO - Computing maximum brightness for each (lat,lon) point.\n",
      "2019-04-09 12:44:44,996 - climada.hazard.bush_fire - DEBUG - BallTree\n",
      "2019-04-09 12:52:08,659 - climada.hazard.bush_fire - DEBUG - brightness np.array for the event\n",
      "2019-04-09 12:52:14,389 - climada.hazard.bush_fire - DEBUG - brightness np.array for the event\n",
      "2019-04-09 12:52:14,431 - climada.hazard.bush_fire - DEBUG - Sub-dataframe corresponding to event\n",
      "2019-04-09 12:52:14,497 - climada.hazard.bush_fire - INFO - Identifying closest (lat,lon) points from firms dataframe for each centroid.\n",
      "2019-04-09 12:52:14,511 - climada.hazard.bush_fire - INFO - Computing maximum brightness for each (lat,lon) point.\n",
      "2019-04-09 12:52:14,612 - climada.hazard.bush_fire - DEBUG - BallTree\n",
      "2019-04-09 12:52:25,669 - climada.hazard.bush_fire - DEBUG - Sub-dataframe corresponding to event\n",
      "2019-04-09 12:52:25,727 - climada.hazard.bush_fire - INFO - Identifying closest (lat,lon) points from firms dataframe for each centroid.\n",
      "2019-04-09 12:52:25,738 - climada.hazard.bush_fire - INFO - Computing maximum brightness for each (lat,lon) point.\n",
      "2019-04-09 12:52:25,746 - climada.hazard.bush_fire - DEBUG - BallTree\n",
      "2019-04-09 12:52:26,708 - climada.hazard.bush_fire - DEBUG - brightness np.array for the event\n",
      "2019-04-09 12:52:27,521 - climada.hazard.bush_fire - DEBUG - brightness np.array for the event\n",
      "2019-04-09 12:52:34,074 - climada.hazard.bush_fire - DEBUG - Sub-dataframe corresponding to event\n",
      "2019-04-09 12:52:34,122 - climada.hazard.bush_fire - INFO - Identifying closest (lat,lon) points from firms dataframe for each centroid.\n",
      "2019-04-09 12:52:34,134 - climada.hazard.bush_fire - INFO - Computing maximum brightness for each (lat,lon) point.\n",
      "2019-04-09 12:52:34,146 - climada.hazard.bush_fire - DEBUG - BallTree\n",
      "2019-04-09 12:52:42,310 - climada.hazard.bush_fire - DEBUG - Sub-dataframe corresponding to event\n",
      "2019-04-09 12:52:42,417 - climada.hazard.bush_fire - INFO - Identifying closest (lat,lon) points from firms dataframe for each centroid.\n",
      "2019-04-09 12:52:42,435 - climada.hazard.bush_fire - INFO - Computing maximum brightness for each (lat,lon) point.\n",
      "2019-04-09 12:52:42,452 - climada.hazard.bush_fire - DEBUG - BallTree\n",
      "2019-04-09 13:00:06,598 - climada.hazard.bush_fire - DEBUG - brightness np.array for the event\n",
      "2019-04-09 13:00:06,871 - climada.hazard.bush_fire - DEBUG - Sub-dataframe corresponding to event\n",
      "2019-04-09 13:00:06,902 - climada.hazard.bush_fire - INFO - Identifying closest (lat,lon) points from firms dataframe for each centroid.\n",
      "2019-04-09 13:00:06,913 - climada.hazard.bush_fire - INFO - Computing maximum brightness for each (lat,lon) point.\n",
      "2019-04-09 13:00:06,920 - climada.hazard.bush_fire - DEBUG - BallTree\n",
      "2019-04-09 13:00:15,446 - climada.hazard.bush_fire - DEBUG - brightness np.array for the event\n",
      "2019-04-09 13:00:15,714 - climada.hazard.bush_fire - DEBUG - Sub-dataframe corresponding to event\n",
      "2019-04-09 13:00:15,729 - climada.hazard.bush_fire - INFO - Identifying closest (lat,lon) points from firms dataframe for each centroid.\n",
      "2019-04-09 13:00:15,738 - climada.hazard.bush_fire - INFO - Computing maximum brightness for each (lat,lon) point.\n",
      "2019-04-09 13:00:15,939 - climada.hazard.bush_fire - DEBUG - BallTree\n",
      "2019-04-09 13:00:22,691 - climada.hazard.bush_fire - DEBUG - brightness np.array for the event\n",
      "2019-04-09 13:00:23,072 - climada.hazard.bush_fire - DEBUG - Sub-dataframe corresponding to event\n",
      "2019-04-09 13:00:23,090 - climada.hazard.bush_fire - INFO - Identifying closest (lat,lon) points from firms dataframe for each centroid.\n",
      "2019-04-09 13:00:23,102 - climada.hazard.bush_fire - INFO - Computing maximum brightness for each (lat,lon) point.\n",
      "2019-04-09 13:00:23,110 - climada.hazard.bush_fire - DEBUG - BallTree\n",
      "2019-04-09 13:00:30,905 - climada.hazard.bush_fire - DEBUG - brightness np.array for the event\n",
      "2019-04-09 13:00:31,308 - climada.hazard.bush_fire - DEBUG - Sub-dataframe corresponding to event\n",
      "2019-04-09 13:00:31,356 - climada.hazard.bush_fire - INFO - Identifying closest (lat,lon) points from firms dataframe for each centroid.\n",
      "2019-04-09 13:00:31,374 - climada.hazard.bush_fire - INFO - Computing maximum brightness for each (lat,lon) point.\n",
      "2019-04-09 13:00:31,663 - climada.hazard.bush_fire - DEBUG - BallTree\n",
      "2019-04-09 13:17:22,185 - climada.hazard.bush_fire - DEBUG - brightness np.array for the event\n",
      "2019-04-09 13:17:22,516 - climada.hazard.bush_fire - DEBUG - Sub-dataframe corresponding to event\n",
      "2019-04-09 13:17:22,595 - climada.hazard.bush_fire - INFO - Identifying closest (lat,lon) points from firms dataframe for each centroid.\n",
      "2019-04-09 13:17:22,622 - climada.hazard.bush_fire - INFO - Computing maximum brightness for each (lat,lon) point.\n",
      "2019-04-09 13:17:22,672 - climada.hazard.bush_fire - DEBUG - BallTree\n",
      "2019-04-09 13:17:29,787 - climada.hazard.bush_fire - DEBUG - brightness np.array for the event\n",
      "2019-04-09 13:17:30,123 - climada.hazard.bush_fire - DEBUG - Sub-dataframe corresponding to event\n",
      "2019-04-09 13:17:30,183 - climada.hazard.bush_fire - INFO - Identifying closest (lat,lon) points from firms dataframe for each centroid.\n",
      "2019-04-09 13:17:30,200 - climada.hazard.bush_fire - INFO - Computing maximum brightness for each (lat,lon) point.\n",
      "2019-04-09 13:17:30,210 - climada.hazard.bush_fire - DEBUG - BallTree\n",
      "2019-04-09 13:17:37,477 - climada.hazard.bush_fire - DEBUG - brightness np.array for the event\n",
      "2019-04-09 13:17:37,831 - climada.hazard.bush_fire - DEBUG - Sub-dataframe corresponding to event\n",
      "2019-04-09 13:17:37,885 - climada.hazard.bush_fire - INFO - Identifying closest (lat,lon) points from firms dataframe for each centroid.\n",
      "2019-04-09 13:17:37,907 - climada.hazard.bush_fire - INFO - Computing maximum brightness for each (lat,lon) point.\n",
      "2019-04-09 13:17:37,946 - climada.hazard.bush_fire - DEBUG - BallTree\n"
     ]
    },
    {
     "name": "stdout",
     "output_type": "stream",
     "text": [
      "2019-04-09 13:17:45,874 - climada.hazard.bush_fire - DEBUG - brightness np.array for the event\n",
      "2019-04-09 13:17:46,378 - climada.hazard.bush_fire - DEBUG - Sub-dataframe corresponding to event\n",
      "2019-04-09 13:17:46,537 - climada.hazard.bush_fire - INFO - Identifying closest (lat,lon) points from firms dataframe for each centroid.\n",
      "2019-04-09 13:17:46,556 - climada.hazard.bush_fire - INFO - Computing maximum brightness for each (lat,lon) point.\n",
      "2019-04-09 13:17:46,574 - climada.hazard.bush_fire - DEBUG - BallTree\n",
      "2019-04-09 13:26:51,683 - climada.hazard.bush_fire - DEBUG - brightness np.array for the event\n",
      "2019-04-09 13:26:52,051 - climada.hazard.bush_fire - DEBUG - Sub-dataframe corresponding to event\n",
      "2019-04-09 13:26:52,103 - climada.hazard.bush_fire - INFO - Identifying closest (lat,lon) points from firms dataframe for each centroid.\n",
      "2019-04-09 13:26:52,119 - climada.hazard.bush_fire - INFO - Computing maximum brightness for each (lat,lon) point.\n",
      "2019-04-09 13:26:52,163 - climada.hazard.bush_fire - DEBUG - BallTree\n",
      "2019-04-09 13:26:58,256 - climada.hazard.bush_fire - DEBUG - brightness np.array for the event\n",
      "2019-04-09 13:26:58,553 - climada.hazard.bush_fire - DEBUG - Sub-dataframe corresponding to event\n",
      "2019-04-09 13:26:58,587 - climada.hazard.bush_fire - INFO - Identifying closest (lat,lon) points from firms dataframe for each centroid.\n",
      "2019-04-09 13:26:58,614 - climada.hazard.bush_fire - INFO - Computing maximum brightness for each (lat,lon) point.\n",
      "2019-04-09 13:26:58,645 - climada.hazard.bush_fire - DEBUG - BallTree\n",
      "2019-04-09 13:27:05,999 - climada.hazard.bush_fire - DEBUG - brightness np.array for the event\n",
      "2019-04-09 13:27:06,369 - climada.hazard.bush_fire - DEBUG - Sub-dataframe corresponding to event\n",
      "2019-04-09 13:27:06,450 - climada.hazard.bush_fire - INFO - Identifying closest (lat,lon) points from firms dataframe for each centroid.\n",
      "2019-04-09 13:27:06,462 - climada.hazard.bush_fire - INFO - Computing maximum brightness for each (lat,lon) point.\n",
      "2019-04-09 13:27:06,483 - climada.hazard.bush_fire - DEBUG - BallTree\n",
      "2019-04-09 13:27:13,475 - climada.hazard.bush_fire - DEBUG - brightness np.array for the event\n",
      "2019-04-09 13:27:13,797 - climada.hazard.bush_fire - DEBUG - Sub-dataframe corresponding to event\n",
      "2019-04-09 13:27:13,873 - climada.hazard.bush_fire - INFO - Identifying closest (lat,lon) points from firms dataframe for each centroid.\n",
      "2019-04-09 13:27:13,886 - climada.hazard.bush_fire - INFO - Computing maximum brightness for each (lat,lon) point.\n",
      "2019-04-09 13:27:13,896 - climada.hazard.bush_fire - DEBUG - BallTree\n",
      "2019-04-09 13:35:59,412 - climada.hazard.bush_fire - DEBUG - brightness np.array for the event\n",
      "2019-04-09 13:35:59,759 - climada.hazard.bush_fire - DEBUG - Sub-dataframe corresponding to event\n",
      "2019-04-09 13:35:59,812 - climada.hazard.bush_fire - INFO - Identifying closest (lat,lon) points from firms dataframe for each centroid.\n",
      "2019-04-09 13:35:59,830 - climada.hazard.bush_fire - INFO - Computing maximum brightness for each (lat,lon) point.\n",
      "2019-04-09 13:35:59,840 - climada.hazard.bush_fire - DEBUG - BallTree\n",
      "2019-04-09 13:36:05,783 - climada.hazard.bush_fire - DEBUG - brightness np.array for the event\n",
      "2019-04-09 13:36:06,111 - climada.hazard.bush_fire - DEBUG - Sub-dataframe corresponding to event\n",
      "2019-04-09 13:36:06,162 - climada.hazard.bush_fire - INFO - Identifying closest (lat,lon) points from firms dataframe for each centroid.\n",
      "2019-04-09 13:36:06,185 - climada.hazard.bush_fire - INFO - Computing maximum brightness for each (lat,lon) point.\n",
      "2019-04-09 13:36:06,203 - climada.hazard.bush_fire - DEBUG - BallTree\n",
      "2019-04-09 13:36:16,660 - climada.hazard.bush_fire - DEBUG - brightness np.array for the event\n",
      "2019-04-09 13:36:17,016 - climada.hazard.bush_fire - DEBUG - Sub-dataframe corresponding to event\n",
      "2019-04-09 13:36:17,072 - climada.hazard.bush_fire - INFO - Identifying closest (lat,lon) points from firms dataframe for each centroid.\n",
      "2019-04-09 13:36:17,095 - climada.hazard.bush_fire - INFO - Computing maximum brightness for each (lat,lon) point.\n",
      "2019-04-09 13:36:17,116 - climada.hazard.bush_fire - DEBUG - BallTree\n",
      "2019-04-09 13:36:27,714 - climada.hazard.bush_fire - DEBUG - brightness np.array for the event\n",
      "2019-04-09 13:36:28,056 - climada.hazard.bush_fire - DEBUG - Sub-dataframe corresponding to event\n",
      "2019-04-09 13:36:28,107 - climada.hazard.bush_fire - INFO - Identifying closest (lat,lon) points from firms dataframe for each centroid.\n",
      "2019-04-09 13:36:28,129 - climada.hazard.bush_fire - INFO - Computing maximum brightness for each (lat,lon) point.\n",
      "2019-04-09 13:36:28,157 - climada.hazard.bush_fire - DEBUG - BallTree\n",
      "2019-04-09 13:44:14,771 - climada.hazard.bush_fire - DEBUG - brightness np.array for the event\n",
      "2019-04-09 13:44:15,071 - climada.hazard.bush_fire - DEBUG - Sub-dataframe corresponding to event\n",
      "2019-04-09 13:44:15,113 - climada.hazard.bush_fire - INFO - Identifying closest (lat,lon) points from firms dataframe for each centroid.\n",
      "2019-04-09 13:44:15,129 - climada.hazard.bush_fire - INFO - Computing maximum brightness for each (lat,lon) point.\n",
      "2019-04-09 13:44:15,143 - climada.hazard.bush_fire - DEBUG - BallTree\n",
      "2019-04-09 13:44:19,004 - climada.hazard.bush_fire - DEBUG - brightness np.array for the event\n",
      "2019-04-09 13:44:19,309 - climada.hazard.bush_fire - DEBUG - Sub-dataframe corresponding to event\n",
      "2019-04-09 13:44:19,349 - climada.hazard.bush_fire - INFO - Identifying closest (lat,lon) points from firms dataframe for each centroid.\n",
      "2019-04-09 13:44:19,364 - climada.hazard.bush_fire - INFO - Computing maximum brightness for each (lat,lon) point.\n",
      "2019-04-09 13:44:19,392 - climada.hazard.bush_fire - DEBUG - BallTree\n",
      "2019-04-09 13:44:26,429 - climada.hazard.bush_fire - DEBUG - brightness np.array for the event\n",
      "2019-04-09 13:44:26,742 - climada.hazard.bush_fire - DEBUG - Sub-dataframe corresponding to event\n",
      "2019-04-09 13:44:26,794 - climada.hazard.bush_fire - INFO - Identifying closest (lat,lon) points from firms dataframe for each centroid.\n",
      "2019-04-09 13:44:26,814 - climada.hazard.bush_fire - INFO - Computing maximum brightness for each (lat,lon) point.\n",
      "2019-04-09 13:44:26,832 - climada.hazard.bush_fire - DEBUG - BallTree\n",
      "2019-04-09 13:44:36,139 - climada.hazard.bush_fire - DEBUG - brightness np.array for the event\n",
      "2019-04-09 13:44:36,506 - climada.hazard.bush_fire - DEBUG - Sub-dataframe corresponding to event\n",
      "2019-04-09 13:44:36,570 - climada.hazard.bush_fire - INFO - Identifying closest (lat,lon) points from firms dataframe for each centroid.\n",
      "2019-04-09 13:44:36,584 - climada.hazard.bush_fire - INFO - Computing maximum brightness for each (lat,lon) point.\n",
      "2019-04-09 13:44:36,604 - climada.hazard.bush_fire - DEBUG - BallTree\n",
      "2019-04-09 15:35:56,881 - climada.hazard.bush_fire - DEBUG - brightness np.array for the event\n",
      "2019-04-09 15:35:57,410 - climada.hazard.bush_fire - DEBUG - Sub-dataframe corresponding to event\n",
      "2019-04-09 15:35:57,495 - climada.hazard.bush_fire - INFO - Identifying closest (lat,lon) points from firms dataframe for each centroid.\n",
      "2019-04-09 15:35:57,509 - climada.hazard.bush_fire - INFO - Computing maximum brightness for each (lat,lon) point.\n",
      "2019-04-09 15:35:57,925 - climada.hazard.bush_fire - DEBUG - BallTree\n",
      "2019-04-09 15:36:06,228 - climada.hazard.bush_fire - DEBUG - brightness np.array for the event\n",
      "2019-04-09 15:36:06,688 - climada.hazard.bush_fire - DEBUG - Sub-dataframe corresponding to event\n",
      "2019-04-09 15:36:06,741 - climada.hazard.bush_fire - INFO - Identifying closest (lat,lon) points from firms dataframe for each centroid.\n",
      "2019-04-09 15:36:06,761 - climada.hazard.bush_fire - INFO - Computing maximum brightness for each (lat,lon) point.\n",
      "2019-04-09 15:36:06,778 - climada.hazard.bush_fire - DEBUG - BallTree\n",
      "2019-04-09 15:36:18,240 - climada.hazard.bush_fire - DEBUG - brightness np.array for the event\n",
      "2019-04-09 15:36:18,680 - climada.hazard.bush_fire - DEBUG - Sub-dataframe corresponding to event\n",
      "2019-04-09 15:36:18,735 - climada.hazard.bush_fire - INFO - Identifying closest (lat,lon) points from firms dataframe for each centroid.\n",
      "2019-04-09 15:36:18,749 - climada.hazard.bush_fire - INFO - Computing maximum brightness for each (lat,lon) point.\n",
      "2019-04-09 15:36:18,793 - climada.hazard.bush_fire - DEBUG - BallTree\n"
     ]
    },
    {
     "name": "stdout",
     "output_type": "stream",
     "text": [
      "2019-04-09 15:36:32,019 - climada.hazard.bush_fire - DEBUG - brightness np.array for the event\n",
      "2019-04-09 15:36:32,481 - climada.hazard.bush_fire - DEBUG - Sub-dataframe corresponding to event\n",
      "2019-04-09 15:36:32,528 - climada.hazard.bush_fire - INFO - Identifying closest (lat,lon) points from firms dataframe for each centroid.\n",
      "2019-04-09 15:36:32,551 - climada.hazard.bush_fire - INFO - Computing maximum brightness for each (lat,lon) point.\n",
      "2019-04-09 15:36:32,569 - climada.hazard.bush_fire - DEBUG - BallTree\n",
      "2019-04-09 15:47:16,445 - climada.hazard.bush_fire - DEBUG - brightness np.array for the event\n",
      "2019-04-09 15:47:16,788 - climada.hazard.bush_fire - DEBUG - Sub-dataframe corresponding to event\n",
      "2019-04-09 15:47:16,831 - climada.hazard.bush_fire - INFO - Identifying closest (lat,lon) points from firms dataframe for each centroid.\n",
      "2019-04-09 15:47:16,848 - climada.hazard.bush_fire - INFO - Computing maximum brightness for each (lat,lon) point.\n",
      "2019-04-09 15:47:16,866 - climada.hazard.bush_fire - DEBUG - BallTree\n",
      "2019-04-09 15:47:23,453 - climada.hazard.bush_fire - DEBUG - brightness np.array for the event\n",
      "2019-04-09 15:47:23,743 - climada.hazard.bush_fire - DEBUG - Sub-dataframe corresponding to event\n",
      "2019-04-09 15:47:23,786 - climada.hazard.bush_fire - INFO - Identifying closest (lat,lon) points from firms dataframe for each centroid.\n",
      "2019-04-09 15:47:23,807 - climada.hazard.bush_fire - INFO - Computing maximum brightness for each (lat,lon) point.\n",
      "2019-04-09 15:47:23,838 - climada.hazard.bush_fire - DEBUG - BallTree\n",
      "2019-04-09 15:47:36,089 - climada.hazard.bush_fire - DEBUG - brightness np.array for the event\n",
      "2019-04-09 15:47:36,470 - climada.hazard.bush_fire - DEBUG - Sub-dataframe corresponding to event\n",
      "2019-04-09 15:47:36,517 - climada.hazard.bush_fire - INFO - Identifying closest (lat,lon) points from firms dataframe for each centroid.\n",
      "2019-04-09 15:47:36,540 - climada.hazard.bush_fire - INFO - Computing maximum brightness for each (lat,lon) point.\n",
      "2019-04-09 15:47:36,558 - climada.hazard.bush_fire - DEBUG - BallTree\n",
      "2019-04-09 15:47:49,094 - climada.hazard.bush_fire - DEBUG - brightness np.array for the event\n",
      "2019-04-09 15:47:49,866 - climada.hazard.bush_fire - DEBUG - Sub-dataframe corresponding to event\n",
      "2019-04-09 15:47:50,175 - climada.hazard.bush_fire - INFO - Identifying closest (lat,lon) points from firms dataframe for each centroid.\n",
      "2019-04-09 15:47:50,296 - climada.hazard.bush_fire - INFO - Computing maximum brightness for each (lat,lon) point.\n",
      "2019-04-09 15:47:50,394 - climada.hazard.bush_fire - DEBUG - BallTree\n",
      "2019-04-09 15:55:41,458 - climada.hazard.bush_fire - DEBUG - brightness np.array for the event\n",
      "2019-04-09 15:55:41,865 - climada.hazard.bush_fire - DEBUG - Sub-dataframe corresponding to event\n",
      "2019-04-09 15:55:41,923 - climada.hazard.bush_fire - INFO - Identifying closest (lat,lon) points from firms dataframe for each centroid.\n",
      "2019-04-09 15:55:41,957 - climada.hazard.bush_fire - INFO - Computing maximum brightness for each (lat,lon) point.\n",
      "2019-04-09 15:55:41,979 - climada.hazard.bush_fire - DEBUG - BallTree\n",
      "2019-04-09 15:55:47,740 - climada.hazard.bush_fire - DEBUG - brightness np.array for the event\n",
      "2019-04-09 15:55:48,273 - climada.hazard.bush_fire - DEBUG - Sub-dataframe corresponding to event\n",
      "2019-04-09 15:55:48,360 - climada.hazard.bush_fire - INFO - Identifying closest (lat,lon) points from firms dataframe for each centroid.\n",
      "2019-04-09 15:55:48,391 - climada.hazard.bush_fire - INFO - Computing maximum brightness for each (lat,lon) point.\n",
      "2019-04-09 15:55:48,426 - climada.hazard.bush_fire - DEBUG - BallTree\n",
      "2019-04-09 15:55:58,740 - climada.hazard.bush_fire - DEBUG - brightness np.array for the event\n",
      "2019-04-09 15:55:59,093 - climada.hazard.bush_fire - DEBUG - Sub-dataframe corresponding to event\n",
      "2019-04-09 15:55:59,148 - climada.hazard.bush_fire - INFO - Identifying closest (lat,lon) points from firms dataframe for each centroid.\n",
      "2019-04-09 15:55:59,168 - climada.hazard.bush_fire - INFO - Computing maximum brightness for each (lat,lon) point.\n",
      "2019-04-09 15:55:59,210 - climada.hazard.bush_fire - DEBUG - BallTree\n",
      "2019-04-09 15:56:09,864 - climada.hazard.bush_fire - DEBUG - brightness np.array for the event\n",
      "2019-04-09 15:56:10,239 - climada.hazard.bush_fire - DEBUG - Sub-dataframe corresponding to event\n",
      "2019-04-09 15:56:10,284 - climada.hazard.bush_fire - INFO - Identifying closest (lat,lon) points from firms dataframe for each centroid.\n",
      "2019-04-09 15:56:10,318 - climada.hazard.bush_fire - INFO - Computing maximum brightness for each (lat,lon) point.\n",
      "2019-04-09 15:56:10,329 - climada.hazard.bush_fire - DEBUG - BallTree\n",
      "2019-04-09 16:05:49,556 - climada.hazard.bush_fire - DEBUG - brightness np.array for the event\n",
      "2019-04-09 16:05:54,883 - climada.hazard.bush_fire - DEBUG - brightness np.array for the event\n",
      "2019-04-09 16:05:57,247 - climada.hazard.bush_fire - DEBUG - Sub-dataframe corresponding to event\n",
      "2019-04-09 16:05:57,286 - climada.hazard.bush_fire - INFO - Identifying closest (lat,lon) points from firms dataframe for each centroid.\n",
      "2019-04-09 16:05:57,296 - climada.hazard.bush_fire - INFO - Computing maximum brightness for each (lat,lon) point.\n",
      "2019-04-09 16:05:57,344 - climada.hazard.bush_fire - DEBUG - BallTree\n",
      "2019-04-09 16:06:04,723 - climada.hazard.bush_fire - DEBUG - brightness np.array for the event\n",
      "2019-04-09 16:06:08,059 - climada.hazard.bush_fire - DEBUG - Sub-dataframe corresponding to event\n",
      "2019-04-09 16:06:08,100 - climada.hazard.bush_fire - INFO - Identifying closest (lat,lon) points from firms dataframe for each centroid.\n",
      "2019-04-09 16:06:08,122 - climada.hazard.bush_fire - INFO - Computing maximum brightness for each (lat,lon) point.\n",
      "2019-04-09 16:06:08,134 - climada.hazard.bush_fire - DEBUG - BallTree\n",
      "2019-04-09 16:06:14,294 - climada.hazard.bush_fire - DEBUG - Sub-dataframe corresponding to event\n",
      "2019-04-09 16:06:14,401 - climada.hazard.bush_fire - INFO - Identifying closest (lat,lon) points from firms dataframe for each centroid.\n",
      "2019-04-09 16:06:14,429 - climada.hazard.bush_fire - INFO - Computing maximum brightness for each (lat,lon) point.\n",
      "2019-04-09 16:06:14,543 - climada.hazard.bush_fire - DEBUG - BallTree\n",
      "2019-04-09 16:06:14,779 - climada.hazard.bush_fire - DEBUG - brightness np.array for the event\n",
      "2019-04-09 16:06:15,698 - climada.hazard.bush_fire - DEBUG - Sub-dataframe corresponding to event\n",
      "2019-04-09 16:06:15,735 - climada.hazard.bush_fire - INFO - Identifying closest (lat,lon) points from firms dataframe for each centroid.\n",
      "2019-04-09 16:06:15,797 - climada.hazard.bush_fire - INFO - Computing maximum brightness for each (lat,lon) point.\n",
      "2019-04-09 16:06:18,849 - climada.hazard.bush_fire - DEBUG - BallTree\n",
      "2019-04-09 16:06:21,488 - climada.hazard.bush_fire - DEBUG - brightness np.array for the event\n",
      "2019-04-09 16:06:21,867 - climada.hazard.bush_fire - DEBUG - Sub-dataframe corresponding to event\n",
      "2019-04-09 16:06:21,900 - climada.hazard.bush_fire - INFO - Identifying closest (lat,lon) points from firms dataframe for each centroid.\n",
      "2019-04-09 16:06:21,931 - climada.hazard.bush_fire - INFO - Computing maximum brightness for each (lat,lon) point.\n",
      "2019-04-09 16:06:21,951 - climada.hazard.bush_fire - DEBUG - BallTree\n",
      "2019-04-09 16:06:24,245 - climada.hazard.bush_fire - DEBUG - brightness np.array for the event\n",
      "2019-04-09 16:06:24,372 - climada.hazard.bush_fire - DEBUG - Sub-dataframe corresponding to event\n",
      "2019-04-09 16:06:24,386 - climada.hazard.bush_fire - INFO - Identifying closest (lat,lon) points from firms dataframe for each centroid.\n",
      "2019-04-09 16:06:24,458 - climada.hazard.bush_fire - INFO - Computing maximum brightness for each (lat,lon) point.\n",
      "2019-04-09 16:06:40,209 - climada.hazard.bush_fire - DEBUG - BallTree\n",
      "2019-04-09 16:06:43,564 - climada.hazard.bush_fire - DEBUG - brightness np.array for the event\n",
      "2019-04-09 16:06:44,557 - climada.hazard.bush_fire - DEBUG - Sub-dataframe corresponding to event\n",
      "2019-04-09 16:06:44,574 - climada.hazard.bush_fire - INFO - Identifying closest (lat,lon) points from firms dataframe for each centroid.\n",
      "2019-04-09 16:06:44,608 - climada.hazard.bush_fire - INFO - Computing maximum brightness for each (lat,lon) point.\n",
      "2019-04-09 16:06:44,616 - climada.hazard.bush_fire - DEBUG - BallTree\n"
     ]
    },
    {
     "name": "stdout",
     "output_type": "stream",
     "text": [
      "2019-04-09 16:06:47,052 - climada.hazard.bush_fire - DEBUG - brightness np.array for the event\n",
      "2019-04-09 16:06:47,201 - climada.hazard.bush_fire - DEBUG - Sub-dataframe corresponding to event\n",
      "2019-04-09 16:06:47,219 - climada.hazard.bush_fire - INFO - Identifying closest (lat,lon) points from firms dataframe for each centroid.\n",
      "2019-04-09 16:06:47,236 - climada.hazard.bush_fire - INFO - Computing maximum brightness for each (lat,lon) point.\n",
      "2019-04-09 16:06:47,267 - climada.hazard.bush_fire - DEBUG - BallTree\n",
      "2019-04-09 16:06:49,447 - climada.hazard.bush_fire - DEBUG - brightness np.array for the event\n",
      "area_one_event: 3 447.76836716084733\n",
      "event: 3 area_hist_event: 447.76836716084733\n",
      "2019-04-09 16:06:49,758 - climada.hazard.bush_fire - DEBUG - Start ignition.\n",
      "2019-04-09 16:06:50,051 - climada.hazard.bush_fire - DEBUG - Initialize the burned grid.\n",
      "2019-04-09 16:06:50,055 - climada.hazard.bush_fire - DEBUG - Propagate fire.\n",
      "2019-04-09 16:07:46,580 - climada.hazard.bush_fire - DEBUG - Brightness probabilistic event.\n",
      "area_one_event: 3 447.76836716084733\n",
      "event: 3 area_hist_event: 447.76836716084733\n",
      "2019-04-09 16:07:49,660 - climada.hazard.bush_fire - DEBUG - Start ignition.\n",
      "2019-04-09 16:07:49,672 - climada.hazard.bush_fire - DEBUG - Initialize the burned grid.\n",
      "2019-04-09 16:07:49,676 - climada.hazard.bush_fire - DEBUG - Propagate fire.\n",
      "2019-04-09 16:08:52,444 - climada.hazard.bush_fire - DEBUG - Brightness probabilistic event.\n",
      "area_one_event: 3 447.76836716084733\n",
      "event: 3 area_hist_event: 447.76836716084733\n",
      "2019-04-09 16:08:55,478 - climada.hazard.bush_fire - DEBUG - Start ignition.\n",
      "2019-04-09 16:08:55,485 - climada.hazard.bush_fire - DEBUG - Initialize the burned grid.\n",
      "2019-04-09 16:08:55,488 - climada.hazard.bush_fire - DEBUG - Propagate fire.\n",
      "2019-04-09 16:09:49,897 - climada.hazard.bush_fire - DEBUG - Brightness probabilistic event.\n",
      "2019-04-09 16:09:52,420 - climada.hazard.base - ERROR - No event with name: 3_gen0\n"
     ]
    },
    {
     "ename": "ValueError",
     "evalue": "",
     "output_type": "error",
     "traceback": [
      "\u001b[0;31m---------------------------------------------------------------------------\u001b[0m",
      "\u001b[0;31mValueError\u001b[0m                                Traceback (most recent call last)",
      "\u001b[0;32m<ipython-input-16-95d0b62e967b>\u001b[0m in \u001b[0;36m<module>\u001b[0;34m()\u001b[0m\n\u001b[1;32m     14\u001b[0m \u001b[0mbf_haz\u001b[0m \u001b[0;34m=\u001b[0m \u001b[0mbf\u001b[0m\u001b[0;34m.\u001b[0m\u001b[0mset_proba_one_event\u001b[0m\u001b[0;34m(\u001b[0m\u001b[0mev_id\u001b[0m \u001b[0;34m=\u001b[0m \u001b[0;36m3\u001b[0m\u001b[0;34m,\u001b[0m \u001b[0mens_size\u001b[0m \u001b[0;34m=\u001b[0m \u001b[0;36m3\u001b[0m\u001b[0;34m)\u001b[0m\u001b[0;34m\u001b[0m\u001b[0m\n\u001b[1;32m     15\u001b[0m \u001b[0;34m\u001b[0m\u001b[0m\n\u001b[0;32m---> 16\u001b[0;31m \u001b[0mbf\u001b[0m\u001b[0;34m.\u001b[0m\u001b[0mplot_intensity\u001b[0m\u001b[0;34m(\u001b[0m\u001b[0;34m'3_gen0'\u001b[0m\u001b[0;34m)\u001b[0m\u001b[0;34m\u001b[0m\u001b[0m\n\u001b[0m",
      "\u001b[0;32m~/Documents/ETH/Python/climada_python/climada/hazard/base.py\u001b[0m in \u001b[0;36mplot_intensity\u001b[0;34m(self, event, centr, **kwargs)\u001b[0m\n\u001b[1;32m    337\u001b[0m \u001b[0;34m\u001b[0m\u001b[0m\n\u001b[1;32m    338\u001b[0m         \u001b[0;32mreturn\u001b[0m \u001b[0minten_stats\u001b[0m\u001b[0;34m\u001b[0m\u001b[0m\n\u001b[0;32m--> 339\u001b[0;31m \u001b[0;34m\u001b[0m\u001b[0m\n\u001b[0m\u001b[1;32m    340\u001b[0m     \u001b[0;32mdef\u001b[0m \u001b[0mplot_rp_intensity\u001b[0m\u001b[0;34m(\u001b[0m\u001b[0mself\u001b[0m\u001b[0;34m,\u001b[0m \u001b[0mreturn_periods\u001b[0m\u001b[0;34m=\u001b[0m\u001b[0;34m(\u001b[0m\u001b[0;36m25\u001b[0m\u001b[0;34m,\u001b[0m \u001b[0;36m50\u001b[0m\u001b[0;34m,\u001b[0m \u001b[0;36m100\u001b[0m\u001b[0;34m,\u001b[0m \u001b[0;36m250\u001b[0m\u001b[0;34m)\u001b[0m\u001b[0;34m,\u001b[0m \u001b[0;34m**\u001b[0m\u001b[0mkwargs\u001b[0m\u001b[0;34m)\u001b[0m\u001b[0;34m:\u001b[0m\u001b[0;34m\u001b[0m\u001b[0m\n\u001b[1;32m    341\u001b[0m         \"\"\"Compute and plot hazard exceedance intensity maps for different\n",
      "\u001b[0;32m~/Documents/ETH/Python/climada_python/climada/hazard/base.py\u001b[0m in \u001b[0;36mget_event_id\u001b[0;34m(self, event_name)\u001b[0m\n\u001b[1;32m    397\u001b[0m \u001b[0;34m\u001b[0m\u001b[0m\n\u001b[1;32m    398\u001b[0m     \u001b[0;32mdef\u001b[0m \u001b[0mplot_fraction\u001b[0m\u001b[0;34m(\u001b[0m\u001b[0mself\u001b[0m\u001b[0;34m,\u001b[0m \u001b[0mevent\u001b[0m\u001b[0;34m=\u001b[0m\u001b[0;32mNone\u001b[0m\u001b[0;34m,\u001b[0m \u001b[0mcentr\u001b[0m\u001b[0;34m=\u001b[0m\u001b[0;32mNone\u001b[0m\u001b[0;34m,\u001b[0m \u001b[0;34m**\u001b[0m\u001b[0mkwargs\u001b[0m\u001b[0;34m)\u001b[0m\u001b[0;34m:\u001b[0m\u001b[0;34m\u001b[0m\u001b[0m\n\u001b[0;32m--> 399\u001b[0;31m         \"\"\"Plot fraction values for a selected event or centroid.\n\u001b[0m\u001b[1;32m    400\u001b[0m \u001b[0;34m\u001b[0m\u001b[0m\n\u001b[1;32m    401\u001b[0m         \u001b[0mParameters\u001b[0m\u001b[0;34m:\u001b[0m\u001b[0;34m\u001b[0m\u001b[0m\n",
      "\u001b[0;31mValueError\u001b[0m: "
     ]
    },
    {
     "name": "stdout",
     "output_type": "stream",
     "text": [
      "2019-04-09 16:13:53,888 - climada.hazard.bush_fire - DEBUG - brightness np.array for the event\n",
      "2019-04-09 16:13:54,111 - climada.hazard.bush_fire - DEBUG - Sub-dataframe corresponding to event\n",
      "2019-04-09 16:13:54,123 - climada.hazard.bush_fire - INFO - Identifying closest (lat,lon) points from firms dataframe for each centroid.\n",
      "2019-04-09 16:13:54,134 - climada.hazard.bush_fire - INFO - Computing maximum brightness for each (lat,lon) point.\n",
      "2019-04-09 16:13:54,140 - climada.hazard.bush_fire - DEBUG - BallTree\n",
      "2019-04-09 16:13:58,502 - climada.hazard.bush_fire - DEBUG - brightness np.array for the event\n",
      "2019-04-09 16:13:58,733 - climada.hazard.bush_fire - DEBUG - Sub-dataframe corresponding to event\n",
      "2019-04-09 16:13:58,752 - climada.hazard.bush_fire - INFO - Identifying closest (lat,lon) points from firms dataframe for each centroid.\n",
      "2019-04-09 16:13:58,761 - climada.hazard.bush_fire - INFO - Computing maximum brightness for each (lat,lon) point.\n",
      "2019-04-09 16:13:58,769 - climada.hazard.bush_fire - DEBUG - BallTree\n",
      "2019-04-09 16:14:04,661 - climada.hazard.bush_fire - DEBUG - brightness np.array for the event\n",
      "2019-04-09 16:14:05,000 - climada.hazard.bush_fire - DEBUG - Sub-dataframe corresponding to event\n",
      "2019-04-09 16:14:05,017 - climada.hazard.bush_fire - INFO - Identifying closest (lat,lon) points from firms dataframe for each centroid.\n",
      "2019-04-09 16:14:05,027 - climada.hazard.bush_fire - INFO - Computing maximum brightness for each (lat,lon) point.\n",
      "2019-04-09 16:14:05,072 - climada.hazard.bush_fire - DEBUG - BallTree\n",
      "2019-04-09 16:20:39,215 - climada.hazard.bush_fire - DEBUG - brightness np.array for the event\n",
      "2019-04-09 16:20:39,430 - climada.hazard.bush_fire - DEBUG - Sub-dataframe corresponding to event\n",
      "2019-04-09 16:20:39,440 - climada.hazard.bush_fire - INFO - Identifying closest (lat,lon) points from firms dataframe for each centroid.\n",
      "2019-04-09 16:20:39,449 - climada.hazard.bush_fire - INFO - Computing maximum brightness for each (lat,lon) point.\n",
      "2019-04-09 16:20:39,459 - climada.hazard.bush_fire - DEBUG - BallTree\n",
      "2019-04-09 16:20:42,591 - climada.hazard.bush_fire - DEBUG - brightness np.array for the event\n",
      "2019-04-09 16:20:42,805 - climada.hazard.bush_fire - DEBUG - Sub-dataframe corresponding to event\n",
      "2019-04-09 16:20:42,815 - climada.hazard.bush_fire - INFO - Identifying closest (lat,lon) points from firms dataframe for each centroid.\n",
      "2019-04-09 16:20:42,822 - climada.hazard.bush_fire - INFO - Computing maximum brightness for each (lat,lon) point.\n",
      "2019-04-09 16:20:42,830 - climada.hazard.bush_fire - DEBUG - BallTree\n",
      "2019-04-09 16:20:48,840 - climada.hazard.bush_fire - DEBUG - brightness np.array for the event\n",
      "2019-04-09 16:20:49,119 - climada.hazard.bush_fire - DEBUG - Sub-dataframe corresponding to event\n",
      "2019-04-09 16:20:49,137 - climada.hazard.bush_fire - INFO - Identifying closest (lat,lon) points from firms dataframe for each centroid.\n",
      "2019-04-09 16:20:49,149 - climada.hazard.bush_fire - INFO - Computing maximum brightness for each (lat,lon) point.\n",
      "2019-04-09 16:20:49,158 - climada.hazard.bush_fire - DEBUG - BallTree\n",
      "2019-04-09 16:29:12,958 - climada.hazard.bush_fire - DEBUG - brightness np.array for the event\n",
      "2019-04-09 16:29:13,195 - climada.hazard.bush_fire - DEBUG - Sub-dataframe corresponding to event\n",
      "2019-04-09 16:29:13,209 - climada.hazard.bush_fire - INFO - Identifying closest (lat,lon) points from firms dataframe for each centroid.\n",
      "2019-04-09 16:29:13,229 - climada.hazard.bush_fire - INFO - Computing maximum brightness for each (lat,lon) point.\n",
      "2019-04-09 16:29:13,263 - climada.hazard.bush_fire - DEBUG - BallTree\n",
      "2019-04-09 16:29:17,432 - climada.hazard.bush_fire - DEBUG - brightness np.array for the event\n",
      "2019-04-09 16:29:17,700 - climada.hazard.bush_fire - DEBUG - Sub-dataframe corresponding to event\n",
      "2019-04-09 16:29:17,737 - climada.hazard.bush_fire - INFO - Identifying closest (lat,lon) points from firms dataframe for each centroid.\n",
      "2019-04-09 16:29:17,760 - climada.hazard.bush_fire - INFO - Computing maximum brightness for each (lat,lon) point.\n",
      "2019-04-09 16:29:17,772 - climada.hazard.bush_fire - DEBUG - BallTree\n",
      "2019-04-09 16:29:26,068 - climada.hazard.bush_fire - DEBUG - brightness np.array for the event\n",
      "2019-04-09 16:29:26,352 - climada.hazard.bush_fire - DEBUG - Sub-dataframe corresponding to event\n",
      "2019-04-09 16:29:26,392 - climada.hazard.bush_fire - INFO - Identifying closest (lat,lon) points from firms dataframe for each centroid.\n",
      "2019-04-09 16:29:26,418 - climada.hazard.bush_fire - INFO - Computing maximum brightness for each (lat,lon) point.\n",
      "2019-04-09 16:29:26,429 - climada.hazard.bush_fire - DEBUG - BallTree\n",
      "2019-04-09 16:35:31,575 - climada.hazard.bush_fire - DEBUG - brightness np.array for the event\n",
      "2019-04-09 16:35:31,789 - climada.hazard.bush_fire - DEBUG - Sub-dataframe corresponding to event\n",
      "2019-04-09 16:35:31,797 - climada.hazard.bush_fire - INFO - Identifying closest (lat,lon) points from firms dataframe for each centroid.\n",
      "2019-04-09 16:35:31,804 - climada.hazard.bush_fire - INFO - Computing maximum brightness for each (lat,lon) point.\n",
      "2019-04-09 16:35:31,813 - climada.hazard.bush_fire - DEBUG - BallTree\n",
      "2019-04-09 16:35:35,860 - climada.hazard.bush_fire - DEBUG - brightness np.array for the event\n",
      "2019-04-09 16:35:36,099 - climada.hazard.bush_fire - DEBUG - Sub-dataframe corresponding to event\n",
      "2019-04-09 16:35:36,112 - climada.hazard.bush_fire - INFO - Identifying closest (lat,lon) points from firms dataframe for each centroid.\n",
      "2019-04-09 16:35:36,121 - climada.hazard.bush_fire - INFO - Computing maximum brightness for each (lat,lon) point.\n",
      "2019-04-09 16:35:36,148 - climada.hazard.bush_fire - DEBUG - BallTree\n",
      "2019-04-09 16:35:43,962 - climada.hazard.bush_fire - DEBUG - brightness np.array for the event\n",
      "2019-04-09 16:39:35,410 - climada.hazard.bush_fire - DEBUG - brightness np.array for the event\n",
      "2019-04-09 16:39:35,594 - climada.hazard.bush_fire - DEBUG - Sub-dataframe corresponding to event\n",
      "2019-04-09 16:39:35,604 - climada.hazard.bush_fire - INFO - Identifying closest (lat,lon) points from firms dataframe for each centroid.\n",
      "2019-04-09 16:39:35,655 - climada.hazard.bush_fire - INFO - Computing maximum brightness for each (lat,lon) point.\n",
      "2019-04-09 16:39:35,689 - climada.hazard.bush_fire - DEBUG - BallTree\n",
      "2019-04-09 16:39:39,029 - climada.hazard.bush_fire - DEBUG - brightness np.array for the event\n",
      "2019-04-09 16:39:39,234 - climada.hazard.bush_fire - DEBUG - Sub-dataframe corresponding to event\n",
      "2019-04-09 16:39:39,244 - climada.hazard.bush_fire - INFO - Identifying closest (lat,lon) points from firms dataframe for each centroid.\n",
      "2019-04-09 16:39:39,257 - climada.hazard.bush_fire - INFO - Computing maximum brightness for each (lat,lon) point.\n",
      "2019-04-09 16:39:40,714 - climada.hazard.bush_fire - DEBUG - BallTree\n",
      "2019-04-09 16:43:46,582 - climada.hazard.bush_fire - DEBUG - brightness np.array for the event\n",
      "2019-04-09 16:43:46,772 - climada.hazard.bush_fire - DEBUG - Sub-dataframe corresponding to event\n",
      "2019-04-09 16:43:46,781 - climada.hazard.bush_fire - INFO - Identifying closest (lat,lon) points from firms dataframe for each centroid.\n",
      "2019-04-09 16:43:46,788 - climada.hazard.bush_fire - INFO - Computing maximum brightness for each (lat,lon) point.\n",
      "2019-04-09 16:43:46,852 - climada.hazard.bush_fire - DEBUG - BallTree\n",
      "2019-04-09 16:43:51,328 - climada.hazard.bush_fire - DEBUG - brightness np.array for the event\n",
      "2019-04-09 16:43:51,552 - climada.hazard.bush_fire - DEBUG - Sub-dataframe corresponding to event\n",
      "2019-04-09 16:43:51,614 - climada.hazard.bush_fire - INFO - Identifying closest (lat,lon) points from firms dataframe for each centroid.\n",
      "2019-04-09 16:43:51,623 - climada.hazard.bush_fire - INFO - Computing maximum brightness for each (lat,lon) point.\n",
      "2019-04-09 16:43:51,655 - climada.hazard.bush_fire - DEBUG - BallTree\n",
      "2019-04-09 16:53:16,994 - climada.hazard.bush_fire - DEBUG - brightness np.array for the event\n",
      "2019-04-09 16:53:17,317 - climada.hazard.bush_fire - DEBUG - Sub-dataframe corresponding to event\n",
      "2019-04-09 16:53:17,372 - climada.hazard.bush_fire - INFO - Identifying closest (lat,lon) points from firms dataframe for each centroid.\n",
      "2019-04-09 16:53:17,395 - climada.hazard.bush_fire - INFO - Computing maximum brightness for each (lat,lon) point.\n"
     ]
    },
    {
     "name": "stdout",
     "output_type": "stream",
     "text": [
      "2019-04-09 16:53:17,862 - climada.hazard.bush_fire - DEBUG - BallTree\n",
      "2019-04-09 16:53:25,103 - climada.hazard.bush_fire - DEBUG - brightness np.array for the event\n",
      "2019-04-09 16:53:25,297 - climada.hazard.bush_fire - DEBUG - Sub-dataframe corresponding to event\n",
      "2019-04-09 16:53:25,313 - climada.hazard.bush_fire - INFO - Identifying closest (lat,lon) points from firms dataframe for each centroid.\n",
      "2019-04-09 16:53:25,322 - climada.hazard.bush_fire - INFO - Computing maximum brightness for each (lat,lon) point.\n",
      "2019-04-09 16:53:25,331 - climada.hazard.bush_fire - DEBUG - BallTree\n"
     ]
    }
   ],
   "source": [
    "%matplotlib inline\n",
    "from climada.util import SOURCE_DIR\n",
    "import os\n",
    "import numpy as np\n",
    "import pandas as pd\n",
    "from climada.hazard.bush_fire import BushFire\n",
    "\n",
    "TEST_FIRMS = os.path.join(SOURCE_DIR, 'hazard/test/data', \"California_firms_Soberanes_2016_viirs.csv\")\n",
    "\n",
    "bf = BushFire()\n",
    "centr_res_factor = 1\n",
    "         \n",
    "bf.set_bush_fire (TEST_FIRMS, centr_res_factor, seed = 8)\n",
    "bf_haz = bf.set_proba_one_event(ev_id = 3, ens_size = 3)"
   ]
  },
  {
   "cell_type": "markdown",
   "metadata": {},
   "source": [
    "The method set_proba_one_event calls the method _random_bushfire_one_event."
   ]
  },
  {
   "cell_type": "markdown",
   "metadata": {},
   "source": [
    "The choice of the ignition centroid of a probabilistic event is three steps process. First a centroid is chosen randomly among the centroids of the historical event associated to a strictly positive intensity. Then a wiggle is applied to the latitude and longitude of the picked centroid. Finally the nearest centroid to this new (lat,lon) point is chosen as ignition point (if it is located on land, otherwise the selection process starts again)."
   ]
  },
  {
   "cell_type": "markdown",
   "metadata": {},
   "source": [
    "The propagation of the fire is a step by step process using the method #_fire_propagation, and repeated until the burned area of the probabilistic event reaches the burned area of the historical event. "
   ]
  },
  {
   "cell_type": "markdown",
   "metadata": {},
   "source": [
    "At each timestep, this method applied the following propagation rules to the 8 neighboring cells: \n",
    "1. an empty centroid becomes a burning centroid with a probability PROP_PROBA if any of its eight neighbouring cells are burning\n",
    "2. an already burning centroid becomes an ember centroid (do not propagate fire anymore but still increases the damage)\n",
    "3. an ember centroid stays an ember centroid\n",
    "The probability to be set on fire (PROP_PROBA) can be adjusted manually. \n",
    "The propagation is limited to centroids located on land."
   ]
  },
  {
   "cell_type": "markdown",
   "metadata": {},
   "source": [
    "After propagating the fire, a brightness is associated to each \"burned\" centroid with the method _event_probabilistic."
   ]
  },
  {
   "cell_type": "markdown",
   "metadata": {},
   "source": [
    "The brightness of each \"burned\" centroid of the new event is randomly picked in the np.array containing the brightness values of the respective historical event. "
   ]
  }
 ],
 "metadata": {
  "kernelspec": {
   "display_name": "Python 3",
   "language": "python",
   "name": "python3"
  },
  "language_info": {
   "codemirror_mode": {
    "name": "ipython",
    "version": 3
   },
   "file_extension": ".py",
   "mimetype": "text/x-python",
   "name": "python",
   "nbconvert_exporter": "python",
   "pygments_lexer": "ipython3",
   "version": "3.7.3"
  }
 },
 "nbformat": 4,
 "nbformat_minor": 2
}
